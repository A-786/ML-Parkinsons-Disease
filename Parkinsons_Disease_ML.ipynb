{
  "nbformat": 4,
  "nbformat_minor": 0,
  "metadata": {
    "colab": {
      "name": "Parkinsons Disease_ML",
      "provenance": [],
      "authorship_tag": "ABX9TyObZ1icvAeOeuKhj14rCmSl",
      "include_colab_link": true
    },
    "kernelspec": {
      "name": "python3",
      "display_name": "Python 3"
    },
    "language_info": {
      "name": "python"
    }
  },
  "cells": [
    {
      "cell_type": "markdown",
      "metadata": {
        "id": "view-in-github",
        "colab_type": "text"
      },
      "source": [
        "<a href=\"https://colab.research.google.com/github/A-786/ML-Parkinsons-Disease/blob/main/Parkinsons_Disease_ML.ipynb\" target=\"_parent\"><img src=\"https://colab.research.google.com/assets/colab-badge.svg\" alt=\"Open In Colab\"/></a>"
      ]
    },
    {
      "cell_type": "markdown",
      "source": [
        "Essential Import and Installation"
      ],
      "metadata": {
        "id": "_-Tc2Uj06sLQ"
      }
    },
    {
      "cell_type": "code",
      "execution_count": null,
      "metadata": {
        "colab": {
          "base_uri": "https://localhost:8080/"
        },
        "id": "OdgETduE6plX",
        "outputId": "153f233d-e0c2-4b0c-bea5-a7e42db28bd7"
      },
      "outputs": [
        {
          "output_type": "stream",
          "name": "stdout",
          "text": [
            "Requirement already satisfied: pandas in /usr/local/lib/python3.7/dist-packages (1.3.5)\n",
            "Requirement already satisfied: pytz>=2017.3 in /usr/local/lib/python3.7/dist-packages (from pandas) (2018.9)\n",
            "Requirement already satisfied: numpy>=1.17.3 in /usr/local/lib/python3.7/dist-packages (from pandas) (1.21.5)\n",
            "Requirement already satisfied: python-dateutil>=2.7.3 in /usr/local/lib/python3.7/dist-packages (from pandas) (2.8.2)\n",
            "Requirement already satisfied: six>=1.5 in /usr/local/lib/python3.7/dist-packages (from python-dateutil>=2.7.3->pandas) (1.15.0)\n"
          ]
        }
      ],
      "source": [
        "!pip install pandas"
      ]
    },
    {
      "cell_type": "code",
      "source": [
        "!pip install numpy"
      ],
      "metadata": {
        "colab": {
          "base_uri": "https://localhost:8080/"
        },
        "id": "j0Ob6-Qb668_",
        "outputId": "cac9d4c0-556f-478a-a6af-83703b475320"
      },
      "execution_count": null,
      "outputs": [
        {
          "output_type": "stream",
          "name": "stdout",
          "text": [
            "Requirement already satisfied: numpy in /usr/local/lib/python3.7/dist-packages (1.21.5)\n"
          ]
        }
      ]
    },
    {
      "cell_type": "code",
      "source": [
        "!pip install sklearn"
      ],
      "metadata": {
        "colab": {
          "base_uri": "https://localhost:8080/"
        },
        "id": "IONc5pG37DE6",
        "outputId": "c969142a-f478-4ea3-d555-8064cdcb68d3"
      },
      "execution_count": null,
      "outputs": [
        {
          "output_type": "stream",
          "name": "stdout",
          "text": [
            "Requirement already satisfied: sklearn in /usr/local/lib/python3.7/dist-packages (0.0)\n",
            "Requirement already satisfied: scikit-learn in /usr/local/lib/python3.7/dist-packages (from sklearn) (1.0.2)\n",
            "Requirement already satisfied: scipy>=1.1.0 in /usr/local/lib/python3.7/dist-packages (from scikit-learn->sklearn) (1.4.1)\n",
            "Requirement already satisfied: threadpoolctl>=2.0.0 in /usr/local/lib/python3.7/dist-packages (from scikit-learn->sklearn) (3.1.0)\n",
            "Requirement already satisfied: joblib>=0.11 in /usr/local/lib/python3.7/dist-packages (from scikit-learn->sklearn) (1.1.0)\n",
            "Requirement already satisfied: numpy>=1.14.6 in /usr/local/lib/python3.7/dist-packages (from scikit-learn->sklearn) (1.21.5)\n"
          ]
        }
      ]
    },
    {
      "cell_type": "code",
      "source": [
        "!pip install decision tree"
      ],
      "metadata": {
        "colab": {
          "base_uri": "https://localhost:8080/"
        },
        "id": "7gpEroTK7G99",
        "outputId": "2ddfdd7a-bd8d-4c6d-b03c-a36c778af317"
      },
      "execution_count": null,
      "outputs": [
        {
          "output_type": "stream",
          "name": "stdout",
          "text": [
            "Collecting decision\n",
            "  Downloading decision-0.2.0-py3-none-any.whl (5.6 kB)\n",
            "Collecting tree\n",
            "  Downloading Tree-0.2.4.tar.gz (6.5 kB)\n",
            "Requirement already satisfied: Pillow in /usr/local/lib/python3.7/dist-packages (from tree) (7.1.2)\n",
            "Collecting svgwrite\n",
            "  Downloading svgwrite-1.4.2-py3-none-any.whl (67 kB)\n",
            "\u001b[K     |████████████████████████████████| 67 kB 4.0 MB/s \n",
            "\u001b[?25hRequirement already satisfied: setuptools in /usr/local/lib/python3.7/dist-packages (from tree) (57.4.0)\n",
            "Requirement already satisfied: click in /usr/local/lib/python3.7/dist-packages (from tree) (7.1.2)\n",
            "Building wheels for collected packages: tree\n",
            "  Building wheel for tree (setup.py) ... \u001b[?25l\u001b[?25hdone\n",
            "  Created wheel for tree: filename=Tree-0.2.4-py3-none-any.whl size=7873 sha256=81102630907d946ad044eee62978afe3c946607534fcdde1f60b9f40739c147a\n",
            "  Stored in directory: /root/.cache/pip/wheels/64/46/53/3a413f321c09b0df8d4a26edd5fc3501c6c1b238497d166638\n",
            "Successfully built tree\n",
            "Installing collected packages: svgwrite, tree, decision\n",
            "Successfully installed decision-0.2.0 svgwrite-1.4.2 tree-0.2.4\n"
          ]
        }
      ]
    },
    {
      "cell_type": "code",
      "source": [
        "!pip install SVC"
      ],
      "metadata": {
        "colab": {
          "base_uri": "https://localhost:8080/"
        },
        "id": "8nwvZxBm7S2n",
        "outputId": "7a67770b-5d9f-41e3-ffce-16141da7c428"
      },
      "execution_count": null,
      "outputs": [
        {
          "output_type": "stream",
          "name": "stdout",
          "text": [
            "Collecting SVC\n",
            "  Downloading SVC-0.1.tar.gz (1.5 kB)\n",
            "Requirement already satisfied: xlrd>=0.9.3 in /usr/local/lib/python3.7/dist-packages (from SVC) (1.1.0)\n",
            "Building wheels for collected packages: SVC\n",
            "  Building wheel for SVC (setup.py) ... \u001b[?25l\u001b[?25hdone\n",
            "  Created wheel for SVC: filename=SVC-0.1-py3-none-any.whl size=1891 sha256=56649fde45c8b2bfaa5a5e83eecc30cbd5fb430e43569cdbc28286b0f3ca5bb8\n",
            "  Stored in directory: /root/.cache/pip/wheels/a8/05/19/97c2a15450caccc712f403b15e6cd5dc32decd32603156aacb\n",
            "Successfully built SVC\n",
            "Installing collected packages: SVC\n",
            "Successfully installed SVC-0.1\n"
          ]
        }
      ]
    },
    {
      "cell_type": "code",
      "source": [
        "!pip install ensemble"
      ],
      "metadata": {
        "colab": {
          "base_uri": "https://localhost:8080/"
        },
        "id": "b33my28d7W0Q",
        "outputId": "a1d5e263-dee7-4f5b-b898-757c9ee70996"
      },
      "execution_count": null,
      "outputs": [
        {
          "output_type": "stream",
          "name": "stdout",
          "text": [
            "Collecting ensemble\n",
            "  Downloading ensemble-0.0.dev1.tar.gz (3.4 kB)\n",
            "Requirement already satisfied: docopt in /usr/local/lib/python3.7/dist-packages (from ensemble) (0.6.2)\n",
            "Requirement already satisfied: lxml in /usr/local/lib/python3.7/dist-packages (from ensemble) (4.2.6)\n",
            "Requirement already satisfied: numpy in /usr/local/lib/python3.7/dist-packages (from ensemble) (1.21.5)\n",
            "Requirement already satisfied: pandas in /usr/local/lib/python3.7/dist-packages (from ensemble) (1.3.5)\n",
            "Collecting pyprind\n",
            "  Downloading PyPrind-2.11.3-py2.py3-none-any.whl (8.4 kB)\n",
            "Collecting pysut\n",
            "  Downloading pysut-1.1.zip (30 kB)\n",
            "Requirement already satisfied: pytest in /usr/local/lib/python3.7/dist-packages (from ensemble) (3.6.4)\n",
            "Collecting stats_arrays\n",
            "  Downloading stats_arrays-0.6.5.tar.gz (23 kB)\n",
            "Requirement already satisfied: wrapt in /usr/local/lib/python3.7/dist-packages (from ensemble) (1.14.0)\n",
            "Requirement already satisfied: pytz>=2017.3 in /usr/local/lib/python3.7/dist-packages (from pandas->ensemble) (2018.9)\n",
            "Requirement already satisfied: python-dateutil>=2.7.3 in /usr/local/lib/python3.7/dist-packages (from pandas->ensemble) (2.8.2)\n",
            "Requirement already satisfied: six>=1.5 in /usr/local/lib/python3.7/dist-packages (from python-dateutil>=2.7.3->pandas->ensemble) (1.15.0)\n",
            "Requirement already satisfied: scipy in /usr/local/lib/python3.7/dist-packages (from pysut->ensemble) (1.4.1)\n",
            "Requirement already satisfied: pluggy<0.8,>=0.5 in /usr/local/lib/python3.7/dist-packages (from pytest->ensemble) (0.7.1)\n",
            "Requirement already satisfied: atomicwrites>=1.0 in /usr/local/lib/python3.7/dist-packages (from pytest->ensemble) (1.4.0)\n",
            "Requirement already satisfied: setuptools in /usr/local/lib/python3.7/dist-packages (from pytest->ensemble) (57.4.0)\n",
            "Requirement already satisfied: more-itertools>=4.0.0 in /usr/local/lib/python3.7/dist-packages (from pytest->ensemble) (8.12.0)\n",
            "Requirement already satisfied: attrs>=17.4.0 in /usr/local/lib/python3.7/dist-packages (from pytest->ensemble) (21.4.0)\n",
            "Requirement already satisfied: py>=1.5.0 in /usr/local/lib/python3.7/dist-packages (from pytest->ensemble) (1.11.0)\n",
            "Building wheels for collected packages: ensemble, pysut, stats-arrays\n",
            "  Building wheel for ensemble (setup.py) ... \u001b[?25l\u001b[?25hdone\n",
            "  Created wheel for ensemble: filename=ensemble-0.0.dev1-py3-none-any.whl size=4435 sha256=1206ada871cafaecab55f595364681ac49bd3f7ca585fa09984a5698308594d0\n",
            "  Stored in directory: /root/.cache/pip/wheels/91/54/86/b7b514647456eadc4b1a0b7d86b2294bb860378a1bad7ae44e\n",
            "  Building wheel for pysut (setup.py) ... \u001b[?25l\u001b[?25hdone\n",
            "  Created wheel for pysut: filename=pysut-1.1-py3-none-any.whl size=29074 sha256=18c476ed574255420bb32f5734e45a5052d2432cc0c633f2045e355d9099073c\n",
            "  Stored in directory: /root/.cache/pip/wheels/d4/dc/99/39794608052e2c4d412705dba33ee6b6eafbcb19918f65b2dd\n",
            "  Building wheel for stats-arrays (setup.py) ... \u001b[?25l\u001b[?25hdone\n",
            "  Created wheel for stats-arrays: filename=stats_arrays-0.6.5-py3-none-any.whl size=26354 sha256=8e3ba6bee44578b0d4992264455943f5001ef9a6b79985bab40485779b59adca\n",
            "  Stored in directory: /root/.cache/pip/wheels/04/ff/51/6c9ee2f6fd52a317e0c84222266eb8c145e518b2f5e9c2f3ff\n",
            "Successfully built ensemble pysut stats-arrays\n",
            "Installing collected packages: stats-arrays, pysut, pyprind, ensemble\n",
            "Successfully installed ensemble-0.0.dev1 pyprind-2.11.3 pysut-1.1 stats-arrays-0.6.5\n"
          ]
        }
      ]
    },
    {
      "cell_type": "code",
      "source": [
        "!pip install linearregression"
      ],
      "metadata": {
        "colab": {
          "base_uri": "https://localhost:8080/"
        },
        "id": "N73-_sSO7dXs",
        "outputId": "cc387229-5fcf-4b99-a4a6-227dcdb071ce"
      },
      "execution_count": null,
      "outputs": [
        {
          "output_type": "stream",
          "name": "stdout",
          "text": [
            "Collecting linearregression\n",
            "  Downloading LinearRegression-0.0.1-py3-none-any.whl (2.7 kB)\n",
            "Installing collected packages: linearregression\n",
            "Successfully installed linearregression-0.0.1\n"
          ]
        }
      ]
    },
    {
      "cell_type": "code",
      "source": [
        "!pip install xgboost"
      ],
      "metadata": {
        "colab": {
          "base_uri": "https://localhost:8080/"
        },
        "id": "IW2xwXmB7lW_",
        "outputId": "76f41662-ef76-4848-bdaf-fc59615ddb80"
      },
      "execution_count": null,
      "outputs": [
        {
          "output_type": "stream",
          "name": "stdout",
          "text": [
            "Requirement already satisfied: xgboost in /usr/local/lib/python3.7/dist-packages (0.90)\n",
            "Requirement already satisfied: numpy in /usr/local/lib/python3.7/dist-packages (from xgboost) (1.21.5)\n",
            "Requirement already satisfied: scipy in /usr/local/lib/python3.7/dist-packages (from xgboost) (1.4.1)\n"
          ]
        }
      ]
    },
    {
      "cell_type": "code",
      "source": [
        "!pip install https://github.com/scikit-learn/scikit-learn/archive/master.zip\n"
      ],
      "metadata": {
        "colab": {
          "base_uri": "https://localhost:8080/"
        },
        "id": "3qaONsnC7rub",
        "outputId": "778975a4-7bd7-44f5-b8e4-a6d9c4b097c3"
      },
      "execution_count": null,
      "outputs": [
        {
          "output_type": "stream",
          "name": "stdout",
          "text": [
            "Collecting https://github.com/scikit-learn/scikit-learn/archive/master.zip\n",
            "  Downloading https://github.com/scikit-learn/scikit-learn/archive/master.zip\n",
            "\u001b[K     | 7.6 MB 339 kB/s\n",
            "\u001b[?25h  Installing build dependencies ... \u001b[?25l\u001b[?25hcanceled\n",
            "\u001b[31mERROR: Operation cancelled by user\u001b[0m\n",
            "Traceback (most recent call last):\n",
            "  File \"/usr/local/bin/pip3\", line 8, in <module>\n",
            "    sys.exit(main())\n",
            "  File \"/usr/local/lib/python3.7/dist-packages/pip/_internal/cli/main.py\", line 71, in main\n",
            "    return command.main(cmd_args)\n",
            "  File \"/usr/local/lib/python3.7/dist-packages/pip/_internal/cli/base_command.py\", line 104, in main\n",
            "    return self._main(args)\n",
            "  File \"/usr/local/lib/python3.7/dist-packages/pip/_internal/cli/base_command.py\", line 215, in _main\n",
            "    return ERROR\n",
            "KeyboardInterrupt\n"
          ]
        }
      ]
    },
    {
      "cell_type": "code",
      "source": [
        "!pip install Scalar"
      ],
      "metadata": {
        "colab": {
          "base_uri": "https://localhost:8080/"
        },
        "id": "6Qv_j0om71A9",
        "outputId": "8a7b0a29-a120-4e8e-98fb-403db25418f4"
      },
      "execution_count": null,
      "outputs": [
        {
          "output_type": "stream",
          "name": "stdout",
          "text": [
            "Collecting Scalar\n",
            "  Downloading scalar-2018.9.10.2016.tar.gz (5.1 kB)\n",
            "Requirement already satisfied: docopt in /usr/local/lib/python3.7/dist-packages (from Scalar) (0.6.2)\n",
            "Collecting matrix_client\n",
            "  Downloading matrix_client-0.4.0-py2.py3-none-any.whl (43 kB)\n",
            "\u001b[K     |████████████████████████████████| 43 kB 1.4 MB/s \n",
            "\u001b[?25hCollecting megaparsex\n",
            "  Downloading megaparsex-2018.2.12.2333.tar.gz (20 kB)\n",
            "Collecting pyprel\n",
            "  Downloading pyprel-2018.9.14.1501.tar.gz (8.3 kB)\n",
            "Requirement already satisfied: pyyaml in /usr/local/lib/python3.7/dist-packages (from Scalar) (3.13)\n",
            "Collecting technicolor\n",
            "  Downloading technicolor-2017.1.16.1544.tar.gz (15 kB)\n",
            "Requirement already satisfied: requests~=2.22 in /usr/local/lib/python3.7/dist-packages (from matrix_client->Scalar) (2.23.0)\n",
            "Requirement already satisfied: urllib3~=1.21 in /usr/local/lib/python3.7/dist-packages (from matrix_client->Scalar) (1.24.3)\n",
            "Requirement already satisfied: chardet<4,>=3.0.2 in /usr/local/lib/python3.7/dist-packages (from requests~=2.22->matrix_client->Scalar) (3.0.4)\n",
            "Requirement already satisfied: idna<3,>=2.5 in /usr/local/lib/python3.7/dist-packages (from requests~=2.22->matrix_client->Scalar) (2.10)\n",
            "Requirement already satisfied: certifi>=2017.4.17 in /usr/local/lib/python3.7/dist-packages (from requests~=2.22->matrix_client->Scalar) (2021.10.8)\n",
            "Collecting AWRS\n",
            "  Downloading AWRS-2019.8.14.1152.tar.gz (2.9 kB)\n",
            "Requirement already satisfied: psutil in /usr/local/lib/python3.7/dist-packages (from megaparsex->Scalar) (5.4.8)\n",
            "Collecting folktales\n",
            "  Downloading folktales-2018.5.3.245.tar.gz (3.9 kB)\n",
            "Collecting dataset\n",
            "  Downloading dataset-1.5.2-py2.py3-none-any.whl (18 kB)\n",
            "Requirement already satisfied: pandas in /usr/local/lib/python3.7/dist-packages (from folktales->AWRS->megaparsex->Scalar) (1.3.5)\n",
            "Collecting banal>=1.0.1\n",
            "  Downloading banal-1.0.6-py2.py3-none-any.whl (6.1 kB)\n",
            "Requirement already satisfied: sqlalchemy>=1.3.2 in /usr/local/lib/python3.7/dist-packages (from dataset->folktales->AWRS->megaparsex->Scalar) (1.4.32)\n",
            "Collecting alembic>=0.6.2\n",
            "  Downloading alembic-1.7.7-py3-none-any.whl (210 kB)\n",
            "\u001b[K     |████████████████████████████████| 210 kB 13.9 MB/s \n",
            "\u001b[?25hRequirement already satisfied: importlib-metadata in /usr/local/lib/python3.7/dist-packages (from alembic>=0.6.2->dataset->folktales->AWRS->megaparsex->Scalar) (4.11.3)\n",
            "Collecting Mako\n",
            "  Downloading Mako-1.2.0-py3-none-any.whl (78 kB)\n",
            "\u001b[K     |████████████████████████████████| 78 kB 7.8 MB/s \n",
            "\u001b[?25hRequirement already satisfied: importlib-resources in /usr/local/lib/python3.7/dist-packages (from alembic>=0.6.2->dataset->folktales->AWRS->megaparsex->Scalar) (5.4.0)\n",
            "Requirement already satisfied: greenlet!=0.4.17 in /usr/local/lib/python3.7/dist-packages (from sqlalchemy>=1.3.2->dataset->folktales->AWRS->megaparsex->Scalar) (1.1.2)\n",
            "Requirement already satisfied: typing-extensions>=3.6.4 in /usr/local/lib/python3.7/dist-packages (from importlib-metadata->alembic>=0.6.2->dataset->folktales->AWRS->megaparsex->Scalar) (3.10.0.2)\n",
            "Requirement already satisfied: zipp>=0.5 in /usr/local/lib/python3.7/dist-packages (from importlib-metadata->alembic>=0.6.2->dataset->folktales->AWRS->megaparsex->Scalar) (3.7.0)\n",
            "Requirement already satisfied: MarkupSafe>=0.9.2 in /usr/local/lib/python3.7/dist-packages (from Mako->alembic>=0.6.2->dataset->folktales->AWRS->megaparsex->Scalar) (2.0.1)\n",
            "Requirement already satisfied: numpy>=1.17.3 in /usr/local/lib/python3.7/dist-packages (from pandas->folktales->AWRS->megaparsex->Scalar) (1.21.5)\n",
            "Requirement already satisfied: pytz>=2017.3 in /usr/local/lib/python3.7/dist-packages (from pandas->folktales->AWRS->megaparsex->Scalar) (2018.9)\n",
            "Requirement already satisfied: python-dateutil>=2.7.3 in /usr/local/lib/python3.7/dist-packages (from pandas->folktales->AWRS->megaparsex->Scalar) (2.8.2)\n",
            "Requirement already satisfied: six>=1.5 in /usr/local/lib/python3.7/dist-packages (from python-dateutil>=2.7.3->pandas->folktales->AWRS->megaparsex->Scalar) (1.15.0)\n",
            "Requirement already satisfied: Pillow in /usr/local/lib/python3.7/dist-packages (from pyprel->Scalar) (7.1.2)\n",
            "Collecting pyfiglet\n",
            "  Downloading pyfiglet-0.8.post1-py2.py3-none-any.whl (865 kB)\n",
            "\u001b[K     |████████████████████████████████| 865 kB 54.8 MB/s \n",
            "\u001b[?25hCollecting shijian\n",
            "  Downloading shijian-2020.1.29.1857.tar.gz (18 kB)\n",
            "Requirement already satisfied: ipywidgets in /usr/local/lib/python3.7/dist-packages (from shijian->pyprel->Scalar) (7.7.0)\n",
            "Requirement already satisfied: matplotlib in /usr/local/lib/python3.7/dist-packages (from shijian->pyprel->Scalar) (3.2.2)\n",
            "Requirement already satisfied: scipy in /usr/local/lib/python3.7/dist-packages (from shijian->pyprel->Scalar) (1.4.1)\n",
            "Requirement already satisfied: seaborn in /usr/local/lib/python3.7/dist-packages (from shijian->pyprel->Scalar) (0.11.2)\n",
            "Requirement already satisfied: sklearn in /usr/local/lib/python3.7/dist-packages (from shijian->pyprel->Scalar) (0.0)\n",
            "Requirement already satisfied: traitlets>=4.3.1 in /usr/local/lib/python3.7/dist-packages (from ipywidgets->shijian->pyprel->Scalar) (5.1.1)\n",
            "Requirement already satisfied: ipykernel>=4.5.1 in /usr/local/lib/python3.7/dist-packages (from ipywidgets->shijian->pyprel->Scalar) (4.10.1)\n",
            "Requirement already satisfied: jupyterlab-widgets>=1.0.0 in /usr/local/lib/python3.7/dist-packages (from ipywidgets->shijian->pyprel->Scalar) (1.1.0)\n",
            "Requirement already satisfied: ipython-genutils~=0.2.0 in /usr/local/lib/python3.7/dist-packages (from ipywidgets->shijian->pyprel->Scalar) (0.2.0)\n",
            "Requirement already satisfied: ipython>=4.0.0 in /usr/local/lib/python3.7/dist-packages (from ipywidgets->shijian->pyprel->Scalar) (5.5.0)\n",
            "Requirement already satisfied: nbformat>=4.2.0 in /usr/local/lib/python3.7/dist-packages (from ipywidgets->shijian->pyprel->Scalar) (5.2.0)\n",
            "Requirement already satisfied: widgetsnbextension~=3.6.0 in /usr/local/lib/python3.7/dist-packages (from ipywidgets->shijian->pyprel->Scalar) (3.6.0)\n",
            "Requirement already satisfied: tornado>=4.0 in /usr/local/lib/python3.7/dist-packages (from ipykernel>=4.5.1->ipywidgets->shijian->pyprel->Scalar) (5.1.1)\n",
            "Requirement already satisfied: jupyter-client in /usr/local/lib/python3.7/dist-packages (from ipykernel>=4.5.1->ipywidgets->shijian->pyprel->Scalar) (5.3.5)\n",
            "Requirement already satisfied: prompt-toolkit<2.0.0,>=1.0.4 in /usr/local/lib/python3.7/dist-packages (from ipython>=4.0.0->ipywidgets->shijian->pyprel->Scalar) (1.0.18)\n",
            "Requirement already satisfied: pygments in /usr/local/lib/python3.7/dist-packages (from ipython>=4.0.0->ipywidgets->shijian->pyprel->Scalar) (2.6.1)\n",
            "Requirement already satisfied: setuptools>=18.5 in /usr/local/lib/python3.7/dist-packages (from ipython>=4.0.0->ipywidgets->shijian->pyprel->Scalar) (57.4.0)\n",
            "Requirement already satisfied: simplegeneric>0.8 in /usr/local/lib/python3.7/dist-packages (from ipython>=4.0.0->ipywidgets->shijian->pyprel->Scalar) (0.8.1)\n",
            "Requirement already satisfied: pickleshare in /usr/local/lib/python3.7/dist-packages (from ipython>=4.0.0->ipywidgets->shijian->pyprel->Scalar) (0.7.5)\n",
            "Requirement already satisfied: pexpect in /usr/local/lib/python3.7/dist-packages (from ipython>=4.0.0->ipywidgets->shijian->pyprel->Scalar) (4.8.0)\n",
            "Requirement already satisfied: decorator in /usr/local/lib/python3.7/dist-packages (from ipython>=4.0.0->ipywidgets->shijian->pyprel->Scalar) (4.4.2)\n",
            "Requirement already satisfied: jsonschema!=2.5.0,>=2.4 in /usr/local/lib/python3.7/dist-packages (from nbformat>=4.2.0->ipywidgets->shijian->pyprel->Scalar) (4.3.3)\n",
            "Requirement already satisfied: jupyter-core in /usr/local/lib/python3.7/dist-packages (from nbformat>=4.2.0->ipywidgets->shijian->pyprel->Scalar) (4.9.2)\n",
            "Requirement already satisfied: pyrsistent!=0.17.0,!=0.17.1,!=0.17.2,>=0.14.0 in /usr/local/lib/python3.7/dist-packages (from jsonschema!=2.5.0,>=2.4->nbformat>=4.2.0->ipywidgets->shijian->pyprel->Scalar) (0.18.1)\n",
            "Requirement already satisfied: attrs>=17.4.0 in /usr/local/lib/python3.7/dist-packages (from jsonschema!=2.5.0,>=2.4->nbformat>=4.2.0->ipywidgets->shijian->pyprel->Scalar) (21.4.0)\n",
            "Requirement already satisfied: wcwidth in /usr/local/lib/python3.7/dist-packages (from prompt-toolkit<2.0.0,>=1.0.4->ipython>=4.0.0->ipywidgets->shijian->pyprel->Scalar) (0.2.5)\n",
            "Requirement already satisfied: notebook>=4.4.1 in /usr/local/lib/python3.7/dist-packages (from widgetsnbextension~=3.6.0->ipywidgets->shijian->pyprel->Scalar) (5.3.1)\n",
            "Requirement already satisfied: jinja2 in /usr/local/lib/python3.7/dist-packages (from notebook>=4.4.1->widgetsnbextension~=3.6.0->ipywidgets->shijian->pyprel->Scalar) (2.11.3)\n",
            "Requirement already satisfied: nbconvert in /usr/local/lib/python3.7/dist-packages (from notebook>=4.4.1->widgetsnbextension~=3.6.0->ipywidgets->shijian->pyprel->Scalar) (5.6.1)\n",
            "Requirement already satisfied: terminado>=0.8.1 in /usr/local/lib/python3.7/dist-packages (from notebook>=4.4.1->widgetsnbextension~=3.6.0->ipywidgets->shijian->pyprel->Scalar) (0.13.3)\n",
            "Requirement already satisfied: Send2Trash in /usr/local/lib/python3.7/dist-packages (from notebook>=4.4.1->widgetsnbextension~=3.6.0->ipywidgets->shijian->pyprel->Scalar) (1.8.0)\n",
            "Requirement already satisfied: pyzmq>=13 in /usr/local/lib/python3.7/dist-packages (from jupyter-client->ipykernel>=4.5.1->ipywidgets->shijian->pyprel->Scalar) (22.3.0)\n",
            "Requirement already satisfied: ptyprocess in /usr/local/lib/python3.7/dist-packages (from terminado>=0.8.1->notebook>=4.4.1->widgetsnbextension~=3.6.0->ipywidgets->shijian->pyprel->Scalar) (0.7.0)\n",
            "Requirement already satisfied: cycler>=0.10 in /usr/local/lib/python3.7/dist-packages (from matplotlib->shijian->pyprel->Scalar) (0.11.0)\n",
            "Requirement already satisfied: kiwisolver>=1.0.1 in /usr/local/lib/python3.7/dist-packages (from matplotlib->shijian->pyprel->Scalar) (1.4.0)\n",
            "Requirement already satisfied: pyparsing!=2.0.4,!=2.1.2,!=2.1.6,>=2.0.1 in /usr/local/lib/python3.7/dist-packages (from matplotlib->shijian->pyprel->Scalar) (3.0.7)\n",
            "Requirement already satisfied: mistune<2,>=0.8.1 in /usr/local/lib/python3.7/dist-packages (from nbconvert->notebook>=4.4.1->widgetsnbextension~=3.6.0->ipywidgets->shijian->pyprel->Scalar) (0.8.4)\n",
            "Requirement already satisfied: entrypoints>=0.2.2 in /usr/local/lib/python3.7/dist-packages (from nbconvert->notebook>=4.4.1->widgetsnbextension~=3.6.0->ipywidgets->shijian->pyprel->Scalar) (0.4)\n",
            "Requirement already satisfied: testpath in /usr/local/lib/python3.7/dist-packages (from nbconvert->notebook>=4.4.1->widgetsnbextension~=3.6.0->ipywidgets->shijian->pyprel->Scalar) (0.6.0)\n",
            "Requirement already satisfied: defusedxml in /usr/local/lib/python3.7/dist-packages (from nbconvert->notebook>=4.4.1->widgetsnbextension~=3.6.0->ipywidgets->shijian->pyprel->Scalar) (0.7.1)\n",
            "Requirement already satisfied: bleach in /usr/local/lib/python3.7/dist-packages (from nbconvert->notebook>=4.4.1->widgetsnbextension~=3.6.0->ipywidgets->shijian->pyprel->Scalar) (4.1.0)\n",
            "Requirement already satisfied: pandocfilters>=1.4.1 in /usr/local/lib/python3.7/dist-packages (from nbconvert->notebook>=4.4.1->widgetsnbextension~=3.6.0->ipywidgets->shijian->pyprel->Scalar) (1.5.0)\n",
            "Requirement already satisfied: packaging in /usr/local/lib/python3.7/dist-packages (from bleach->nbconvert->notebook>=4.4.1->widgetsnbextension~=3.6.0->ipywidgets->shijian->pyprel->Scalar) (21.3)\n",
            "Requirement already satisfied: webencodings in /usr/local/lib/python3.7/dist-packages (from bleach->nbconvert->notebook>=4.4.1->widgetsnbextension~=3.6.0->ipywidgets->shijian->pyprel->Scalar) (0.5.1)\n",
            "Requirement already satisfied: scikit-learn in /usr/local/lib/python3.7/dist-packages (from sklearn->shijian->pyprel->Scalar) (1.0.2)\n",
            "Requirement already satisfied: threadpoolctl>=2.0.0 in /usr/local/lib/python3.7/dist-packages (from scikit-learn->sklearn->shijian->pyprel->Scalar) (3.1.0)\n",
            "Requirement already satisfied: joblib>=0.11 in /usr/local/lib/python3.7/dist-packages (from scikit-learn->sklearn->shijian->pyprel->Scalar) (1.1.0)\n",
            "Building wheels for collected packages: Scalar, megaparsex, AWRS, folktales, pyprel, shijian, technicolor\n",
            "  Building wheel for Scalar (setup.py) ... \u001b[?25l\u001b[?25hdone\n",
            "  Created wheel for Scalar: filename=scalar-2018.9.10.2016-py3-none-any.whl size=5863 sha256=e89b05513cb3bf0801fdfd07b6f7201226e3fdd11869daf4da9e2542fd5bc164\n",
            "  Stored in directory: /root/.cache/pip/wheels/66/ef/89/787437a0378b4ebac779951f2161bb8079e2a9fb105606bdaf\n",
            "  Building wheel for megaparsex (setup.py) ... \u001b[?25l\u001b[?25hdone\n",
            "  Created wheel for megaparsex: filename=megaparsex-2018.2.12.2333-py3-none-any.whl size=18663 sha256=fcd25bf91084293c78b8c577d6b7c54b648a291461e8ee03c7363e6e751d30c1\n",
            "  Stored in directory: /root/.cache/pip/wheels/b3/fa/de/ef780f77fb4f25dc69f291d0245bbd053a5343d6254040e724\n",
            "  Building wheel for AWRS (setup.py) ... \u001b[?25l\u001b[?25hdone\n",
            "  Created wheel for AWRS: filename=AWRS-2019.8.14.1152-py3-none-any.whl size=3336 sha256=603173b9879710c07cfbc6df1df4f81ee7f273679d329c6004eaff913af299f6\n",
            "  Stored in directory: /root/.cache/pip/wheels/db/e9/dd/6bd887f6e2df22ce6cdbb448addd79a605872ad12c9dec8db3\n",
            "  Building wheel for folktales (setup.py) ... \u001b[?25l\u001b[?25hdone\n",
            "  Created wheel for folktales: filename=folktales-2018.5.3.245-py3-none-any.whl size=3972 sha256=4eea464ad932452477f17b69c6277138395c96abc7eecc4a9f0e89c05a05d0a0\n",
            "  Stored in directory: /root/.cache/pip/wheels/d3/59/2c/4e84e7a1d332fbdb6e21e08144932a81444a39e10dae6541e9\n",
            "  Building wheel for pyprel (setup.py) ... \u001b[?25l\u001b[?25hdone\n",
            "  Created wheel for pyprel: filename=pyprel-2018.9.14.1501-py3-none-any.whl size=8109 sha256=30824307b9620fc11aa3926c1bf21fa57eb414bc2bdb6d0490b63f4091de6980\n",
            "  Stored in directory: /root/.cache/pip/wheels/dc/55/74/d55d1d26ea6542ddd5cbd14ce631c5e94af1cb822f658f6f90\n",
            "  Building wheel for shijian (setup.py) ... \u001b[?25l\u001b[?25hdone\n",
            "  Created wheel for shijian: filename=shijian-2020.1.29.1857-py3-none-any.whl size=15622 sha256=c4f0a459ab68e5b9a18c25e39bd9559c19b3fbaa190f0b1c4266c99463cde9dd\n",
            "  Stored in directory: /root/.cache/pip/wheels/ae/05/79/ee27ac4e1f34009dba5a926be74da58a0116f4a42579bd49b9\n",
            "  Building wheel for technicolor (setup.py) ... \u001b[?25l\u001b[?25hdone\n",
            "  Created wheel for technicolor: filename=technicolor-2017.1.16.1544-py3-none-any.whl size=15967 sha256=435e04a26306bb39aacb0ca14b491054a30bd5c0811010f8fb3e62b4108b4433\n",
            "  Stored in directory: /root/.cache/pip/wheels/11/c2/d3/7b94e0c8f3b3678104c893077271a015911ed0de8dc7ebb37c\n",
            "Successfully built Scalar megaparsex AWRS folktales pyprel shijian technicolor\n",
            "Installing collected packages: Mako, banal, alembic, technicolor, dataset, folktales, shijian, pyfiglet, AWRS, pyprel, megaparsex, matrix-client, Scalar\n",
            "Successfully installed AWRS-2019.8.14.1152 Mako-1.2.0 Scalar-2018.9.10.2016 alembic-1.7.7 banal-1.0.6 dataset-1.5.2 folktales-2018.5.3.245 matrix-client-0.4.0 megaparsex-2018.2.12.2333 pyfiglet-0.8.post1 pyprel-2018.9.14.1501 shijian-2020.1.29.1857 technicolor-2017.1.16.1544\n"
          ]
        }
      ]
    },
    {
      "cell_type": "code",
      "source": [
        "!pip install matplotlib"
      ],
      "metadata": {
        "colab": {
          "base_uri": "https://localhost:8080/"
        },
        "id": "64A3Iuu98Pbo",
        "outputId": "018b0f49-0ef9-4d0e-a0db-cc50d8c83191"
      },
      "execution_count": null,
      "outputs": [
        {
          "output_type": "stream",
          "name": "stdout",
          "text": [
            "Requirement already satisfied: matplotlib in /usr/local/lib/python3.7/dist-packages (3.2.2)\n",
            "Requirement already satisfied: kiwisolver>=1.0.1 in /usr/local/lib/python3.7/dist-packages (from matplotlib) (1.4.0)\n",
            "Requirement already satisfied: cycler>=0.10 in /usr/local/lib/python3.7/dist-packages (from matplotlib) (0.11.0)\n",
            "Requirement already satisfied: numpy>=1.11 in /usr/local/lib/python3.7/dist-packages (from matplotlib) (1.21.5)\n",
            "Requirement already satisfied: pyparsing!=2.0.4,!=2.1.2,!=2.1.6,>=2.0.1 in /usr/local/lib/python3.7/dist-packages (from matplotlib) (3.0.7)\n",
            "Requirement already satisfied: python-dateutil>=2.1 in /usr/local/lib/python3.7/dist-packages (from matplotlib) (2.8.2)\n",
            "Requirement already satisfied: typing-extensions in /usr/local/lib/python3.7/dist-packages (from kiwisolver>=1.0.1->matplotlib) (3.10.0.2)\n",
            "Requirement already satisfied: six>=1.5 in /usr/local/lib/python3.7/dist-packages (from python-dateutil>=2.1->matplotlib) (1.15.0)\n"
          ]
        }
      ]
    },
    {
      "cell_type": "code",
      "source": [
        "!pip install metrics"
      ],
      "metadata": {
        "colab": {
          "base_uri": "https://localhost:8080/",
          "height": 554
        },
        "id": "aEk2lt3I8XmV",
        "outputId": "68a6e35e-c088-48ef-ef4a-36dd1cd5e119"
      },
      "execution_count": null,
      "outputs": [
        {
          "output_type": "stream",
          "name": "stdout",
          "text": [
            "Collecting metrics\n",
            "  Downloading metrics-0.3.3.tar.gz (18 kB)\n",
            "Collecting Pygments==2.2.0\n",
            "  Downloading Pygments-2.2.0-py2.py3-none-any.whl (841 kB)\n",
            "\u001b[K     |████████████████████████████████| 841 kB 7.4 MB/s \n",
            "\u001b[?25hCollecting pathspec==0.5.5\n",
            "  Downloading pathspec-0.5.5.tar.gz (21 kB)\n",
            "Collecting pathlib2>=2.3.0\n",
            "  Downloading pathlib2-2.3.7.post1-py2.py3-none-any.whl (18 kB)\n",
            "Requirement already satisfied: six in /usr/local/lib/python3.7/dist-packages (from pathlib2>=2.3.0->metrics) (1.15.0)\n",
            "Building wheels for collected packages: metrics, pathspec\n",
            "  Building wheel for metrics (setup.py) ... \u001b[?25l\u001b[?25hdone\n",
            "  Created wheel for metrics: filename=metrics-0.3.3-py2.py3-none-any.whl size=17816 sha256=be2e685be55366240d572c5fc3709fb27d84c98ba1918884efc8ea9ddee4b513\n",
            "  Stored in directory: /root/.cache/pip/wheels/54/98/67/aa136e6754d2105b31e0f43c72a208c94d812c9e1d9f18d971\n",
            "  Building wheel for pathspec (setup.py) ... \u001b[?25l\u001b[?25hdone\n",
            "  Created wheel for pathspec: filename=pathspec-0.5.5-py3-none-any.whl size=24234 sha256=151913a90bf49db8d3396ec356d542908ab93020e2cd089ba2cf79348e284f73\n",
            "  Stored in directory: /root/.cache/pip/wheels/09/97/ce/98234adaab0cf5b2c3a1b6610ada24e6f7ab3675fff4e0b8b2\n",
            "Successfully built metrics pathspec\n",
            "Installing collected packages: Pygments, pathspec, pathlib2, metrics\n",
            "  Attempting uninstall: Pygments\n",
            "    Found existing installation: Pygments 2.6.1\n",
            "    Uninstalling Pygments-2.6.1:\n",
            "      Successfully uninstalled Pygments-2.6.1\n",
            "\u001b[31mERROR: pip's dependency resolver does not currently take into account all the packages that are installed. This behaviour is the source of the following dependency conflicts.\n",
            "datascience 0.10.6 requires folium==0.2.1, but you have folium 0.8.3 which is incompatible.\u001b[0m\n",
            "Successfully installed Pygments-2.2.0 metrics-0.3.3 pathlib2-2.3.7.post1 pathspec-0.5.5\n"
          ]
        },
        {
          "output_type": "display_data",
          "data": {
            "application/vnd.colab-display-data+json": {
              "pip_warning": {
                "packages": [
                  "pygments"
                ]
              }
            }
          },
          "metadata": {}
        }
      ]
    },
    {
      "cell_type": "code",
      "source": [
        "!pip install seaborn"
      ],
      "metadata": {
        "colab": {
          "base_uri": "https://localhost:8080/"
        },
        "id": "TtpgJ6Wg8cv3",
        "outputId": "4db1b5af-8861-4c93-a416-5aac6dcd06b6"
      },
      "execution_count": null,
      "outputs": [
        {
          "output_type": "stream",
          "name": "stdout",
          "text": [
            "Requirement already satisfied: seaborn in /usr/local/lib/python3.7/dist-packages (0.11.2)\n",
            "Requirement already satisfied: pandas>=0.23 in /usr/local/lib/python3.7/dist-packages (from seaborn) (1.3.5)\n",
            "Requirement already satisfied: scipy>=1.0 in /usr/local/lib/python3.7/dist-packages (from seaborn) (1.4.1)\n",
            "Requirement already satisfied: numpy>=1.15 in /usr/local/lib/python3.7/dist-packages (from seaborn) (1.21.5)\n",
            "Requirement already satisfied: matplotlib>=2.2 in /usr/local/lib/python3.7/dist-packages (from seaborn) (3.2.2)\n",
            "Requirement already satisfied: pyparsing!=2.0.4,!=2.1.2,!=2.1.6,>=2.0.1 in /usr/local/lib/python3.7/dist-packages (from matplotlib>=2.2->seaborn) (3.0.7)\n",
            "Requirement already satisfied: python-dateutil>=2.1 in /usr/local/lib/python3.7/dist-packages (from matplotlib>=2.2->seaborn) (2.8.2)\n",
            "Requirement already satisfied: cycler>=0.10 in /usr/local/lib/python3.7/dist-packages (from matplotlib>=2.2->seaborn) (0.11.0)\n",
            "Requirement already satisfied: kiwisolver>=1.0.1 in /usr/local/lib/python3.7/dist-packages (from matplotlib>=2.2->seaborn) (1.4.0)\n",
            "Requirement already satisfied: typing-extensions in /usr/local/lib/python3.7/dist-packages (from kiwisolver>=1.0.1->matplotlib>=2.2->seaborn) (3.10.0.2)\n",
            "Requirement already satisfied: pytz>=2017.3 in /usr/local/lib/python3.7/dist-packages (from pandas>=0.23->seaborn) (2018.9)\n",
            "Requirement already satisfied: six>=1.5 in /usr/local/lib/python3.7/dist-packages (from python-dateutil>=2.1->matplotlib>=2.2->seaborn) (1.15.0)\n"
          ]
        }
      ]
    },
    {
      "cell_type": "code",
      "source": [
        "!pip install tensorflow"
      ],
      "metadata": {
        "colab": {
          "base_uri": "https://localhost:8080/"
        },
        "id": "0yLm5J338omM",
        "outputId": "402768de-0737-46cc-8680-e2d7ed127f54"
      },
      "execution_count": null,
      "outputs": [
        {
          "output_type": "stream",
          "name": "stdout",
          "text": [
            "Requirement already satisfied: tensorflow in /usr/local/lib/python3.7/dist-packages (2.8.0)\n",
            "Requirement already satisfied: google-pasta>=0.1.1 in /usr/local/lib/python3.7/dist-packages (from tensorflow) (0.2.0)\n",
            "Requirement already satisfied: numpy>=1.20 in /usr/local/lib/python3.7/dist-packages (from tensorflow) (1.21.5)\n",
            "Requirement already satisfied: astunparse>=1.6.0 in /usr/local/lib/python3.7/dist-packages (from tensorflow) (1.6.3)\n",
            "Requirement already satisfied: opt-einsum>=2.3.2 in /usr/local/lib/python3.7/dist-packages (from tensorflow) (3.3.0)\n",
            "Requirement already satisfied: flatbuffers>=1.12 in /usr/local/lib/python3.7/dist-packages (from tensorflow) (2.0)\n",
            "Requirement already satisfied: keras-preprocessing>=1.1.1 in /usr/local/lib/python3.7/dist-packages (from tensorflow) (1.1.2)\n",
            "Requirement already satisfied: typing-extensions>=3.6.6 in /usr/local/lib/python3.7/dist-packages (from tensorflow) (3.10.0.2)\n",
            "Requirement already satisfied: grpcio<2.0,>=1.24.3 in /usr/local/lib/python3.7/dist-packages (from tensorflow) (1.44.0)\n",
            "Requirement already satisfied: protobuf>=3.9.2 in /usr/local/lib/python3.7/dist-packages (from tensorflow) (3.17.3)\n",
            "Requirement already satisfied: wrapt>=1.11.0 in /usr/local/lib/python3.7/dist-packages (from tensorflow) (1.14.0)\n",
            "Requirement already satisfied: tensorboard<2.9,>=2.8 in /usr/local/lib/python3.7/dist-packages (from tensorflow) (2.8.0)\n",
            "Requirement already satisfied: six>=1.12.0 in /usr/local/lib/python3.7/dist-packages (from tensorflow) (1.15.0)\n",
            "Requirement already satisfied: setuptools in /usr/local/lib/python3.7/dist-packages (from tensorflow) (57.4.0)\n",
            "Requirement already satisfied: gast>=0.2.1 in /usr/local/lib/python3.7/dist-packages (from tensorflow) (0.5.3)\n",
            "Requirement already satisfied: h5py>=2.9.0 in /usr/local/lib/python3.7/dist-packages (from tensorflow) (3.1.0)\n",
            "Requirement already satisfied: libclang>=9.0.1 in /usr/local/lib/python3.7/dist-packages (from tensorflow) (13.0.0)\n",
            "Requirement already satisfied: termcolor>=1.1.0 in /usr/local/lib/python3.7/dist-packages (from tensorflow) (1.1.0)\n",
            "Collecting tf-estimator-nightly==2.8.0.dev2021122109\n",
            "  Downloading tf_estimator_nightly-2.8.0.dev2021122109-py2.py3-none-any.whl (462 kB)\n",
            "\u001b[K     |████████████████████████████████| 462 kB 7.6 MB/s \n",
            "\u001b[?25hRequirement already satisfied: keras<2.9,>=2.8.0rc0 in /usr/local/lib/python3.7/dist-packages (from tensorflow) (2.8.0)\n",
            "Requirement already satisfied: tensorflow-io-gcs-filesystem>=0.23.1 in /usr/local/lib/python3.7/dist-packages (from tensorflow) (0.24.0)\n",
            "Requirement already satisfied: absl-py>=0.4.0 in /usr/local/lib/python3.7/dist-packages (from tensorflow) (1.0.0)\n",
            "Requirement already satisfied: wheel<1.0,>=0.23.0 in /usr/local/lib/python3.7/dist-packages (from astunparse>=1.6.0->tensorflow) (0.37.1)\n",
            "Requirement already satisfied: cached-property in /usr/local/lib/python3.7/dist-packages (from h5py>=2.9.0->tensorflow) (1.5.2)\n",
            "Requirement already satisfied: markdown>=2.6.8 in /usr/local/lib/python3.7/dist-packages (from tensorboard<2.9,>=2.8->tensorflow) (3.3.6)\n",
            "Requirement already satisfied: tensorboard-plugin-wit>=1.6.0 in /usr/local/lib/python3.7/dist-packages (from tensorboard<2.9,>=2.8->tensorflow) (1.8.1)\n",
            "Requirement already satisfied: google-auth-oauthlib<0.5,>=0.4.1 in /usr/local/lib/python3.7/dist-packages (from tensorboard<2.9,>=2.8->tensorflow) (0.4.6)\n",
            "Requirement already satisfied: werkzeug>=0.11.15 in /usr/local/lib/python3.7/dist-packages (from tensorboard<2.9,>=2.8->tensorflow) (1.0.1)\n",
            "Requirement already satisfied: requests<3,>=2.21.0 in /usr/local/lib/python3.7/dist-packages (from tensorboard<2.9,>=2.8->tensorflow) (2.23.0)\n",
            "Requirement already satisfied: google-auth<3,>=1.6.3 in /usr/local/lib/python3.7/dist-packages (from tensorboard<2.9,>=2.8->tensorflow) (1.35.0)\n",
            "Requirement already satisfied: tensorboard-data-server<0.7.0,>=0.6.0 in /usr/local/lib/python3.7/dist-packages (from tensorboard<2.9,>=2.8->tensorflow) (0.6.1)\n",
            "Requirement already satisfied: pyasn1-modules>=0.2.1 in /usr/local/lib/python3.7/dist-packages (from google-auth<3,>=1.6.3->tensorboard<2.9,>=2.8->tensorflow) (0.2.8)\n",
            "Requirement already satisfied: rsa<5,>=3.1.4 in /usr/local/lib/python3.7/dist-packages (from google-auth<3,>=1.6.3->tensorboard<2.9,>=2.8->tensorflow) (4.8)\n",
            "Requirement already satisfied: cachetools<5.0,>=2.0.0 in /usr/local/lib/python3.7/dist-packages (from google-auth<3,>=1.6.3->tensorboard<2.9,>=2.8->tensorflow) (4.2.4)\n",
            "Requirement already satisfied: requests-oauthlib>=0.7.0 in /usr/local/lib/python3.7/dist-packages (from google-auth-oauthlib<0.5,>=0.4.1->tensorboard<2.9,>=2.8->tensorflow) (1.3.1)\n",
            "Requirement already satisfied: importlib-metadata>=4.4 in /usr/local/lib/python3.7/dist-packages (from markdown>=2.6.8->tensorboard<2.9,>=2.8->tensorflow) (4.11.3)\n",
            "Requirement already satisfied: zipp>=0.5 in /usr/local/lib/python3.7/dist-packages (from importlib-metadata>=4.4->markdown>=2.6.8->tensorboard<2.9,>=2.8->tensorflow) (3.7.0)\n",
            "Requirement already satisfied: pyasn1<0.5.0,>=0.4.6 in /usr/local/lib/python3.7/dist-packages (from pyasn1-modules>=0.2.1->google-auth<3,>=1.6.3->tensorboard<2.9,>=2.8->tensorflow) (0.4.8)\n",
            "Requirement already satisfied: chardet<4,>=3.0.2 in /usr/local/lib/python3.7/dist-packages (from requests<3,>=2.21.0->tensorboard<2.9,>=2.8->tensorflow) (3.0.4)\n",
            "Requirement already satisfied: certifi>=2017.4.17 in /usr/local/lib/python3.7/dist-packages (from requests<3,>=2.21.0->tensorboard<2.9,>=2.8->tensorflow) (2021.10.8)\n",
            "Requirement already satisfied: urllib3!=1.25.0,!=1.25.1,<1.26,>=1.21.1 in /usr/local/lib/python3.7/dist-packages (from requests<3,>=2.21.0->tensorboard<2.9,>=2.8->tensorflow) (1.24.3)\n",
            "Requirement already satisfied: idna<3,>=2.5 in /usr/local/lib/python3.7/dist-packages (from requests<3,>=2.21.0->tensorboard<2.9,>=2.8->tensorflow) (2.10)\n",
            "Requirement already satisfied: oauthlib>=3.0.0 in /usr/local/lib/python3.7/dist-packages (from requests-oauthlib>=0.7.0->google-auth-oauthlib<0.5,>=0.4.1->tensorboard<2.9,>=2.8->tensorflow) (3.2.0)\n",
            "Installing collected packages: tf-estimator-nightly\n",
            "Successfully installed tf-estimator-nightly-2.8.0.dev2021122109\n"
          ]
        }
      ]
    },
    {
      "cell_type": "code",
      "source": [
        "!pip install keras"
      ],
      "metadata": {
        "colab": {
          "base_uri": "https://localhost:8080/"
        },
        "id": "t04F4zv3801P",
        "outputId": "7f5b074f-f58f-453e-c935-c4b28f1d5bd2"
      },
      "execution_count": null,
      "outputs": [
        {
          "output_type": "stream",
          "name": "stdout",
          "text": [
            "Requirement already satisfied: keras in /usr/local/lib/python3.7/dist-packages (2.8.0)\n"
          ]
        }
      ]
    },
    {
      "cell_type": "code",
      "source": [
        "!pip install plotly"
      ],
      "metadata": {
        "colab": {
          "base_uri": "https://localhost:8080/"
        },
        "id": "N8trZdQs85Ny",
        "outputId": "79e17587-3bd8-41c6-f557-93dc719fb901"
      },
      "execution_count": null,
      "outputs": [
        {
          "output_type": "stream",
          "name": "stdout",
          "text": [
            "Requirement already satisfied: plotly in /usr/local/lib/python3.7/dist-packages (5.5.0)\n",
            "Requirement already satisfied: six in /usr/local/lib/python3.7/dist-packages (from plotly) (1.15.0)\n",
            "Requirement already satisfied: tenacity>=6.2.0 in /usr/local/lib/python3.7/dist-packages (from plotly) (8.0.1)\n"
          ]
        }
      ]
    },
    {
      "cell_type": "code",
      "source": [
        "from google.colab import files"
      ],
      "metadata": {
        "id": "djNbx4788_Gh"
      },
      "execution_count": null,
      "outputs": []
    },
    {
      "cell_type": "code",
      "source": [
        "uploaded = files.upload()"
      ],
      "metadata": {
        "colab": {
          "resources": {
            "http://localhost:8080/nbextensions/google.colab/files.js": {
              "data": "Ly8gQ29weXJpZ2h0IDIwMTcgR29vZ2xlIExMQwovLwovLyBMaWNlbnNlZCB1bmRlciB0aGUgQXBhY2hlIExpY2Vuc2UsIFZlcnNpb24gMi4wICh0aGUgIkxpY2Vuc2UiKTsKLy8geW91IG1heSBub3QgdXNlIHRoaXMgZmlsZSBleGNlcHQgaW4gY29tcGxpYW5jZSB3aXRoIHRoZSBMaWNlbnNlLgovLyBZb3UgbWF5IG9idGFpbiBhIGNvcHkgb2YgdGhlIExpY2Vuc2UgYXQKLy8KLy8gICAgICBodHRwOi8vd3d3LmFwYWNoZS5vcmcvbGljZW5zZXMvTElDRU5TRS0yLjAKLy8KLy8gVW5sZXNzIHJlcXVpcmVkIGJ5IGFwcGxpY2FibGUgbGF3IG9yIGFncmVlZCB0byBpbiB3cml0aW5nLCBzb2Z0d2FyZQovLyBkaXN0cmlidXRlZCB1bmRlciB0aGUgTGljZW5zZSBpcyBkaXN0cmlidXRlZCBvbiBhbiAiQVMgSVMiIEJBU0lTLAovLyBXSVRIT1VUIFdBUlJBTlRJRVMgT1IgQ09ORElUSU9OUyBPRiBBTlkgS0lORCwgZWl0aGVyIGV4cHJlc3Mgb3IgaW1wbGllZC4KLy8gU2VlIHRoZSBMaWNlbnNlIGZvciB0aGUgc3BlY2lmaWMgbGFuZ3VhZ2UgZ292ZXJuaW5nIHBlcm1pc3Npb25zIGFuZAovLyBsaW1pdGF0aW9ucyB1bmRlciB0aGUgTGljZW5zZS4KCi8qKgogKiBAZmlsZW92ZXJ2aWV3IEhlbHBlcnMgZm9yIGdvb2dsZS5jb2xhYiBQeXRob24gbW9kdWxlLgogKi8KKGZ1bmN0aW9uKHNjb3BlKSB7CmZ1bmN0aW9uIHNwYW4odGV4dCwgc3R5bGVBdHRyaWJ1dGVzID0ge30pIHsKICBjb25zdCBlbGVtZW50ID0gZG9jdW1lbnQuY3JlYXRlRWxlbWVudCgnc3BhbicpOwogIGVsZW1lbnQudGV4dENvbnRlbnQgPSB0ZXh0OwogIGZvciAoY29uc3Qga2V5IG9mIE9iamVjdC5rZXlzKHN0eWxlQXR0cmlidXRlcykpIHsKICAgIGVsZW1lbnQuc3R5bGVba2V5XSA9IHN0eWxlQXR0cmlidXRlc1trZXldOwogIH0KICByZXR1cm4gZWxlbWVudDsKfQoKLy8gTWF4IG51bWJlciBvZiBieXRlcyB3aGljaCB3aWxsIGJlIHVwbG9hZGVkIGF0IGEgdGltZS4KY29uc3QgTUFYX1BBWUxPQURfU0laRSA9IDEwMCAqIDEwMjQ7CgpmdW5jdGlvbiBfdXBsb2FkRmlsZXMoaW5wdXRJZCwgb3V0cHV0SWQpIHsKICBjb25zdCBzdGVwcyA9IHVwbG9hZEZpbGVzU3RlcChpbnB1dElkLCBvdXRwdXRJZCk7CiAgY29uc3Qgb3V0cHV0RWxlbWVudCA9IGRvY3VtZW50LmdldEVsZW1lbnRCeUlkKG91dHB1dElkKTsKICAvLyBDYWNoZSBzdGVwcyBvbiB0aGUgb3V0cHV0RWxlbWVudCB0byBtYWtlIGl0IGF2YWlsYWJsZSBmb3IgdGhlIG5leHQgY2FsbAogIC8vIHRvIHVwbG9hZEZpbGVzQ29udGludWUgZnJvbSBQeXRob24uCiAgb3V0cHV0RWxlbWVudC5zdGVwcyA9IHN0ZXBzOwoKICByZXR1cm4gX3VwbG9hZEZpbGVzQ29udGludWUob3V0cHV0SWQpOwp9CgovLyBUaGlzIGlzIHJvdWdobHkgYW4gYXN5bmMgZ2VuZXJhdG9yIChub3Qgc3VwcG9ydGVkIGluIHRoZSBicm93c2VyIHlldCksCi8vIHdoZXJlIHRoZXJlIGFyZSBtdWx0aXBsZSBhc3luY2hyb25vdXMgc3RlcHMgYW5kIHRoZSBQeXRob24gc2lkZSBpcyBnb2luZwovLyB0byBwb2xsIGZvciBjb21wbGV0aW9uIG9mIGVhY2ggc3RlcC4KLy8gVGhpcyB1c2VzIGEgUHJvbWlzZSB0byBibG9jayB0aGUgcHl0aG9uIHNpZGUgb24gY29tcGxldGlvbiBvZiBlYWNoIHN0ZXAsCi8vIHRoZW4gcGFzc2VzIHRoZSByZXN1bHQgb2YgdGhlIHByZXZpb3VzIHN0ZXAgYXMgdGhlIGlucHV0IHRvIHRoZSBuZXh0IHN0ZXAuCmZ1bmN0aW9uIF91cGxvYWRGaWxlc0NvbnRpbnVlKG91dHB1dElkKSB7CiAgY29uc3Qgb3V0cHV0RWxlbWVudCA9IGRvY3VtZW50LmdldEVsZW1lbnRCeUlkKG91dHB1dElkKTsKICBjb25zdCBzdGVwcyA9IG91dHB1dEVsZW1lbnQuc3RlcHM7CgogIGNvbnN0IG5leHQgPSBzdGVwcy5uZXh0KG91dHB1dEVsZW1lbnQubGFzdFByb21pc2VWYWx1ZSk7CiAgcmV0dXJuIFByb21pc2UucmVzb2x2ZShuZXh0LnZhbHVlLnByb21pc2UpLnRoZW4oKHZhbHVlKSA9PiB7CiAgICAvLyBDYWNoZSB0aGUgbGFzdCBwcm9taXNlIHZhbHVlIHRvIG1ha2UgaXQgYXZhaWxhYmxlIHRvIHRoZSBuZXh0CiAgICAvLyBzdGVwIG9mIHRoZSBnZW5lcmF0b3IuCiAgICBvdXRwdXRFbGVtZW50Lmxhc3RQcm9taXNlVmFsdWUgPSB2YWx1ZTsKICAgIHJldHVybiBuZXh0LnZhbHVlLnJlc3BvbnNlOwogIH0pOwp9CgovKioKICogR2VuZXJhdG9yIGZ1bmN0aW9uIHdoaWNoIGlzIGNhbGxlZCBiZXR3ZWVuIGVhY2ggYXN5bmMgc3RlcCBvZiB0aGUgdXBsb2FkCiAqIHByb2Nlc3MuCiAqIEBwYXJhbSB7c3RyaW5nfSBpbnB1dElkIEVsZW1lbnQgSUQgb2YgdGhlIGlucHV0IGZpbGUgcGlja2VyIGVsZW1lbnQuCiAqIEBwYXJhbSB7c3RyaW5nfSBvdXRwdXRJZCBFbGVtZW50IElEIG9mIHRoZSBvdXRwdXQgZGlzcGxheS4KICogQHJldHVybiB7IUl0ZXJhYmxlPCFPYmplY3Q+fSBJdGVyYWJsZSBvZiBuZXh0IHN0ZXBzLgogKi8KZnVuY3Rpb24qIHVwbG9hZEZpbGVzU3RlcChpbnB1dElkLCBvdXRwdXRJZCkgewogIGNvbnN0IGlucHV0RWxlbWVudCA9IGRvY3VtZW50LmdldEVsZW1lbnRCeUlkKGlucHV0SWQpOwogIGlucHV0RWxlbWVudC5kaXNhYmxlZCA9IGZhbHNlOwoKICBjb25zdCBvdXRwdXRFbGVtZW50ID0gZG9jdW1lbnQuZ2V0RWxlbWVudEJ5SWQob3V0cHV0SWQpOwogIG91dHB1dEVsZW1lbnQuaW5uZXJIVE1MID0gJyc7CgogIGNvbnN0IHBpY2tlZFByb21pc2UgPSBuZXcgUHJvbWlzZSgocmVzb2x2ZSkgPT4gewogICAgaW5wdXRFbGVtZW50LmFkZEV2ZW50TGlzdGVuZXIoJ2NoYW5nZScsIChlKSA9PiB7CiAgICAgIHJlc29sdmUoZS50YXJnZXQuZmlsZXMpOwogICAgfSk7CiAgfSk7CgogIGNvbnN0IGNhbmNlbCA9IGRvY3VtZW50LmNyZWF0ZUVsZW1lbnQoJ2J1dHRvbicpOwogIGlucHV0RWxlbWVudC5wYXJlbnRFbGVtZW50LmFwcGVuZENoaWxkKGNhbmNlbCk7CiAgY2FuY2VsLnRleHRDb250ZW50ID0gJ0NhbmNlbCB1cGxvYWQnOwogIGNvbnN0IGNhbmNlbFByb21pc2UgPSBuZXcgUHJvbWlzZSgocmVzb2x2ZSkgPT4gewogICAgY2FuY2VsLm9uY2xpY2sgPSAoKSA9PiB7CiAgICAgIHJlc29sdmUobnVsbCk7CiAgICB9OwogIH0pOwoKICAvLyBXYWl0IGZvciB0aGUgdXNlciB0byBwaWNrIHRoZSBmaWxlcy4KICBjb25zdCBmaWxlcyA9IHlpZWxkIHsKICAgIHByb21pc2U6IFByb21pc2UucmFjZShbcGlja2VkUHJvbWlzZSwgY2FuY2VsUHJvbWlzZV0pLAogICAgcmVzcG9uc2U6IHsKICAgICAgYWN0aW9uOiAnc3RhcnRpbmcnLAogICAgfQogIH07CgogIGNhbmNlbC5yZW1vdmUoKTsKCiAgLy8gRGlzYWJsZSB0aGUgaW5wdXQgZWxlbWVudCBzaW5jZSBmdXJ0aGVyIHBpY2tzIGFyZSBub3QgYWxsb3dlZC4KICBpbnB1dEVsZW1lbnQuZGlzYWJsZWQgPSB0cnVlOwoKICBpZiAoIWZpbGVzKSB7CiAgICByZXR1cm4gewogICAgICByZXNwb25zZTogewogICAgICAgIGFjdGlvbjogJ2NvbXBsZXRlJywKICAgICAgfQogICAgfTsKICB9CgogIGZvciAoY29uc3QgZmlsZSBvZiBmaWxlcykgewogICAgY29uc3QgbGkgPSBkb2N1bWVudC5jcmVhdGVFbGVtZW50KCdsaScpOwogICAgbGkuYXBwZW5kKHNwYW4oZmlsZS5uYW1lLCB7Zm9udFdlaWdodDogJ2JvbGQnfSkpOwogICAgbGkuYXBwZW5kKHNwYW4oCiAgICAgICAgYCgke2ZpbGUudHlwZSB8fCAnbi9hJ30pIC0gJHtmaWxlLnNpemV9IGJ5dGVzLCBgICsKICAgICAgICBgbGFzdCBtb2RpZmllZDogJHsKICAgICAgICAgICAgZmlsZS5sYXN0TW9kaWZpZWREYXRlID8gZmlsZS5sYXN0TW9kaWZpZWREYXRlLnRvTG9jYWxlRGF0ZVN0cmluZygpIDoKICAgICAgICAgICAgICAgICAgICAgICAgICAgICAgICAgICAgJ24vYSd9IC0gYCkpOwogICAgY29uc3QgcGVyY2VudCA9IHNwYW4oJzAlIGRvbmUnKTsKICAgIGxpLmFwcGVuZENoaWxkKHBlcmNlbnQpOwoKICAgIG91dHB1dEVsZW1lbnQuYXBwZW5kQ2hpbGQobGkpOwoKICAgIGNvbnN0IGZpbGVEYXRhUHJvbWlzZSA9IG5ldyBQcm9taXNlKChyZXNvbHZlKSA9PiB7CiAgICAgIGNvbnN0IHJlYWRlciA9IG5ldyBGaWxlUmVhZGVyKCk7CiAgICAgIHJlYWRlci5vbmxvYWQgPSAoZSkgPT4gewogICAgICAgIHJlc29sdmUoZS50YXJnZXQucmVzdWx0KTsKICAgICAgfTsKICAgICAgcmVhZGVyLnJlYWRBc0FycmF5QnVmZmVyKGZpbGUpOwogICAgfSk7CiAgICAvLyBXYWl0IGZvciB0aGUgZGF0YSB0byBiZSByZWFkeS4KICAgIGxldCBmaWxlRGF0YSA9IHlpZWxkIHsKICAgICAgcHJvbWlzZTogZmlsZURhdGFQcm9taXNlLAogICAgICByZXNwb25zZTogewogICAgICAgIGFjdGlvbjogJ2NvbnRpbnVlJywKICAgICAgfQogICAgfTsKCiAgICAvLyBVc2UgYSBjaHVua2VkIHNlbmRpbmcgdG8gYXZvaWQgbWVzc2FnZSBzaXplIGxpbWl0cy4gU2VlIGIvNjIxMTU2NjAuCiAgICBsZXQgcG9zaXRpb24gPSAwOwogICAgZG8gewogICAgICBjb25zdCBsZW5ndGggPSBNYXRoLm1pbihmaWxlRGF0YS5ieXRlTGVuZ3RoIC0gcG9zaXRpb24sIE1BWF9QQVlMT0FEX1NJWkUpOwogICAgICBjb25zdCBjaHVuayA9IG5ldyBVaW50OEFycmF5KGZpbGVEYXRhLCBwb3NpdGlvbiwgbGVuZ3RoKTsKICAgICAgcG9zaXRpb24gKz0gbGVuZ3RoOwoKICAgICAgY29uc3QgYmFzZTY0ID0gYnRvYShTdHJpbmcuZnJvbUNoYXJDb2RlLmFwcGx5KG51bGwsIGNodW5rKSk7CiAgICAgIHlpZWxkIHsKICAgICAgICByZXNwb25zZTogewogICAgICAgICAgYWN0aW9uOiAnYXBwZW5kJywKICAgICAgICAgIGZpbGU6IGZpbGUubmFtZSwKICAgICAgICAgIGRhdGE6IGJhc2U2NCwKICAgICAgICB9LAogICAgICB9OwoKICAgICAgbGV0IHBlcmNlbnREb25lID0gZmlsZURhdGEuYnl0ZUxlbmd0aCA9PT0gMCA/CiAgICAgICAgICAxMDAgOgogICAgICAgICAgTWF0aC5yb3VuZCgocG9zaXRpb24gLyBmaWxlRGF0YS5ieXRlTGVuZ3RoKSAqIDEwMCk7CiAgICAgIHBlcmNlbnQudGV4dENvbnRlbnQgPSBgJHtwZXJjZW50RG9uZX0lIGRvbmVgOwoKICAgIH0gd2hpbGUgKHBvc2l0aW9uIDwgZmlsZURhdGEuYnl0ZUxlbmd0aCk7CiAgfQoKICAvLyBBbGwgZG9uZS4KICB5aWVsZCB7CiAgICByZXNwb25zZTogewogICAgICBhY3Rpb246ICdjb21wbGV0ZScsCiAgICB9CiAgfTsKfQoKc2NvcGUuZ29vZ2xlID0gc2NvcGUuZ29vZ2xlIHx8IHt9OwpzY29wZS5nb29nbGUuY29sYWIgPSBzY29wZS5nb29nbGUuY29sYWIgfHwge307CnNjb3BlLmdvb2dsZS5jb2xhYi5fZmlsZXMgPSB7CiAgX3VwbG9hZEZpbGVzLAogIF91cGxvYWRGaWxlc0NvbnRpbnVlLAp9Owp9KShzZWxmKTsK",
              "ok": true,
              "headers": [
                [
                  "content-type",
                  "application/javascript"
                ]
              ],
              "status": 200,
              "status_text": ""
            }
          },
          "base_uri": "https://localhost:8080/",
          "height": 74
        },
        "id": "a2UhYp2y-FXq",
        "outputId": "6e45e1a0-f268-41d0-efcc-6dac255f88c4"
      },
      "execution_count": null,
      "outputs": [
        {
          "output_type": "display_data",
          "data": {
            "text/plain": [
              "<IPython.core.display.HTML object>"
            ],
            "text/html": [
              "\n",
              "     <input type=\"file\" id=\"files-cd3ccb3a-20cc-42f6-9794-c1d87ad50128\" name=\"files[]\" multiple disabled\n",
              "        style=\"border:none\" />\n",
              "     <output id=\"result-cd3ccb3a-20cc-42f6-9794-c1d87ad50128\">\n",
              "      Upload widget is only available when the cell has been executed in the\n",
              "      current browser session. Please rerun this cell to enable.\n",
              "      </output>\n",
              "      <script src=\"/nbextensions/google.colab/files.js\"></script> "
            ]
          },
          "metadata": {}
        },
        {
          "output_type": "stream",
          "name": "stdout",
          "text": [
            "Saving PD Real 2018-21.csv to PD Real 2018-21.csv\n"
          ]
        }
      ]
    },
    {
      "cell_type": "markdown",
      "source": [
        "Workflow"
      ],
      "metadata": {
        "id": "JFLDKnpd-VyH"
      }
    },
    {
      "cell_type": "code",
      "source": [
        "import numpy as np\n",
        "import pandas as pd\n",
        "df = pd.read_csv(r\"/content/PD Real 2018-21.csv\")\n",
        "df.head()"
      ],
      "metadata": {
        "colab": {
          "base_uri": "https://localhost:8080/",
          "height": 299
        },
        "id": "js4nJzQi-UyW",
        "outputId": "623035de-6969-45c2-8025-5eb470e0132c"
      },
      "execution_count": null,
      "outputs": [
        {
          "output_type": "execute_result",
          "data": {
            "text/plain": [
              "   name  MDVP:Fo(Hz)  MDVP:Fhi(Hz)  MDVP:Flo(Hz)  MDVP:Jitter(%)  \\\n",
              "0  RS01      119.992       157.302        74.997         0.00784   \n",
              "1  RS02      122.400       148.650       113.819         0.00968   \n",
              "2  RS03      116.682       131.111       111.555         0.01050   \n",
              "3  RS04      116.676       137.871       111.366         0.00997   \n",
              "4  RS05      116.014       141.781       110.655         0.01284   \n",
              "\n",
              "   MDVP:Jitter(Abs)  MDVP:RAP  MDVP:PPQ  Jitter:DDP  MDVP:Shimmer  ...  \\\n",
              "0           0.00007   0.00370   0.00554     0.01109       0.04374  ...   \n",
              "1           0.00008   0.00465   0.00696     0.01394       0.06134  ...   \n",
              "2           0.00009   0.00544   0.00781     0.01633       0.05233  ...   \n",
              "3           0.00009   0.00502   0.00698     0.01505       0.05492  ...   \n",
              "4           0.00011   0.00655   0.00908     0.01966       0.06425  ...   \n",
              "\n",
              "   Shimmer:DDA      NHR     HNR      RPDE       DFA   spread1   spread2  \\\n",
              "0      0.06545  0.02211  21.033  0.414783  0.815285 -4.813031  0.266482   \n",
              "1      0.09403  0.01929  19.085  0.458359  0.819521 -4.075192  0.335590   \n",
              "2      0.08270  0.01309  20.651  0.429895  0.825288 -4.443179  0.311173   \n",
              "3      0.08771  0.01353  20.644  0.434969  0.819235 -4.117501  0.334147   \n",
              "4      0.10470  0.01767  19.649  0.417356  0.823484 -3.747787  0.234513   \n",
              "\n",
              "         D2       PPE  status  \n",
              "0  2.301442  0.284654       1  \n",
              "1  2.486855  0.368674       1  \n",
              "2  2.342259  0.332634       1  \n",
              "3  2.405554  0.368975       1  \n",
              "4  2.332180  0.410335       1  \n",
              "\n",
              "[5 rows x 24 columns]"
            ],
            "text/html": [
              "\n",
              "  <div id=\"df-07e4376d-0d30-48ae-8347-20021fbce227\">\n",
              "    <div class=\"colab-df-container\">\n",
              "      <div>\n",
              "<style scoped>\n",
              "    .dataframe tbody tr th:only-of-type {\n",
              "        vertical-align: middle;\n",
              "    }\n",
              "\n",
              "    .dataframe tbody tr th {\n",
              "        vertical-align: top;\n",
              "    }\n",
              "\n",
              "    .dataframe thead th {\n",
              "        text-align: right;\n",
              "    }\n",
              "</style>\n",
              "<table border=\"1\" class=\"dataframe\">\n",
              "  <thead>\n",
              "    <tr style=\"text-align: right;\">\n",
              "      <th></th>\n",
              "      <th>name</th>\n",
              "      <th>MDVP:Fo(Hz)</th>\n",
              "      <th>MDVP:Fhi(Hz)</th>\n",
              "      <th>MDVP:Flo(Hz)</th>\n",
              "      <th>MDVP:Jitter(%)</th>\n",
              "      <th>MDVP:Jitter(Abs)</th>\n",
              "      <th>MDVP:RAP</th>\n",
              "      <th>MDVP:PPQ</th>\n",
              "      <th>Jitter:DDP</th>\n",
              "      <th>MDVP:Shimmer</th>\n",
              "      <th>...</th>\n",
              "      <th>Shimmer:DDA</th>\n",
              "      <th>NHR</th>\n",
              "      <th>HNR</th>\n",
              "      <th>RPDE</th>\n",
              "      <th>DFA</th>\n",
              "      <th>spread1</th>\n",
              "      <th>spread2</th>\n",
              "      <th>D2</th>\n",
              "      <th>PPE</th>\n",
              "      <th>status</th>\n",
              "    </tr>\n",
              "  </thead>\n",
              "  <tbody>\n",
              "    <tr>\n",
              "      <th>0</th>\n",
              "      <td>RS01</td>\n",
              "      <td>119.992</td>\n",
              "      <td>157.302</td>\n",
              "      <td>74.997</td>\n",
              "      <td>0.00784</td>\n",
              "      <td>0.00007</td>\n",
              "      <td>0.00370</td>\n",
              "      <td>0.00554</td>\n",
              "      <td>0.01109</td>\n",
              "      <td>0.04374</td>\n",
              "      <td>...</td>\n",
              "      <td>0.06545</td>\n",
              "      <td>0.02211</td>\n",
              "      <td>21.033</td>\n",
              "      <td>0.414783</td>\n",
              "      <td>0.815285</td>\n",
              "      <td>-4.813031</td>\n",
              "      <td>0.266482</td>\n",
              "      <td>2.301442</td>\n",
              "      <td>0.284654</td>\n",
              "      <td>1</td>\n",
              "    </tr>\n",
              "    <tr>\n",
              "      <th>1</th>\n",
              "      <td>RS02</td>\n",
              "      <td>122.400</td>\n",
              "      <td>148.650</td>\n",
              "      <td>113.819</td>\n",
              "      <td>0.00968</td>\n",
              "      <td>0.00008</td>\n",
              "      <td>0.00465</td>\n",
              "      <td>0.00696</td>\n",
              "      <td>0.01394</td>\n",
              "      <td>0.06134</td>\n",
              "      <td>...</td>\n",
              "      <td>0.09403</td>\n",
              "      <td>0.01929</td>\n",
              "      <td>19.085</td>\n",
              "      <td>0.458359</td>\n",
              "      <td>0.819521</td>\n",
              "      <td>-4.075192</td>\n",
              "      <td>0.335590</td>\n",
              "      <td>2.486855</td>\n",
              "      <td>0.368674</td>\n",
              "      <td>1</td>\n",
              "    </tr>\n",
              "    <tr>\n",
              "      <th>2</th>\n",
              "      <td>RS03</td>\n",
              "      <td>116.682</td>\n",
              "      <td>131.111</td>\n",
              "      <td>111.555</td>\n",
              "      <td>0.01050</td>\n",
              "      <td>0.00009</td>\n",
              "      <td>0.00544</td>\n",
              "      <td>0.00781</td>\n",
              "      <td>0.01633</td>\n",
              "      <td>0.05233</td>\n",
              "      <td>...</td>\n",
              "      <td>0.08270</td>\n",
              "      <td>0.01309</td>\n",
              "      <td>20.651</td>\n",
              "      <td>0.429895</td>\n",
              "      <td>0.825288</td>\n",
              "      <td>-4.443179</td>\n",
              "      <td>0.311173</td>\n",
              "      <td>2.342259</td>\n",
              "      <td>0.332634</td>\n",
              "      <td>1</td>\n",
              "    </tr>\n",
              "    <tr>\n",
              "      <th>3</th>\n",
              "      <td>RS04</td>\n",
              "      <td>116.676</td>\n",
              "      <td>137.871</td>\n",
              "      <td>111.366</td>\n",
              "      <td>0.00997</td>\n",
              "      <td>0.00009</td>\n",
              "      <td>0.00502</td>\n",
              "      <td>0.00698</td>\n",
              "      <td>0.01505</td>\n",
              "      <td>0.05492</td>\n",
              "      <td>...</td>\n",
              "      <td>0.08771</td>\n",
              "      <td>0.01353</td>\n",
              "      <td>20.644</td>\n",
              "      <td>0.434969</td>\n",
              "      <td>0.819235</td>\n",
              "      <td>-4.117501</td>\n",
              "      <td>0.334147</td>\n",
              "      <td>2.405554</td>\n",
              "      <td>0.368975</td>\n",
              "      <td>1</td>\n",
              "    </tr>\n",
              "    <tr>\n",
              "      <th>4</th>\n",
              "      <td>RS05</td>\n",
              "      <td>116.014</td>\n",
              "      <td>141.781</td>\n",
              "      <td>110.655</td>\n",
              "      <td>0.01284</td>\n",
              "      <td>0.00011</td>\n",
              "      <td>0.00655</td>\n",
              "      <td>0.00908</td>\n",
              "      <td>0.01966</td>\n",
              "      <td>0.06425</td>\n",
              "      <td>...</td>\n",
              "      <td>0.10470</td>\n",
              "      <td>0.01767</td>\n",
              "      <td>19.649</td>\n",
              "      <td>0.417356</td>\n",
              "      <td>0.823484</td>\n",
              "      <td>-3.747787</td>\n",
              "      <td>0.234513</td>\n",
              "      <td>2.332180</td>\n",
              "      <td>0.410335</td>\n",
              "      <td>1</td>\n",
              "    </tr>\n",
              "  </tbody>\n",
              "</table>\n",
              "<p>5 rows × 24 columns</p>\n",
              "</div>\n",
              "      <button class=\"colab-df-convert\" onclick=\"convertToInteractive('df-07e4376d-0d30-48ae-8347-20021fbce227')\"\n",
              "              title=\"Convert this dataframe to an interactive table.\"\n",
              "              style=\"display:none;\">\n",
              "        \n",
              "  <svg xmlns=\"http://www.w3.org/2000/svg\" height=\"24px\"viewBox=\"0 0 24 24\"\n",
              "       width=\"24px\">\n",
              "    <path d=\"M0 0h24v24H0V0z\" fill=\"none\"/>\n",
              "    <path d=\"M18.56 5.44l.94 2.06.94-2.06 2.06-.94-2.06-.94-.94-2.06-.94 2.06-2.06.94zm-11 1L8.5 8.5l.94-2.06 2.06-.94-2.06-.94L8.5 2.5l-.94 2.06-2.06.94zm10 10l.94 2.06.94-2.06 2.06-.94-2.06-.94-.94-2.06-.94 2.06-2.06.94z\"/><path d=\"M17.41 7.96l-1.37-1.37c-.4-.4-.92-.59-1.43-.59-.52 0-1.04.2-1.43.59L10.3 9.45l-7.72 7.72c-.78.78-.78 2.05 0 2.83L4 21.41c.39.39.9.59 1.41.59.51 0 1.02-.2 1.41-.59l7.78-7.78 2.81-2.81c.8-.78.8-2.07 0-2.86zM5.41 20L4 18.59l7.72-7.72 1.47 1.35L5.41 20z\"/>\n",
              "  </svg>\n",
              "      </button>\n",
              "      \n",
              "  <style>\n",
              "    .colab-df-container {\n",
              "      display:flex;\n",
              "      flex-wrap:wrap;\n",
              "      gap: 12px;\n",
              "    }\n",
              "\n",
              "    .colab-df-convert {\n",
              "      background-color: #E8F0FE;\n",
              "      border: none;\n",
              "      border-radius: 50%;\n",
              "      cursor: pointer;\n",
              "      display: none;\n",
              "      fill: #1967D2;\n",
              "      height: 32px;\n",
              "      padding: 0 0 0 0;\n",
              "      width: 32px;\n",
              "    }\n",
              "\n",
              "    .colab-df-convert:hover {\n",
              "      background-color: #E2EBFA;\n",
              "      box-shadow: 0px 1px 2px rgba(60, 64, 67, 0.3), 0px 1px 3px 1px rgba(60, 64, 67, 0.15);\n",
              "      fill: #174EA6;\n",
              "    }\n",
              "\n",
              "    [theme=dark] .colab-df-convert {\n",
              "      background-color: #3B4455;\n",
              "      fill: #D2E3FC;\n",
              "    }\n",
              "\n",
              "    [theme=dark] .colab-df-convert:hover {\n",
              "      background-color: #434B5C;\n",
              "      box-shadow: 0px 1px 3px 1px rgba(0, 0, 0, 0.15);\n",
              "      filter: drop-shadow(0px 1px 2px rgba(0, 0, 0, 0.3));\n",
              "      fill: #FFFFFF;\n",
              "    }\n",
              "  </style>\n",
              "\n",
              "      <script>\n",
              "        const buttonEl =\n",
              "          document.querySelector('#df-07e4376d-0d30-48ae-8347-20021fbce227 button.colab-df-convert');\n",
              "        buttonEl.style.display =\n",
              "          google.colab.kernel.accessAllowed ? 'block' : 'none';\n",
              "\n",
              "        async function convertToInteractive(key) {\n",
              "          const element = document.querySelector('#df-07e4376d-0d30-48ae-8347-20021fbce227');\n",
              "          const dataTable =\n",
              "            await google.colab.kernel.invokeFunction('convertToInteractive',\n",
              "                                                     [key], {});\n",
              "          if (!dataTable) return;\n",
              "\n",
              "          const docLinkHtml = 'Like what you see? Visit the ' +\n",
              "            '<a target=\"_blank\" href=https://colab.research.google.com/notebooks/data_table.ipynb>data table notebook</a>'\n",
              "            + ' to learn more about interactive tables.';\n",
              "          element.innerHTML = '';\n",
              "          dataTable['output_type'] = 'display_data';\n",
              "          await google.colab.output.renderOutput(dataTable, element);\n",
              "          const docLink = document.createElement('div');\n",
              "          docLink.innerHTML = docLinkHtml;\n",
              "          element.appendChild(docLink);\n",
              "        }\n",
              "      </script>\n",
              "    </div>\n",
              "  </div>\n",
              "  "
            ]
          },
          "metadata": {},
          "execution_count": 7
        }
      ]
    },
    {
      "cell_type": "code",
      "source": [
        "df"
      ],
      "metadata": {
        "colab": {
          "base_uri": "https://localhost:8080/",
          "height": 487
        },
        "id": "UwHRHZA_-qr3",
        "outputId": "2e6c3026-a5fc-4156-8e85-5741f621f60e"
      },
      "execution_count": null,
      "outputs": [
        {
          "output_type": "execute_result",
          "data": {
            "text/plain": [
              "      name  MDVP:Fo(Hz)  MDVP:Fhi(Hz)  MDVP:Flo(Hz)  MDVP:Jitter(%)  \\\n",
              "0     RS01      119.992       157.302        74.997         0.00784   \n",
              "1     RS02      122.400       148.650       113.819         0.00968   \n",
              "2     RS03      116.682       131.111       111.555         0.01050   \n",
              "3     RS04      116.676       137.871       111.366         0.00997   \n",
              "4     RS05      116.014       141.781       110.655         0.01284   \n",
              "..     ...          ...           ...           ...             ...   \n",
              "190  RS191      174.188       230.978        94.261         0.00459   \n",
              "191  RS192      209.516       253.017        89.488         0.00564   \n",
              "192  RS193      174.688       240.005        74.287         0.01360   \n",
              "193  RS194      198.764       396.961        74.904         0.00740   \n",
              "194  RS195      214.289       260.277        77.973         0.00567   \n",
              "\n",
              "     MDVP:Jitter(Abs)  MDVP:RAP  MDVP:PPQ  Jitter:DDP  MDVP:Shimmer  ...  \\\n",
              "0             0.00007   0.00370   0.00554     0.01109       0.04374  ...   \n",
              "1             0.00008   0.00465   0.00696     0.01394       0.06134  ...   \n",
              "2             0.00009   0.00544   0.00781     0.01633       0.05233  ...   \n",
              "3             0.00009   0.00502   0.00698     0.01505       0.05492  ...   \n",
              "4             0.00011   0.00655   0.00908     0.01966       0.06425  ...   \n",
              "..                ...       ...       ...         ...           ...  ...   \n",
              "190           0.00003   0.00263   0.00259     0.00790       0.04087  ...   \n",
              "191           0.00003   0.00331   0.00292     0.00994       0.02751  ...   \n",
              "192           0.00008   0.00624   0.00564     0.01873       0.02308  ...   \n",
              "193           0.00004   0.00370   0.00390     0.01109       0.02296  ...   \n",
              "194           0.00003   0.00295   0.00317     0.00885       0.01884  ...   \n",
              "\n",
              "     Shimmer:DDA      NHR     HNR      RPDE       DFA   spread1   spread2  \\\n",
              "0        0.06545  0.02211  21.033  0.414783  0.815285 -4.813031  0.266482   \n",
              "1        0.09403  0.01929  19.085  0.458359  0.819521 -4.075192  0.335590   \n",
              "2        0.08270  0.01309  20.651  0.429895  0.825288 -4.443179  0.311173   \n",
              "3        0.08771  0.01353  20.644  0.434969  0.819235 -4.117501  0.334147   \n",
              "4        0.10470  0.01767  19.649  0.417356  0.823484 -3.747787  0.234513   \n",
              "..           ...      ...     ...       ...       ...       ...       ...   \n",
              "190      0.07008  0.02764  19.517  0.448439  0.657899 -6.538586  0.121952   \n",
              "191      0.04812  0.01810  19.147  0.431674  0.683244 -6.195325  0.129303   \n",
              "192      0.03804  0.10715  17.883  0.407567  0.655683 -6.787197  0.158453   \n",
              "193      0.03794  0.07223  19.020  0.451221  0.643956 -6.744577  0.207454   \n",
              "194      0.03078  0.04398  21.209  0.462803  0.664357 -5.724056  0.190667   \n",
              "\n",
              "           D2       PPE  status  \n",
              "0    2.301442  0.284654       1  \n",
              "1    2.486855  0.368674       1  \n",
              "2    2.342259  0.332634       1  \n",
              "3    2.405554  0.368975       1  \n",
              "4    2.332180  0.410335       1  \n",
              "..        ...       ...     ...  \n",
              "190  2.657476  0.133050       0  \n",
              "191  2.784312  0.168895       0  \n",
              "192  2.679772  0.131728       0  \n",
              "193  2.138608  0.123306       0  \n",
              "194  2.555477  0.148569       0  \n",
              "\n",
              "[195 rows x 24 columns]"
            ],
            "text/html": [
              "\n",
              "  <div id=\"df-3220422b-d6c5-4556-883c-dea5ba69bfc1\">\n",
              "    <div class=\"colab-df-container\">\n",
              "      <div>\n",
              "<style scoped>\n",
              "    .dataframe tbody tr th:only-of-type {\n",
              "        vertical-align: middle;\n",
              "    }\n",
              "\n",
              "    .dataframe tbody tr th {\n",
              "        vertical-align: top;\n",
              "    }\n",
              "\n",
              "    .dataframe thead th {\n",
              "        text-align: right;\n",
              "    }\n",
              "</style>\n",
              "<table border=\"1\" class=\"dataframe\">\n",
              "  <thead>\n",
              "    <tr style=\"text-align: right;\">\n",
              "      <th></th>\n",
              "      <th>name</th>\n",
              "      <th>MDVP:Fo(Hz)</th>\n",
              "      <th>MDVP:Fhi(Hz)</th>\n",
              "      <th>MDVP:Flo(Hz)</th>\n",
              "      <th>MDVP:Jitter(%)</th>\n",
              "      <th>MDVP:Jitter(Abs)</th>\n",
              "      <th>MDVP:RAP</th>\n",
              "      <th>MDVP:PPQ</th>\n",
              "      <th>Jitter:DDP</th>\n",
              "      <th>MDVP:Shimmer</th>\n",
              "      <th>...</th>\n",
              "      <th>Shimmer:DDA</th>\n",
              "      <th>NHR</th>\n",
              "      <th>HNR</th>\n",
              "      <th>RPDE</th>\n",
              "      <th>DFA</th>\n",
              "      <th>spread1</th>\n",
              "      <th>spread2</th>\n",
              "      <th>D2</th>\n",
              "      <th>PPE</th>\n",
              "      <th>status</th>\n",
              "    </tr>\n",
              "  </thead>\n",
              "  <tbody>\n",
              "    <tr>\n",
              "      <th>0</th>\n",
              "      <td>RS01</td>\n",
              "      <td>119.992</td>\n",
              "      <td>157.302</td>\n",
              "      <td>74.997</td>\n",
              "      <td>0.00784</td>\n",
              "      <td>0.00007</td>\n",
              "      <td>0.00370</td>\n",
              "      <td>0.00554</td>\n",
              "      <td>0.01109</td>\n",
              "      <td>0.04374</td>\n",
              "      <td>...</td>\n",
              "      <td>0.06545</td>\n",
              "      <td>0.02211</td>\n",
              "      <td>21.033</td>\n",
              "      <td>0.414783</td>\n",
              "      <td>0.815285</td>\n",
              "      <td>-4.813031</td>\n",
              "      <td>0.266482</td>\n",
              "      <td>2.301442</td>\n",
              "      <td>0.284654</td>\n",
              "      <td>1</td>\n",
              "    </tr>\n",
              "    <tr>\n",
              "      <th>1</th>\n",
              "      <td>RS02</td>\n",
              "      <td>122.400</td>\n",
              "      <td>148.650</td>\n",
              "      <td>113.819</td>\n",
              "      <td>0.00968</td>\n",
              "      <td>0.00008</td>\n",
              "      <td>0.00465</td>\n",
              "      <td>0.00696</td>\n",
              "      <td>0.01394</td>\n",
              "      <td>0.06134</td>\n",
              "      <td>...</td>\n",
              "      <td>0.09403</td>\n",
              "      <td>0.01929</td>\n",
              "      <td>19.085</td>\n",
              "      <td>0.458359</td>\n",
              "      <td>0.819521</td>\n",
              "      <td>-4.075192</td>\n",
              "      <td>0.335590</td>\n",
              "      <td>2.486855</td>\n",
              "      <td>0.368674</td>\n",
              "      <td>1</td>\n",
              "    </tr>\n",
              "    <tr>\n",
              "      <th>2</th>\n",
              "      <td>RS03</td>\n",
              "      <td>116.682</td>\n",
              "      <td>131.111</td>\n",
              "      <td>111.555</td>\n",
              "      <td>0.01050</td>\n",
              "      <td>0.00009</td>\n",
              "      <td>0.00544</td>\n",
              "      <td>0.00781</td>\n",
              "      <td>0.01633</td>\n",
              "      <td>0.05233</td>\n",
              "      <td>...</td>\n",
              "      <td>0.08270</td>\n",
              "      <td>0.01309</td>\n",
              "      <td>20.651</td>\n",
              "      <td>0.429895</td>\n",
              "      <td>0.825288</td>\n",
              "      <td>-4.443179</td>\n",
              "      <td>0.311173</td>\n",
              "      <td>2.342259</td>\n",
              "      <td>0.332634</td>\n",
              "      <td>1</td>\n",
              "    </tr>\n",
              "    <tr>\n",
              "      <th>3</th>\n",
              "      <td>RS04</td>\n",
              "      <td>116.676</td>\n",
              "      <td>137.871</td>\n",
              "      <td>111.366</td>\n",
              "      <td>0.00997</td>\n",
              "      <td>0.00009</td>\n",
              "      <td>0.00502</td>\n",
              "      <td>0.00698</td>\n",
              "      <td>0.01505</td>\n",
              "      <td>0.05492</td>\n",
              "      <td>...</td>\n",
              "      <td>0.08771</td>\n",
              "      <td>0.01353</td>\n",
              "      <td>20.644</td>\n",
              "      <td>0.434969</td>\n",
              "      <td>0.819235</td>\n",
              "      <td>-4.117501</td>\n",
              "      <td>0.334147</td>\n",
              "      <td>2.405554</td>\n",
              "      <td>0.368975</td>\n",
              "      <td>1</td>\n",
              "    </tr>\n",
              "    <tr>\n",
              "      <th>4</th>\n",
              "      <td>RS05</td>\n",
              "      <td>116.014</td>\n",
              "      <td>141.781</td>\n",
              "      <td>110.655</td>\n",
              "      <td>0.01284</td>\n",
              "      <td>0.00011</td>\n",
              "      <td>0.00655</td>\n",
              "      <td>0.00908</td>\n",
              "      <td>0.01966</td>\n",
              "      <td>0.06425</td>\n",
              "      <td>...</td>\n",
              "      <td>0.10470</td>\n",
              "      <td>0.01767</td>\n",
              "      <td>19.649</td>\n",
              "      <td>0.417356</td>\n",
              "      <td>0.823484</td>\n",
              "      <td>-3.747787</td>\n",
              "      <td>0.234513</td>\n",
              "      <td>2.332180</td>\n",
              "      <td>0.410335</td>\n",
              "      <td>1</td>\n",
              "    </tr>\n",
              "    <tr>\n",
              "      <th>...</th>\n",
              "      <td>...</td>\n",
              "      <td>...</td>\n",
              "      <td>...</td>\n",
              "      <td>...</td>\n",
              "      <td>...</td>\n",
              "      <td>...</td>\n",
              "      <td>...</td>\n",
              "      <td>...</td>\n",
              "      <td>...</td>\n",
              "      <td>...</td>\n",
              "      <td>...</td>\n",
              "      <td>...</td>\n",
              "      <td>...</td>\n",
              "      <td>...</td>\n",
              "      <td>...</td>\n",
              "      <td>...</td>\n",
              "      <td>...</td>\n",
              "      <td>...</td>\n",
              "      <td>...</td>\n",
              "      <td>...</td>\n",
              "      <td>...</td>\n",
              "    </tr>\n",
              "    <tr>\n",
              "      <th>190</th>\n",
              "      <td>RS191</td>\n",
              "      <td>174.188</td>\n",
              "      <td>230.978</td>\n",
              "      <td>94.261</td>\n",
              "      <td>0.00459</td>\n",
              "      <td>0.00003</td>\n",
              "      <td>0.00263</td>\n",
              "      <td>0.00259</td>\n",
              "      <td>0.00790</td>\n",
              "      <td>0.04087</td>\n",
              "      <td>...</td>\n",
              "      <td>0.07008</td>\n",
              "      <td>0.02764</td>\n",
              "      <td>19.517</td>\n",
              "      <td>0.448439</td>\n",
              "      <td>0.657899</td>\n",
              "      <td>-6.538586</td>\n",
              "      <td>0.121952</td>\n",
              "      <td>2.657476</td>\n",
              "      <td>0.133050</td>\n",
              "      <td>0</td>\n",
              "    </tr>\n",
              "    <tr>\n",
              "      <th>191</th>\n",
              "      <td>RS192</td>\n",
              "      <td>209.516</td>\n",
              "      <td>253.017</td>\n",
              "      <td>89.488</td>\n",
              "      <td>0.00564</td>\n",
              "      <td>0.00003</td>\n",
              "      <td>0.00331</td>\n",
              "      <td>0.00292</td>\n",
              "      <td>0.00994</td>\n",
              "      <td>0.02751</td>\n",
              "      <td>...</td>\n",
              "      <td>0.04812</td>\n",
              "      <td>0.01810</td>\n",
              "      <td>19.147</td>\n",
              "      <td>0.431674</td>\n",
              "      <td>0.683244</td>\n",
              "      <td>-6.195325</td>\n",
              "      <td>0.129303</td>\n",
              "      <td>2.784312</td>\n",
              "      <td>0.168895</td>\n",
              "      <td>0</td>\n",
              "    </tr>\n",
              "    <tr>\n",
              "      <th>192</th>\n",
              "      <td>RS193</td>\n",
              "      <td>174.688</td>\n",
              "      <td>240.005</td>\n",
              "      <td>74.287</td>\n",
              "      <td>0.01360</td>\n",
              "      <td>0.00008</td>\n",
              "      <td>0.00624</td>\n",
              "      <td>0.00564</td>\n",
              "      <td>0.01873</td>\n",
              "      <td>0.02308</td>\n",
              "      <td>...</td>\n",
              "      <td>0.03804</td>\n",
              "      <td>0.10715</td>\n",
              "      <td>17.883</td>\n",
              "      <td>0.407567</td>\n",
              "      <td>0.655683</td>\n",
              "      <td>-6.787197</td>\n",
              "      <td>0.158453</td>\n",
              "      <td>2.679772</td>\n",
              "      <td>0.131728</td>\n",
              "      <td>0</td>\n",
              "    </tr>\n",
              "    <tr>\n",
              "      <th>193</th>\n",
              "      <td>RS194</td>\n",
              "      <td>198.764</td>\n",
              "      <td>396.961</td>\n",
              "      <td>74.904</td>\n",
              "      <td>0.00740</td>\n",
              "      <td>0.00004</td>\n",
              "      <td>0.00370</td>\n",
              "      <td>0.00390</td>\n",
              "      <td>0.01109</td>\n",
              "      <td>0.02296</td>\n",
              "      <td>...</td>\n",
              "      <td>0.03794</td>\n",
              "      <td>0.07223</td>\n",
              "      <td>19.020</td>\n",
              "      <td>0.451221</td>\n",
              "      <td>0.643956</td>\n",
              "      <td>-6.744577</td>\n",
              "      <td>0.207454</td>\n",
              "      <td>2.138608</td>\n",
              "      <td>0.123306</td>\n",
              "      <td>0</td>\n",
              "    </tr>\n",
              "    <tr>\n",
              "      <th>194</th>\n",
              "      <td>RS195</td>\n",
              "      <td>214.289</td>\n",
              "      <td>260.277</td>\n",
              "      <td>77.973</td>\n",
              "      <td>0.00567</td>\n",
              "      <td>0.00003</td>\n",
              "      <td>0.00295</td>\n",
              "      <td>0.00317</td>\n",
              "      <td>0.00885</td>\n",
              "      <td>0.01884</td>\n",
              "      <td>...</td>\n",
              "      <td>0.03078</td>\n",
              "      <td>0.04398</td>\n",
              "      <td>21.209</td>\n",
              "      <td>0.462803</td>\n",
              "      <td>0.664357</td>\n",
              "      <td>-5.724056</td>\n",
              "      <td>0.190667</td>\n",
              "      <td>2.555477</td>\n",
              "      <td>0.148569</td>\n",
              "      <td>0</td>\n",
              "    </tr>\n",
              "  </tbody>\n",
              "</table>\n",
              "<p>195 rows × 24 columns</p>\n",
              "</div>\n",
              "      <button class=\"colab-df-convert\" onclick=\"convertToInteractive('df-3220422b-d6c5-4556-883c-dea5ba69bfc1')\"\n",
              "              title=\"Convert this dataframe to an interactive table.\"\n",
              "              style=\"display:none;\">\n",
              "        \n",
              "  <svg xmlns=\"http://www.w3.org/2000/svg\" height=\"24px\"viewBox=\"0 0 24 24\"\n",
              "       width=\"24px\">\n",
              "    <path d=\"M0 0h24v24H0V0z\" fill=\"none\"/>\n",
              "    <path d=\"M18.56 5.44l.94 2.06.94-2.06 2.06-.94-2.06-.94-.94-2.06-.94 2.06-2.06.94zm-11 1L8.5 8.5l.94-2.06 2.06-.94-2.06-.94L8.5 2.5l-.94 2.06-2.06.94zm10 10l.94 2.06.94-2.06 2.06-.94-2.06-.94-.94-2.06-.94 2.06-2.06.94z\"/><path d=\"M17.41 7.96l-1.37-1.37c-.4-.4-.92-.59-1.43-.59-.52 0-1.04.2-1.43.59L10.3 9.45l-7.72 7.72c-.78.78-.78 2.05 0 2.83L4 21.41c.39.39.9.59 1.41.59.51 0 1.02-.2 1.41-.59l7.78-7.78 2.81-2.81c.8-.78.8-2.07 0-2.86zM5.41 20L4 18.59l7.72-7.72 1.47 1.35L5.41 20z\"/>\n",
              "  </svg>\n",
              "      </button>\n",
              "      \n",
              "  <style>\n",
              "    .colab-df-container {\n",
              "      display:flex;\n",
              "      flex-wrap:wrap;\n",
              "      gap: 12px;\n",
              "    }\n",
              "\n",
              "    .colab-df-convert {\n",
              "      background-color: #E8F0FE;\n",
              "      border: none;\n",
              "      border-radius: 50%;\n",
              "      cursor: pointer;\n",
              "      display: none;\n",
              "      fill: #1967D2;\n",
              "      height: 32px;\n",
              "      padding: 0 0 0 0;\n",
              "      width: 32px;\n",
              "    }\n",
              "\n",
              "    .colab-df-convert:hover {\n",
              "      background-color: #E2EBFA;\n",
              "      box-shadow: 0px 1px 2px rgba(60, 64, 67, 0.3), 0px 1px 3px 1px rgba(60, 64, 67, 0.15);\n",
              "      fill: #174EA6;\n",
              "    }\n",
              "\n",
              "    [theme=dark] .colab-df-convert {\n",
              "      background-color: #3B4455;\n",
              "      fill: #D2E3FC;\n",
              "    }\n",
              "\n",
              "    [theme=dark] .colab-df-convert:hover {\n",
              "      background-color: #434B5C;\n",
              "      box-shadow: 0px 1px 3px 1px rgba(0, 0, 0, 0.15);\n",
              "      filter: drop-shadow(0px 1px 2px rgba(0, 0, 0, 0.3));\n",
              "      fill: #FFFFFF;\n",
              "    }\n",
              "  </style>\n",
              "\n",
              "      <script>\n",
              "        const buttonEl =\n",
              "          document.querySelector('#df-3220422b-d6c5-4556-883c-dea5ba69bfc1 button.colab-df-convert');\n",
              "        buttonEl.style.display =\n",
              "          google.colab.kernel.accessAllowed ? 'block' : 'none';\n",
              "\n",
              "        async function convertToInteractive(key) {\n",
              "          const element = document.querySelector('#df-3220422b-d6c5-4556-883c-dea5ba69bfc1');\n",
              "          const dataTable =\n",
              "            await google.colab.kernel.invokeFunction('convertToInteractive',\n",
              "                                                     [key], {});\n",
              "          if (!dataTable) return;\n",
              "\n",
              "          const docLinkHtml = 'Like what you see? Visit the ' +\n",
              "            '<a target=\"_blank\" href=https://colab.research.google.com/notebooks/data_table.ipynb>data table notebook</a>'\n",
              "            + ' to learn more about interactive tables.';\n",
              "          element.innerHTML = '';\n",
              "          dataTable['output_type'] = 'display_data';\n",
              "          await google.colab.output.renderOutput(dataTable, element);\n",
              "          const docLink = document.createElement('div');\n",
              "          docLink.innerHTML = docLinkHtml;\n",
              "          element.appendChild(docLink);\n",
              "        }\n",
              "      </script>\n",
              "    </div>\n",
              "  </div>\n",
              "  "
            ]
          },
          "metadata": {},
          "execution_count": 8
        }
      ]
    },
    {
      "cell_type": "code",
      "source": [
        "df=df.drop(['name'], axis=1)\n",
        "df"
      ],
      "metadata": {
        "colab": {
          "base_uri": "https://localhost:8080/",
          "height": 487
        },
        "id": "Ctgahh_7-q59",
        "outputId": "ce766207-d430-4b74-a6db-e24f4d571a11"
      },
      "execution_count": null,
      "outputs": [
        {
          "output_type": "execute_result",
          "data": {
            "text/plain": [
              "     MDVP:Fo(Hz)  MDVP:Fhi(Hz)  MDVP:Flo(Hz)  MDVP:Jitter(%)  \\\n",
              "0        119.992       157.302        74.997         0.00784   \n",
              "1        122.400       148.650       113.819         0.00968   \n",
              "2        116.682       131.111       111.555         0.01050   \n",
              "3        116.676       137.871       111.366         0.00997   \n",
              "4        116.014       141.781       110.655         0.01284   \n",
              "..           ...           ...           ...             ...   \n",
              "190      174.188       230.978        94.261         0.00459   \n",
              "191      209.516       253.017        89.488         0.00564   \n",
              "192      174.688       240.005        74.287         0.01360   \n",
              "193      198.764       396.961        74.904         0.00740   \n",
              "194      214.289       260.277        77.973         0.00567   \n",
              "\n",
              "     MDVP:Jitter(Abs)  MDVP:RAP  MDVP:PPQ  Jitter:DDP  MDVP:Shimmer  \\\n",
              "0             0.00007   0.00370   0.00554     0.01109       0.04374   \n",
              "1             0.00008   0.00465   0.00696     0.01394       0.06134   \n",
              "2             0.00009   0.00544   0.00781     0.01633       0.05233   \n",
              "3             0.00009   0.00502   0.00698     0.01505       0.05492   \n",
              "4             0.00011   0.00655   0.00908     0.01966       0.06425   \n",
              "..                ...       ...       ...         ...           ...   \n",
              "190           0.00003   0.00263   0.00259     0.00790       0.04087   \n",
              "191           0.00003   0.00331   0.00292     0.00994       0.02751   \n",
              "192           0.00008   0.00624   0.00564     0.01873       0.02308   \n",
              "193           0.00004   0.00370   0.00390     0.01109       0.02296   \n",
              "194           0.00003   0.00295   0.00317     0.00885       0.01884   \n",
              "\n",
              "     MDVP:Shimmer(dB)  ...  Shimmer:DDA      NHR     HNR      RPDE       DFA  \\\n",
              "0               0.426  ...      0.06545  0.02211  21.033  0.414783  0.815285   \n",
              "1               0.626  ...      0.09403  0.01929  19.085  0.458359  0.819521   \n",
              "2               0.482  ...      0.08270  0.01309  20.651  0.429895  0.825288   \n",
              "3               0.517  ...      0.08771  0.01353  20.644  0.434969  0.819235   \n",
              "4               0.584  ...      0.10470  0.01767  19.649  0.417356  0.823484   \n",
              "..                ...  ...          ...      ...     ...       ...       ...   \n",
              "190             0.405  ...      0.07008  0.02764  19.517  0.448439  0.657899   \n",
              "191             0.263  ...      0.04812  0.01810  19.147  0.431674  0.683244   \n",
              "192             0.256  ...      0.03804  0.10715  17.883  0.407567  0.655683   \n",
              "193             0.241  ...      0.03794  0.07223  19.020  0.451221  0.643956   \n",
              "194             0.190  ...      0.03078  0.04398  21.209  0.462803  0.664357   \n",
              "\n",
              "      spread1   spread2        D2       PPE  status  \n",
              "0   -4.813031  0.266482  2.301442  0.284654       1  \n",
              "1   -4.075192  0.335590  2.486855  0.368674       1  \n",
              "2   -4.443179  0.311173  2.342259  0.332634       1  \n",
              "3   -4.117501  0.334147  2.405554  0.368975       1  \n",
              "4   -3.747787  0.234513  2.332180  0.410335       1  \n",
              "..        ...       ...       ...       ...     ...  \n",
              "190 -6.538586  0.121952  2.657476  0.133050       0  \n",
              "191 -6.195325  0.129303  2.784312  0.168895       0  \n",
              "192 -6.787197  0.158453  2.679772  0.131728       0  \n",
              "193 -6.744577  0.207454  2.138608  0.123306       0  \n",
              "194 -5.724056  0.190667  2.555477  0.148569       0  \n",
              "\n",
              "[195 rows x 23 columns]"
            ],
            "text/html": [
              "\n",
              "  <div id=\"df-53b4138a-b5e1-4e61-9a02-f2713adfd5ac\">\n",
              "    <div class=\"colab-df-container\">\n",
              "      <div>\n",
              "<style scoped>\n",
              "    .dataframe tbody tr th:only-of-type {\n",
              "        vertical-align: middle;\n",
              "    }\n",
              "\n",
              "    .dataframe tbody tr th {\n",
              "        vertical-align: top;\n",
              "    }\n",
              "\n",
              "    .dataframe thead th {\n",
              "        text-align: right;\n",
              "    }\n",
              "</style>\n",
              "<table border=\"1\" class=\"dataframe\">\n",
              "  <thead>\n",
              "    <tr style=\"text-align: right;\">\n",
              "      <th></th>\n",
              "      <th>MDVP:Fo(Hz)</th>\n",
              "      <th>MDVP:Fhi(Hz)</th>\n",
              "      <th>MDVP:Flo(Hz)</th>\n",
              "      <th>MDVP:Jitter(%)</th>\n",
              "      <th>MDVP:Jitter(Abs)</th>\n",
              "      <th>MDVP:RAP</th>\n",
              "      <th>MDVP:PPQ</th>\n",
              "      <th>Jitter:DDP</th>\n",
              "      <th>MDVP:Shimmer</th>\n",
              "      <th>MDVP:Shimmer(dB)</th>\n",
              "      <th>...</th>\n",
              "      <th>Shimmer:DDA</th>\n",
              "      <th>NHR</th>\n",
              "      <th>HNR</th>\n",
              "      <th>RPDE</th>\n",
              "      <th>DFA</th>\n",
              "      <th>spread1</th>\n",
              "      <th>spread2</th>\n",
              "      <th>D2</th>\n",
              "      <th>PPE</th>\n",
              "      <th>status</th>\n",
              "    </tr>\n",
              "  </thead>\n",
              "  <tbody>\n",
              "    <tr>\n",
              "      <th>0</th>\n",
              "      <td>119.992</td>\n",
              "      <td>157.302</td>\n",
              "      <td>74.997</td>\n",
              "      <td>0.00784</td>\n",
              "      <td>0.00007</td>\n",
              "      <td>0.00370</td>\n",
              "      <td>0.00554</td>\n",
              "      <td>0.01109</td>\n",
              "      <td>0.04374</td>\n",
              "      <td>0.426</td>\n",
              "      <td>...</td>\n",
              "      <td>0.06545</td>\n",
              "      <td>0.02211</td>\n",
              "      <td>21.033</td>\n",
              "      <td>0.414783</td>\n",
              "      <td>0.815285</td>\n",
              "      <td>-4.813031</td>\n",
              "      <td>0.266482</td>\n",
              "      <td>2.301442</td>\n",
              "      <td>0.284654</td>\n",
              "      <td>1</td>\n",
              "    </tr>\n",
              "    <tr>\n",
              "      <th>1</th>\n",
              "      <td>122.400</td>\n",
              "      <td>148.650</td>\n",
              "      <td>113.819</td>\n",
              "      <td>0.00968</td>\n",
              "      <td>0.00008</td>\n",
              "      <td>0.00465</td>\n",
              "      <td>0.00696</td>\n",
              "      <td>0.01394</td>\n",
              "      <td>0.06134</td>\n",
              "      <td>0.626</td>\n",
              "      <td>...</td>\n",
              "      <td>0.09403</td>\n",
              "      <td>0.01929</td>\n",
              "      <td>19.085</td>\n",
              "      <td>0.458359</td>\n",
              "      <td>0.819521</td>\n",
              "      <td>-4.075192</td>\n",
              "      <td>0.335590</td>\n",
              "      <td>2.486855</td>\n",
              "      <td>0.368674</td>\n",
              "      <td>1</td>\n",
              "    </tr>\n",
              "    <tr>\n",
              "      <th>2</th>\n",
              "      <td>116.682</td>\n",
              "      <td>131.111</td>\n",
              "      <td>111.555</td>\n",
              "      <td>0.01050</td>\n",
              "      <td>0.00009</td>\n",
              "      <td>0.00544</td>\n",
              "      <td>0.00781</td>\n",
              "      <td>0.01633</td>\n",
              "      <td>0.05233</td>\n",
              "      <td>0.482</td>\n",
              "      <td>...</td>\n",
              "      <td>0.08270</td>\n",
              "      <td>0.01309</td>\n",
              "      <td>20.651</td>\n",
              "      <td>0.429895</td>\n",
              "      <td>0.825288</td>\n",
              "      <td>-4.443179</td>\n",
              "      <td>0.311173</td>\n",
              "      <td>2.342259</td>\n",
              "      <td>0.332634</td>\n",
              "      <td>1</td>\n",
              "    </tr>\n",
              "    <tr>\n",
              "      <th>3</th>\n",
              "      <td>116.676</td>\n",
              "      <td>137.871</td>\n",
              "      <td>111.366</td>\n",
              "      <td>0.00997</td>\n",
              "      <td>0.00009</td>\n",
              "      <td>0.00502</td>\n",
              "      <td>0.00698</td>\n",
              "      <td>0.01505</td>\n",
              "      <td>0.05492</td>\n",
              "      <td>0.517</td>\n",
              "      <td>...</td>\n",
              "      <td>0.08771</td>\n",
              "      <td>0.01353</td>\n",
              "      <td>20.644</td>\n",
              "      <td>0.434969</td>\n",
              "      <td>0.819235</td>\n",
              "      <td>-4.117501</td>\n",
              "      <td>0.334147</td>\n",
              "      <td>2.405554</td>\n",
              "      <td>0.368975</td>\n",
              "      <td>1</td>\n",
              "    </tr>\n",
              "    <tr>\n",
              "      <th>4</th>\n",
              "      <td>116.014</td>\n",
              "      <td>141.781</td>\n",
              "      <td>110.655</td>\n",
              "      <td>0.01284</td>\n",
              "      <td>0.00011</td>\n",
              "      <td>0.00655</td>\n",
              "      <td>0.00908</td>\n",
              "      <td>0.01966</td>\n",
              "      <td>0.06425</td>\n",
              "      <td>0.584</td>\n",
              "      <td>...</td>\n",
              "      <td>0.10470</td>\n",
              "      <td>0.01767</td>\n",
              "      <td>19.649</td>\n",
              "      <td>0.417356</td>\n",
              "      <td>0.823484</td>\n",
              "      <td>-3.747787</td>\n",
              "      <td>0.234513</td>\n",
              "      <td>2.332180</td>\n",
              "      <td>0.410335</td>\n",
              "      <td>1</td>\n",
              "    </tr>\n",
              "    <tr>\n",
              "      <th>...</th>\n",
              "      <td>...</td>\n",
              "      <td>...</td>\n",
              "      <td>...</td>\n",
              "      <td>...</td>\n",
              "      <td>...</td>\n",
              "      <td>...</td>\n",
              "      <td>...</td>\n",
              "      <td>...</td>\n",
              "      <td>...</td>\n",
              "      <td>...</td>\n",
              "      <td>...</td>\n",
              "      <td>...</td>\n",
              "      <td>...</td>\n",
              "      <td>...</td>\n",
              "      <td>...</td>\n",
              "      <td>...</td>\n",
              "      <td>...</td>\n",
              "      <td>...</td>\n",
              "      <td>...</td>\n",
              "      <td>...</td>\n",
              "      <td>...</td>\n",
              "    </tr>\n",
              "    <tr>\n",
              "      <th>190</th>\n",
              "      <td>174.188</td>\n",
              "      <td>230.978</td>\n",
              "      <td>94.261</td>\n",
              "      <td>0.00459</td>\n",
              "      <td>0.00003</td>\n",
              "      <td>0.00263</td>\n",
              "      <td>0.00259</td>\n",
              "      <td>0.00790</td>\n",
              "      <td>0.04087</td>\n",
              "      <td>0.405</td>\n",
              "      <td>...</td>\n",
              "      <td>0.07008</td>\n",
              "      <td>0.02764</td>\n",
              "      <td>19.517</td>\n",
              "      <td>0.448439</td>\n",
              "      <td>0.657899</td>\n",
              "      <td>-6.538586</td>\n",
              "      <td>0.121952</td>\n",
              "      <td>2.657476</td>\n",
              "      <td>0.133050</td>\n",
              "      <td>0</td>\n",
              "    </tr>\n",
              "    <tr>\n",
              "      <th>191</th>\n",
              "      <td>209.516</td>\n",
              "      <td>253.017</td>\n",
              "      <td>89.488</td>\n",
              "      <td>0.00564</td>\n",
              "      <td>0.00003</td>\n",
              "      <td>0.00331</td>\n",
              "      <td>0.00292</td>\n",
              "      <td>0.00994</td>\n",
              "      <td>0.02751</td>\n",
              "      <td>0.263</td>\n",
              "      <td>...</td>\n",
              "      <td>0.04812</td>\n",
              "      <td>0.01810</td>\n",
              "      <td>19.147</td>\n",
              "      <td>0.431674</td>\n",
              "      <td>0.683244</td>\n",
              "      <td>-6.195325</td>\n",
              "      <td>0.129303</td>\n",
              "      <td>2.784312</td>\n",
              "      <td>0.168895</td>\n",
              "      <td>0</td>\n",
              "    </tr>\n",
              "    <tr>\n",
              "      <th>192</th>\n",
              "      <td>174.688</td>\n",
              "      <td>240.005</td>\n",
              "      <td>74.287</td>\n",
              "      <td>0.01360</td>\n",
              "      <td>0.00008</td>\n",
              "      <td>0.00624</td>\n",
              "      <td>0.00564</td>\n",
              "      <td>0.01873</td>\n",
              "      <td>0.02308</td>\n",
              "      <td>0.256</td>\n",
              "      <td>...</td>\n",
              "      <td>0.03804</td>\n",
              "      <td>0.10715</td>\n",
              "      <td>17.883</td>\n",
              "      <td>0.407567</td>\n",
              "      <td>0.655683</td>\n",
              "      <td>-6.787197</td>\n",
              "      <td>0.158453</td>\n",
              "      <td>2.679772</td>\n",
              "      <td>0.131728</td>\n",
              "      <td>0</td>\n",
              "    </tr>\n",
              "    <tr>\n",
              "      <th>193</th>\n",
              "      <td>198.764</td>\n",
              "      <td>396.961</td>\n",
              "      <td>74.904</td>\n",
              "      <td>0.00740</td>\n",
              "      <td>0.00004</td>\n",
              "      <td>0.00370</td>\n",
              "      <td>0.00390</td>\n",
              "      <td>0.01109</td>\n",
              "      <td>0.02296</td>\n",
              "      <td>0.241</td>\n",
              "      <td>...</td>\n",
              "      <td>0.03794</td>\n",
              "      <td>0.07223</td>\n",
              "      <td>19.020</td>\n",
              "      <td>0.451221</td>\n",
              "      <td>0.643956</td>\n",
              "      <td>-6.744577</td>\n",
              "      <td>0.207454</td>\n",
              "      <td>2.138608</td>\n",
              "      <td>0.123306</td>\n",
              "      <td>0</td>\n",
              "    </tr>\n",
              "    <tr>\n",
              "      <th>194</th>\n",
              "      <td>214.289</td>\n",
              "      <td>260.277</td>\n",
              "      <td>77.973</td>\n",
              "      <td>0.00567</td>\n",
              "      <td>0.00003</td>\n",
              "      <td>0.00295</td>\n",
              "      <td>0.00317</td>\n",
              "      <td>0.00885</td>\n",
              "      <td>0.01884</td>\n",
              "      <td>0.190</td>\n",
              "      <td>...</td>\n",
              "      <td>0.03078</td>\n",
              "      <td>0.04398</td>\n",
              "      <td>21.209</td>\n",
              "      <td>0.462803</td>\n",
              "      <td>0.664357</td>\n",
              "      <td>-5.724056</td>\n",
              "      <td>0.190667</td>\n",
              "      <td>2.555477</td>\n",
              "      <td>0.148569</td>\n",
              "      <td>0</td>\n",
              "    </tr>\n",
              "  </tbody>\n",
              "</table>\n",
              "<p>195 rows × 23 columns</p>\n",
              "</div>\n",
              "      <button class=\"colab-df-convert\" onclick=\"convertToInteractive('df-53b4138a-b5e1-4e61-9a02-f2713adfd5ac')\"\n",
              "              title=\"Convert this dataframe to an interactive table.\"\n",
              "              style=\"display:none;\">\n",
              "        \n",
              "  <svg xmlns=\"http://www.w3.org/2000/svg\" height=\"24px\"viewBox=\"0 0 24 24\"\n",
              "       width=\"24px\">\n",
              "    <path d=\"M0 0h24v24H0V0z\" fill=\"none\"/>\n",
              "    <path d=\"M18.56 5.44l.94 2.06.94-2.06 2.06-.94-2.06-.94-.94-2.06-.94 2.06-2.06.94zm-11 1L8.5 8.5l.94-2.06 2.06-.94-2.06-.94L8.5 2.5l-.94 2.06-2.06.94zm10 10l.94 2.06.94-2.06 2.06-.94-2.06-.94-.94-2.06-.94 2.06-2.06.94z\"/><path d=\"M17.41 7.96l-1.37-1.37c-.4-.4-.92-.59-1.43-.59-.52 0-1.04.2-1.43.59L10.3 9.45l-7.72 7.72c-.78.78-.78 2.05 0 2.83L4 21.41c.39.39.9.59 1.41.59.51 0 1.02-.2 1.41-.59l7.78-7.78 2.81-2.81c.8-.78.8-2.07 0-2.86zM5.41 20L4 18.59l7.72-7.72 1.47 1.35L5.41 20z\"/>\n",
              "  </svg>\n",
              "      </button>\n",
              "      \n",
              "  <style>\n",
              "    .colab-df-container {\n",
              "      display:flex;\n",
              "      flex-wrap:wrap;\n",
              "      gap: 12px;\n",
              "    }\n",
              "\n",
              "    .colab-df-convert {\n",
              "      background-color: #E8F0FE;\n",
              "      border: none;\n",
              "      border-radius: 50%;\n",
              "      cursor: pointer;\n",
              "      display: none;\n",
              "      fill: #1967D2;\n",
              "      height: 32px;\n",
              "      padding: 0 0 0 0;\n",
              "      width: 32px;\n",
              "    }\n",
              "\n",
              "    .colab-df-convert:hover {\n",
              "      background-color: #E2EBFA;\n",
              "      box-shadow: 0px 1px 2px rgba(60, 64, 67, 0.3), 0px 1px 3px 1px rgba(60, 64, 67, 0.15);\n",
              "      fill: #174EA6;\n",
              "    }\n",
              "\n",
              "    [theme=dark] .colab-df-convert {\n",
              "      background-color: #3B4455;\n",
              "      fill: #D2E3FC;\n",
              "    }\n",
              "\n",
              "    [theme=dark] .colab-df-convert:hover {\n",
              "      background-color: #434B5C;\n",
              "      box-shadow: 0px 1px 3px 1px rgba(0, 0, 0, 0.15);\n",
              "      filter: drop-shadow(0px 1px 2px rgba(0, 0, 0, 0.3));\n",
              "      fill: #FFFFFF;\n",
              "    }\n",
              "  </style>\n",
              "\n",
              "      <script>\n",
              "        const buttonEl =\n",
              "          document.querySelector('#df-53b4138a-b5e1-4e61-9a02-f2713adfd5ac button.colab-df-convert');\n",
              "        buttonEl.style.display =\n",
              "          google.colab.kernel.accessAllowed ? 'block' : 'none';\n",
              "\n",
              "        async function convertToInteractive(key) {\n",
              "          const element = document.querySelector('#df-53b4138a-b5e1-4e61-9a02-f2713adfd5ac');\n",
              "          const dataTable =\n",
              "            await google.colab.kernel.invokeFunction('convertToInteractive',\n",
              "                                                     [key], {});\n",
              "          if (!dataTable) return;\n",
              "\n",
              "          const docLinkHtml = 'Like what you see? Visit the ' +\n",
              "            '<a target=\"_blank\" href=https://colab.research.google.com/notebooks/data_table.ipynb>data table notebook</a>'\n",
              "            + ' to learn more about interactive tables.';\n",
              "          element.innerHTML = '';\n",
              "          dataTable['output_type'] = 'display_data';\n",
              "          await google.colab.output.renderOutput(dataTable, element);\n",
              "          const docLink = document.createElement('div');\n",
              "          docLink.innerHTML = docLinkHtml;\n",
              "          element.appendChild(docLink);\n",
              "        }\n",
              "      </script>\n",
              "    </div>\n",
              "  </div>\n",
              "  "
            ]
          },
          "metadata": {},
          "execution_count": 9
        }
      ]
    },
    {
      "cell_type": "code",
      "source": [
        "len(df.status.unique())"
      ],
      "metadata": {
        "colab": {
          "base_uri": "https://localhost:8080/"
        },
        "id": "UL4tWLVn-rG2",
        "outputId": "0e8ccbbe-eba7-4a62-83d6-812192fc96f6"
      },
      "execution_count": null,
      "outputs": [
        {
          "output_type": "execute_result",
          "data": {
            "text/plain": [
              "2"
            ]
          },
          "metadata": {},
          "execution_count": 10
        }
      ]
    },
    {
      "cell_type": "code",
      "source": [
        "df.shape"
      ],
      "metadata": {
        "colab": {
          "base_uri": "https://localhost:8080/"
        },
        "id": "stPJXYJX-5eP",
        "outputId": "61cb9a82-eab7-42ad-d9e8-943e002b33de"
      },
      "execution_count": null,
      "outputs": [
        {
          "output_type": "execute_result",
          "data": {
            "text/plain": [
              "(195, 23)"
            ]
          },
          "metadata": {},
          "execution_count": 11
        }
      ]
    },
    {
      "cell_type": "markdown",
      "source": [
        "Data Cleaning and Ranging"
      ],
      "metadata": {
        "id": "zCIIp8yP-_6E"
      }
    },
    {
      "cell_type": "code",
      "source": [
        "from sklearn.preprocessing import StandardScaler"
      ],
      "metadata": {
        "id": "P9_6fc3t--fH"
      },
      "execution_count": null,
      "outputs": []
    },
    {
      "cell_type": "code",
      "source": [
        "x = df.drop(['status'],axis=1)\n",
        "y = df['status']"
      ],
      "metadata": {
        "id": "M1eaNBTs-_a3"
      },
      "execution_count": null,
      "outputs": []
    },
    {
      "cell_type": "code",
      "source": [
        "stdscaler = StandardScaler()\n",
        "x = np.array(stdscaler.fit_transform(x))\n",
        "x"
      ],
      "metadata": {
        "colab": {
          "base_uri": "https://localhost:8080/"
        },
        "id": "UlUPQBRtC5Ux",
        "outputId": "1add2729-539b-4bc1-b584-6ca379e76162"
      },
      "execution_count": null,
      "outputs": [
        {
          "output_type": "execute_result",
          "data": {
            "text/plain": [
              "array([[-0.82929965, -0.43616456, -0.95203729, ...,  0.48047686,\n",
              "        -0.21053082,  0.86888575],\n",
              "       [-0.77097169, -0.53097409, -0.05772056, ...,  1.31118546,\n",
              "         0.27507712,  1.80360503],\n",
              "       [-0.90947638, -0.7231683 , -0.10987483, ...,  1.01768236,\n",
              "        -0.10362861,  1.40266141],\n",
              "       ...,\n",
              "       [ 0.49557839,  0.47010361, -0.96839309, ..., -0.81807931,\n",
              "         0.78033848, -0.83241014],\n",
              "       [ 1.07876114,  2.19004398, -0.95417967, ..., -0.22906571,\n",
              "        -0.63700298, -0.92610456],\n",
              "       [ 1.45481664,  0.69224632, -0.88348115, ..., -0.43085284,\n",
              "         0.45480231, -0.64505466]])"
            ]
          },
          "metadata": {},
          "execution_count": 14
        }
      ]
    },
    {
      "cell_type": "markdown",
      "source": [
        "Train Test Split"
      ],
      "metadata": {
        "id": "RuNUIbz5DErH"
      }
    },
    {
      "cell_type": "code",
      "source": [
        "from sklearn.model_selection import train_test_split\n",
        "X_train,X_test,Y_train,Y_test = train_test_split(x,y,test_size=0.2,random_state=10)"
      ],
      "metadata": {
        "id": "Mcb0blU-C5kP"
      },
      "execution_count": null,
      "outputs": []
    },
    {
      "cell_type": "code",
      "source": [
        "print(X_train.shape)\n",
        "print(X_test.shape)\n",
        "print(Y_train.shape)\n",
        "print(Y_test.shape)"
      ],
      "metadata": {
        "colab": {
          "base_uri": "https://localhost:8080/"
        },
        "id": "t8laERwoDFFH",
        "outputId": "2daf7d49-9f32-4e7f-d90b-cf563f1b5cb8"
      },
      "execution_count": null,
      "outputs": [
        {
          "output_type": "stream",
          "name": "stdout",
          "text": [
            "(156, 22)\n",
            "(39, 22)\n",
            "(156,)\n",
            "(39,)\n"
          ]
        }
      ]
    },
    {
      "cell_type": "code",
      "source": [
        "X_train = np.array(X_train)\n",
        "Y_train = np.array(Y_train)\n",
        "X_test = np.array(X_test)\n",
        "Y_test = np.array(Y_test)\n",
        "len(Y_test)"
      ],
      "metadata": {
        "colab": {
          "base_uri": "https://localhost:8080/"
        },
        "id": "vl4TRWJNDT-s",
        "outputId": "56c80b3c-4c1c-4123-f1fc-f4bbb84d7d5d"
      },
      "execution_count": null,
      "outputs": [
        {
          "output_type": "execute_result",
          "data": {
            "text/plain": [
              "39"
            ]
          },
          "metadata": {},
          "execution_count": 17
        }
      ]
    },
    {
      "cell_type": "markdown",
      "source": [
        "Linear Regression"
      ],
      "metadata": {
        "id": "5I71Rj3tDrGI"
      }
    },
    {
      "cell_type": "code",
      "source": [
        "# linear Regression\n",
        "from sklearn.linear_model import LinearRegression\n",
        "model1 = LinearRegression()"
      ],
      "metadata": {
        "id": "bhoKn0EJDpLQ"
      },
      "execution_count": null,
      "outputs": []
    },
    {
      "cell_type": "code",
      "source": [
        "model1.fit(X_train,Y_train)"
      ],
      "metadata": {
        "colab": {
          "base_uri": "https://localhost:8080/"
        },
        "id": "rvuKhR0nD2AO",
        "outputId": "a7618746-382c-4dc1-9824-e3b9c3022ec5"
      },
      "execution_count": null,
      "outputs": [
        {
          "output_type": "execute_result",
          "data": {
            "text/plain": [
              "LinearRegression()"
            ]
          },
          "metadata": {},
          "execution_count": 19
        }
      ]
    },
    {
      "cell_type": "code",
      "source": [
        "Y_predmod1=model1.predict(X_test)\n",
        "Y_predmod1"
      ],
      "metadata": {
        "colab": {
          "base_uri": "https://localhost:8080/"
        },
        "id": "V-bJn930D5Hq",
        "outputId": "8ce0cf89-df2e-4362-fd25-3cff556d27f1"
      },
      "execution_count": null,
      "outputs": [
        {
          "output_type": "execute_result",
          "data": {
            "text/plain": [
              "array([0.51464502, 0.92291805, 1.08895196, 0.93072429, 0.39722818,\n",
              "       0.96450257, 0.51665718, 0.73428536, 0.96425774, 0.89648295,\n",
              "       0.54933081, 1.04009737, 1.02683814, 1.02090193, 0.52986194,\n",
              "       0.21476581, 1.07171961, 0.93419406, 0.55144217, 0.87538823,\n",
              "       1.17667136, 0.53241189, 0.40486539, 0.77032915, 0.94973256,\n",
              "       0.79196182, 0.95604616, 1.05056541, 0.02141046, 0.08635714,\n",
              "       0.86404109, 0.73424635, 1.07673007, 0.16402396, 0.26651789,\n",
              "       0.70248981, 0.5602687 , 0.96492844, 0.09659312])"
            ]
          },
          "metadata": {},
          "execution_count": 20
        }
      ]
    },
    {
      "cell_type": "code",
      "source": [
        "for i,j in enumerate(Y_predmod1):\n",
        "    if(j<0.5):\n",
        "        Y_predmod1[i]=0\n",
        "    else:\n",
        "        Y_predmod1[i]=1\n",
        "print(Y_predmod1)\n",
        "Y_predmod1.shape"
      ],
      "metadata": {
        "colab": {
          "base_uri": "https://localhost:8080/"
        },
        "id": "uQBrJ6ThD88b",
        "outputId": "b35f527e-d6cf-4629-f1bb-da900eb905da"
      },
      "execution_count": null,
      "outputs": [
        {
          "output_type": "stream",
          "name": "stdout",
          "text": [
            "[1. 1. 1. 1. 0. 1. 1. 1. 1. 1. 1. 1. 1. 1. 1. 0. 1. 1. 1. 1. 1. 1. 0. 1.\n",
            " 1. 1. 1. 1. 0. 0. 1. 1. 1. 0. 0. 1. 1. 1. 0.]\n"
          ]
        },
        {
          "output_type": "execute_result",
          "data": {
            "text/plain": [
              "(39,)"
            ]
          },
          "metadata": {},
          "execution_count": 21
        }
      ]
    },
    {
      "cell_type": "code",
      "source": [
        "Y_test=np.array(Y_test)\n",
        "print(Y_test)\n",
        "Y_test.shape"
      ],
      "metadata": {
        "colab": {
          "base_uri": "https://localhost:8080/"
        },
        "id": "cK7GWmINEDJH",
        "outputId": "891303c6-e14d-4533-9c0c-af9ed74b3454"
      },
      "execution_count": null,
      "outputs": [
        {
          "output_type": "stream",
          "name": "stdout",
          "text": [
            "[1 1 1 1 0 1 0 1 1 1 1 1 1 1 1 0 1 1 1 1 1 0 0 1 1 1 1 1 0 0 1 1 1 0 0 1 0\n",
            " 1 0]\n"
          ]
        },
        {
          "output_type": "execute_result",
          "data": {
            "text/plain": [
              "(39,)"
            ]
          },
          "metadata": {},
          "execution_count": 22
        }
      ]
    },
    {
      "cell_type": "code",
      "source": [
        "print(\"X_test_array Y_test\")\n",
        "for i,j in zip(Y_predmod1,Y_test):\n",
        "    print(i,\"          \",j)"
      ],
      "metadata": {
        "colab": {
          "base_uri": "https://localhost:8080/"
        },
        "id": "zyjn7vhlENEa",
        "outputId": "04b86c6d-d664-4ca2-8a03-ca04c49e0d69"
      },
      "execution_count": null,
      "outputs": [
        {
          "output_type": "stream",
          "name": "stdout",
          "text": [
            "X_test_array Y_test\n",
            "1.0            1\n",
            "1.0            1\n",
            "1.0            1\n",
            "1.0            1\n",
            "0.0            0\n",
            "1.0            1\n",
            "1.0            0\n",
            "1.0            1\n",
            "1.0            1\n",
            "1.0            1\n",
            "1.0            1\n",
            "1.0            1\n",
            "1.0            1\n",
            "1.0            1\n",
            "1.0            1\n",
            "0.0            0\n",
            "1.0            1\n",
            "1.0            1\n",
            "1.0            1\n",
            "1.0            1\n",
            "1.0            1\n",
            "1.0            0\n",
            "0.0            0\n",
            "1.0            1\n",
            "1.0            1\n",
            "1.0            1\n",
            "1.0            1\n",
            "1.0            1\n",
            "0.0            0\n",
            "0.0            0\n",
            "1.0            1\n",
            "1.0            1\n",
            "1.0            1\n",
            "0.0            0\n",
            "0.0            0\n",
            "1.0            1\n",
            "1.0            0\n",
            "1.0            1\n",
            "0.0            0\n"
          ]
        }
      ]
    },
    {
      "cell_type": "code",
      "source": [
        "print(\"Linear regression Accuracy :\\n\")\n",
        "model1.score(X_test,Y_test)"
      ],
      "metadata": {
        "colab": {
          "base_uri": "https://localhost:8080/"
        },
        "id": "IYvoSOlLEeKK",
        "outputId": "de7115eb-cd8e-4585-aafa-e54f20934c6a"
      },
      "execution_count": null,
      "outputs": [
        {
          "output_type": "stream",
          "name": "stdout",
          "text": [
            "Linear regression Accuracy :\n",
            "\n"
          ]
        },
        {
          "output_type": "execute_result",
          "data": {
            "text/plain": [
              "0.6634994862742183"
            ]
          },
          "metadata": {},
          "execution_count": 26
        }
      ]
    },
    {
      "cell_type": "code",
      "source": [
        "model1.coef_"
      ],
      "metadata": {
        "colab": {
          "base_uri": "https://localhost:8080/"
        },
        "id": "1gdFNhRrEzrw",
        "outputId": "e9d97886-2e7c-4c38-aece-d4909ad59b92"
      },
      "execution_count": null,
      "outputs": [
        {
          "output_type": "execute_result",
          "data": {
            "text/plain": [
              "array([-1.04534118e-01, -8.64109626e-03, -8.47479945e-02, -8.42742504e-01,\n",
              "       -2.11212157e-01,  1.56884203e+01, -1.42137550e-01, -1.46054643e+01,\n",
              "        5.17532503e-01,  5.28230731e-02, -4.02387066e+01, -2.09417859e-01,\n",
              "       -7.79932356e-02,  4.00157133e+01, -9.44810447e-02, -4.34151524e-02,\n",
              "       -8.18391150e-02,  1.28448884e-02,  7.56285161e-02,  1.01698916e-01,\n",
              "        1.77072618e-02,  1.60954993e-01])"
            ]
          },
          "metadata": {},
          "execution_count": 27
        }
      ]
    },
    {
      "cell_type": "code",
      "source": [
        "model1.intercept_"
      ],
      "metadata": {
        "colab": {
          "base_uri": "https://localhost:8080/"
        },
        "id": "H7cmIHdlE7g8",
        "outputId": "f9c9a79a-4fa3-4b96-be21-18ef04c164ad"
      },
      "execution_count": null,
      "outputs": [
        {
          "output_type": "execute_result",
          "data": {
            "text/plain": [
              "0.7534122263490167"
            ]
          },
          "metadata": {},
          "execution_count": 28
        }
      ]
    },
    {
      "cell_type": "code",
      "source": [
        "from sklearn.metrics import confusion_matrix\n",
        "import matplotlib.pyplot as plt"
      ],
      "metadata": {
        "id": "S-xMm4hIFEoV"
      },
      "execution_count": null,
      "outputs": []
    },
    {
      "cell_type": "code",
      "source": [
        "cm=confusion_matrix(Y_test,Y_predmod1)\n",
        "import seaborn as sn\n",
        "plt.figure(figsize=(10,8))\n",
        "fg=sn.heatmap(cm,annot=True,cmap='Oranges')\n",
        "figure=fg.get_figure()\n",
        "figure.savefig('Linear Regression.jpg', dpi=400)\n",
        "plt.xlabel(\"Predicted\")\n",
        "plt.ylabel(\"Truth\")"
      ],
      "metadata": {
        "colab": {
          "base_uri": "https://localhost:8080/",
          "height": 514
        },
        "id": "HJjxJhv7FhkD",
        "outputId": "5e06017a-3cba-4ae7-bd9d-456be119942d"
      },
      "execution_count": null,
      "outputs": [
        {
          "output_type": "execute_result",
          "data": {
            "text/plain": [
              "Text(384.88888888888886, 0.5, 'Truth')"
            ]
          },
          "metadata": {},
          "execution_count": 30
        },
        {
          "output_type": "display_data",
          "data": {
            "text/plain": [
              "<Figure size 720x576 with 2 Axes>"
            ],
            "image/png": "[encoded data removed]"
          },
          "metadata": {
            "needs_background": "light"
          }
        }
      ]
    },
    {
      "cell_type": "markdown",
      "source": [
        "Logistic Regression"
      ],
      "metadata": {
        "id": "pdh3m7TfFzfC"
      }
    },
    {
      "cell_type": "code",
      "source": [
        "#Logistic Regression\n",
        "from sklearn.linear_model import LogisticRegression\n",
        "model2 = LogisticRegression()\n",
        "model2.fit(X_train,Y_train)"
      ],
      "metadata": {
        "colab": {
          "base_uri": "https://localhost:8080/"
        },
        "id": "lROK34BZFyt0",
        "outputId": "bdcd23e6-4926-4b72-826b-246303f1aab6"
      },
      "execution_count": null,
      "outputs": [
        {
          "output_type": "execute_result",
          "data": {
            "text/plain": [
              "LogisticRegression()"
            ]
          },
          "metadata": {},
          "execution_count": 32
        }
      ]
    },
    {
      "cell_type": "code",
      "source": [
        "Y_predmod2 = model2.predict(X_test)\n",
        "Y_predmod2"
      ],
      "metadata": {
        "colab": {
          "base_uri": "https://localhost:8080/"
        },
        "id": "MW_NSdpFFz7j",
        "outputId": "ac103c15-9e08-4f91-8cbf-2774c340bd26"
      },
      "execution_count": null,
      "outputs": [
        {
          "output_type": "execute_result",
          "data": {
            "text/plain": [
              "array([1, 1, 1, 1, 0, 1, 0, 1, 1, 1, 1, 1, 1, 1, 1, 0, 1, 1, 0, 1, 1, 0,\n",
              "       0, 1, 1, 1, 1, 1, 0, 0, 1, 1, 1, 0, 0, 1, 0, 1, 0])"
            ]
          },
          "metadata": {},
          "execution_count": 33
        }
      ]
    },
    {
      "cell_type": "code",
      "source": [
        "Y_test"
      ],
      "metadata": {
        "colab": {
          "base_uri": "https://localhost:8080/"
        },
        "id": "F1-1s09QHFhn",
        "outputId": "a8f6b72b-5269-4114-eca6-2957d286f992"
      },
      "execution_count": null,
      "outputs": [
        {
          "output_type": "execute_result",
          "data": {
            "text/plain": [
              "array([1, 1, 1, 1, 0, 1, 0, 1, 1, 1, 1, 1, 1, 1, 1, 0, 1, 1, 1, 1, 1, 0,\n",
              "       0, 1, 1, 1, 1, 1, 0, 0, 1, 1, 1, 0, 0, 1, 0, 1, 0])"
            ]
          },
          "metadata": {},
          "execution_count": 34
        }
      ]
    },
    {
      "cell_type": "code",
      "source": [
        "print(\"Logistic Regression Accuracy:\")\n",
        "model2.score(X_test,Y_test)"
      ],
      "metadata": {
        "colab": {
          "base_uri": "https://localhost:8080/"
        },
        "id": "80DuwgFiHKrz",
        "outputId": "294e9d7b-43f8-4e03-d446-312a8cce6792"
      },
      "execution_count": null,
      "outputs": [
        {
          "output_type": "stream",
          "name": "stdout",
          "text": [
            "Logistic Regression Accuracy:\n"
          ]
        },
        {
          "output_type": "execute_result",
          "data": {
            "text/plain": [
              "0.9743589743589743"
            ]
          },
          "metadata": {},
          "execution_count": 36
        }
      ]
    },
    {
      "cell_type": "code",
      "source": [
        "model2.predict_proba(X_test)"
      ],
      "metadata": {
        "colab": {
          "base_uri": "https://localhost:8080/"
        },
        "id": "q62tN56UHPHO",
        "outputId": "c89c8ebb-9ecd-4a96-d326-d710082f42c7"
      },
      "execution_count": null,
      "outputs": [
        {
          "output_type": "execute_result",
          "data": {
            "text/plain": [
              "array([[6.04302356e-02, 9.39569764e-01],\n",
              "       [3.22125469e-03, 9.96778745e-01],\n",
              "       [1.50254202e-03, 9.98497458e-01],\n",
              "       [2.59753456e-02, 9.74024654e-01],\n",
              "       [5.76189480e-01, 4.23810520e-01],\n",
              "       [2.61914891e-03, 9.97380851e-01],\n",
              "       [7.34636224e-01, 2.65363776e-01],\n",
              "       [2.27997815e-02, 9.77200219e-01],\n",
              "       [1.53787217e-01, 8.46212783e-01],\n",
              "       [3.05365168e-03, 9.96946348e-01],\n",
              "       [4.45622835e-01, 5.54377165e-01],\n",
              "       [2.53908029e-02, 9.74609197e-01],\n",
              "       [7.04228379e-02, 9.29577162e-01],\n",
              "       [5.71461644e-02, 9.42853836e-01],\n",
              "       [2.57962987e-01, 7.42037013e-01],\n",
              "       [7.91088358e-01, 2.08911642e-01],\n",
              "       [7.27540850e-03, 9.92724592e-01],\n",
              "       [4.44811777e-02, 9.55518822e-01],\n",
              "       [5.88103262e-01, 4.11896738e-01],\n",
              "       [3.32999226e-03, 9.96670008e-01],\n",
              "       [2.44702351e-04, 9.99755298e-01],\n",
              "       [5.56339077e-01, 4.43660923e-01],\n",
              "       [6.99562434e-01, 3.00437566e-01],\n",
              "       [3.94903792e-02, 9.60509621e-01],\n",
              "       [4.36883644e-03, 9.95631164e-01],\n",
              "       [1.54327457e-01, 8.45672543e-01],\n",
              "       [1.64888962e-02, 9.83511104e-01],\n",
              "       [6.22560045e-04, 9.99377440e-01],\n",
              "       [9.07739647e-01, 9.22603532e-02],\n",
              "       [9.50248033e-01, 4.97519666e-02],\n",
              "       [4.25903823e-02, 9.57409618e-01],\n",
              "       [1.58446711e-01, 8.41553289e-01],\n",
              "       [4.40254150e-02, 9.55974585e-01],\n",
              "       [9.16494901e-01, 8.35050992e-02],\n",
              "       [7.27611002e-01, 2.72388998e-01],\n",
              "       [3.63898366e-01, 6.36101634e-01],\n",
              "       [6.55703453e-01, 3.44296547e-01],\n",
              "       [1.41646900e-02, 9.85835310e-01],\n",
              "       [8.52785824e-01, 1.47214176e-01]])"
            ]
          },
          "metadata": {},
          "execution_count": 37
        }
      ]
    },
    {
      "cell_type": "code",
      "source": [
        "from sklearn.metrics import confusion_matrix\n",
        "cm=confusion_matrix(Y_test,Y_predmod2)\n",
        "import seaborn as sn\n",
        "plt.figure(figsize=(10,8))\n",
        "fg=sn.heatmap(cm,annot=True)\n",
        "figure=fg.get_figure()\n",
        "figure.savefig('Logistic Regression.jpg', dpi=400)\n",
        "plt.xlabel(\"Predicted\")\n",
        "plt.ylabel(\"Truth\")"
      ],
      "metadata": {
        "colab": {
          "base_uri": "https://localhost:8080/",
          "height": 514
        },
        "id": "kf0vi8pPHYHo",
        "outputId": "95df28ea-c95d-4f1d-aa78-75168f3243a7"
      },
      "execution_count": null,
      "outputs": [
        {
          "output_type": "execute_result",
          "data": {
            "text/plain": [
              "Text(384.88888888888886, 0.5, 'Truth')"
            ]
          },
          "metadata": {},
          "execution_count": 38
        },
        {
          "output_type": "display_data",
          "data": {
            "text/plain": [
              "<Figure size 720x576 with 2 Axes>"
            ],
            "image/png": "[encoded data removed]"
          },
          "metadata": {
            "needs_background": "light"
          }
        }
      ]
    },
    {
      "cell_type": "markdown",
      "source": [
        "Decision Tree"
      ],
      "metadata": {
        "id": "tgqSnl_dHxx8"
      }
    },
    {
      "cell_type": "code",
      "source": [
        "# Decision Tree model\n",
        "from sklearn import tree\n",
        "model3 = tree.DecisionTreeClassifier()"
      ],
      "metadata": {
        "id": "hr9BIlcfHxmr"
      },
      "execution_count": null,
      "outputs": []
    },
    {
      "cell_type": "code",
      "source": [
        "model3.fit(X_train,Y_train)"
      ],
      "metadata": {
        "colab": {
          "base_uri": "https://localhost:8080/"
        },
        "id": "bYm6Ol6HHx-z",
        "outputId": "6da8948e-84ed-4fb9-d859-cdf2b697c3d7"
      },
      "execution_count": null,
      "outputs": [
        {
          "output_type": "execute_result",
          "data": {
            "text/plain": [
              "DecisionTreeClassifier()"
            ]
          },
          "metadata": {},
          "execution_count": 40
        }
      ]
    },
    {
      "cell_type": "code",
      "source": [
        "Y_predmod3=model3.predict(X_test)\n",
        "Y_predmod3"
      ],
      "metadata": {
        "colab": {
          "base_uri": "https://localhost:8080/"
        },
        "id": "1iEz1jSsINzP",
        "outputId": "3959540d-53b8-47cc-eff5-c8c1448d1bcf"
      },
      "execution_count": null,
      "outputs": [
        {
          "output_type": "execute_result",
          "data": {
            "text/plain": [
              "array([1, 1, 1, 1, 1, 1, 0, 1, 1, 1, 1, 1, 1, 1, 1, 0, 1, 1, 1, 1, 1, 0,\n",
              "       0, 0, 1, 1, 1, 1, 1, 0, 1, 1, 1, 0, 0, 1, 0, 1, 0])"
            ]
          },
          "metadata": {},
          "execution_count": 41
        }
      ]
    },
    {
      "cell_type": "code",
      "source": [
        "Y_test"
      ],
      "metadata": {
        "colab": {
          "base_uri": "https://localhost:8080/"
        },
        "id": "wyVRrIx7IZcj",
        "outputId": "d66c8ba5-1c10-4298-996f-55c29b911736"
      },
      "execution_count": null,
      "outputs": [
        {
          "output_type": "execute_result",
          "data": {
            "text/plain": [
              "array([1, 1, 1, 1, 0, 1, 0, 1, 1, 1, 1, 1, 1, 1, 1, 0, 1, 1, 1, 1, 1, 0,\n",
              "       0, 1, 1, 1, 1, 1, 0, 0, 1, 1, 1, 0, 0, 1, 0, 1, 0])"
            ]
          },
          "metadata": {},
          "execution_count": 42
        }
      ]
    },
    {
      "cell_type": "code",
      "source": [
        "print(\"Decision Tree Accuracy:\")\n",
        "model3.score(X_test,Y_test)"
      ],
      "metadata": {
        "colab": {
          "base_uri": "https://localhost:8080/"
        },
        "id": "gbfatWxgIcPE",
        "outputId": "e67fb848-d846-4e3f-9000-d219f6c02da6"
      },
      "execution_count": null,
      "outputs": [
        {
          "output_type": "stream",
          "name": "stdout",
          "text": [
            "Decision Tree Accuracy:\n"
          ]
        },
        {
          "output_type": "execute_result",
          "data": {
            "text/plain": [
              "0.9230769230769231"
            ]
          },
          "metadata": {},
          "execution_count": 43
        }
      ]
    },
    {
      "cell_type": "code",
      "source": [
        "cm=confusion_matrix(Y_test,Y_predmod3)\n",
        "import seaborn as sn\n",
        "plt.figure(figsize=(10,8))\n",
        "fg=sn.heatmap(cm,annot=True,cmap='Blues')\n",
        "figure=fg.get_figure()\n",
        "figure.savefig('Decision Tree.jpg', dpi=400)\n",
        "plt.xlabel(\"Predicted\")\n",
        "plt.ylabel(\"Truth\")"
      ],
      "metadata": {
        "colab": {
          "base_uri": "https://localhost:8080/",
          "height": 514
        },
        "id": "_nXcl12GIgUn",
        "outputId": "4127651f-678c-4265-ebac-9e9a99c90162"
      },
      "execution_count": null,
      "outputs": [
        {
          "output_type": "execute_result",
          "data": {
            "text/plain": [
              "Text(384.88888888888886, 0.5, 'Truth')"
            ]
          },
          "metadata": {},
          "execution_count": 44
        },
        {
          "output_type": "display_data",
          "data": {
            "text/plain": [
              "<Figure size 720x576 with 2 Axes>"
            ],
            "image/png": "[encoded data removed]"
          },
          "metadata": {
            "needs_background": "light"
          }
        }
      ]
    },
    {
      "cell_type": "markdown",
      "source": [
        "Support Vector Machines"
      ],
      "metadata": {
        "id": "WmugLSKHI8S2"
      }
    },
    {
      "cell_type": "code",
      "source": [
        "from sklearn.svm import SVC"
      ],
      "metadata": {
        "id": "asz5LScpIuuz"
      },
      "execution_count": null,
      "outputs": []
    },
    {
      "cell_type": "code",
      "source": [
        "model4 = SVC()\n",
        "model4.fit(X_train,Y_train)"
      ],
      "metadata": {
        "colab": {
          "base_uri": "https://localhost:8080/"
        },
        "id": "7PrG-qY5I77O",
        "outputId": "2d2ce744-8671-4ae0-a683-d5c93a71db4b"
      },
      "execution_count": null,
      "outputs": [
        {
          "output_type": "execute_result",
          "data": {
            "text/plain": [
              "SVC()"
            ]
          },
          "metadata": {},
          "execution_count": 46
        }
      ]
    },
    {
      "cell_type": "code",
      "source": [
        "print(\"Support Vector Machine Accuracy:\")\n",
        "model4.score(X_test,Y_test)"
      ],
      "metadata": {
        "colab": {
          "base_uri": "https://localhost:8080/"
        },
        "id": "lBg_SB3lJQup",
        "outputId": "e8cc7385-712c-443f-e4fa-44de3fbbb34e"
      },
      "execution_count": null,
      "outputs": [
        {
          "output_type": "stream",
          "name": "stdout",
          "text": [
            "Support Vector Machine Accuracy:\n"
          ]
        },
        {
          "output_type": "execute_result",
          "data": {
            "text/plain": [
              "0.9487179487179487"
            ]
          },
          "metadata": {},
          "execution_count": 47
        }
      ]
    },
    {
      "cell_type": "code",
      "source": [
        "Y_predmod4=model4.predict(X_test)\n",
        "Y_predmod4"
      ],
      "metadata": {
        "colab": {
          "base_uri": "https://localhost:8080/"
        },
        "id": "SJAcFA0xJUxj",
        "outputId": "a74b7dfa-ef5e-4ac4-9360-bc1d928a28d5"
      },
      "execution_count": null,
      "outputs": [
        {
          "output_type": "execute_result",
          "data": {
            "text/plain": [
              "array([1, 1, 1, 1, 1, 1, 1, 1, 1, 1, 1, 1, 1, 1, 1, 0, 1, 1, 1, 1, 1, 0,\n",
              "       0, 1, 1, 1, 1, 1, 0, 0, 1, 1, 1, 0, 0, 1, 0, 1, 0])"
            ]
          },
          "metadata": {},
          "execution_count": 48
        }
      ]
    },
    {
      "cell_type": "code",
      "source": [
        "Y_test"
      ],
      "metadata": {
        "colab": {
          "base_uri": "https://localhost:8080/"
        },
        "id": "PjVHYMswJbvO",
        "outputId": "3ec25cb9-f08d-414f-beae-0aa8723274b3"
      },
      "execution_count": null,
      "outputs": [
        {
          "output_type": "execute_result",
          "data": {
            "text/plain": [
              "array([1, 1, 1, 1, 0, 1, 0, 1, 1, 1, 1, 1, 1, 1, 1, 0, 1, 1, 1, 1, 1, 0,\n",
              "       0, 1, 1, 1, 1, 1, 0, 0, 1, 1, 1, 0, 0, 1, 0, 1, 0])"
            ]
          },
          "metadata": {},
          "execution_count": 49
        }
      ]
    },
    {
      "cell_type": "code",
      "source": [
        "cm=confusion_matrix(Y_test,Y_predmod4)\n",
        "import seaborn as sn\n",
        "plt.figure(figsize=(10,8))\n",
        "fg=sn.heatmap(cm,annot=True,cmap='Reds')\n",
        "figure=fg.get_figure()\n",
        "figure.savefig('SVM.jpg', dpi=400)\n",
        "plt.xlabel(\"Predicted\")\n",
        "plt.ylabel(\"Truth\")"
      ],
      "metadata": {
        "colab": {
          "base_uri": "https://localhost:8080/",
          "height": 514
        },
        "id": "s92pg4o3JeRa",
        "outputId": "8df289b8-a585-4acc-afc0-d9ec9f6e515b"
      },
      "execution_count": null,
      "outputs": [
        {
          "output_type": "execute_result",
          "data": {
            "text/plain": [
              "Text(384.88888888888886, 0.5, 'Truth')"
            ]
          },
          "metadata": {},
          "execution_count": 50
        },
        {
          "output_type": "display_data",
          "data": {
            "text/plain": [
              "<Figure size 720x576 with 2 Axes>"
            ],
            "image/png": "[encoded data removed]"
          },
          "metadata": {
            "needs_background": "light"
          }
        }
      ]
    },
    {
      "cell_type": "markdown",
      "source": [
        "Random Forest"
      ],
      "metadata": {
        "id": "m-WgNMv0JsvW"
      }
    },
    {
      "cell_type": "code",
      "source": [
        "# Random Forest \n",
        "from sklearn.ensemble import RandomForestClassifier"
      ],
      "metadata": {
        "id": "atH6kDibJkcu"
      },
      "execution_count": null,
      "outputs": []
    },
    {
      "cell_type": "code",
      "source": [
        "model5 = RandomForestClassifier()"
      ],
      "metadata": {
        "id": "fQncTzIoJsdL"
      },
      "execution_count": null,
      "outputs": []
    },
    {
      "cell_type": "code",
      "source": [
        "model5.fit(X_train,Y_train)"
      ],
      "metadata": {
        "colab": {
          "base_uri": "https://localhost:8080/"
        },
        "id": "33yg7wmdJ4iZ",
        "outputId": "d2b7d659-81b6-48b7-ccf1-dcc44433d9d0"
      },
      "execution_count": null,
      "outputs": [
        {
          "output_type": "execute_result",
          "data": {
            "text/plain": [
              "RandomForestClassifier()"
            ]
          },
          "metadata": {},
          "execution_count": 53
        }
      ]
    },
    {
      "cell_type": "code",
      "source": [
        "Y_predmod5=model5.predict(X_test)\n",
        "Y_predmod5"
      ],
      "metadata": {
        "colab": {
          "base_uri": "https://localhost:8080/"
        },
        "id": "IP8SPySuKDkY",
        "outputId": "04a1859e-c704-44da-fd5b-37477bd65013"
      },
      "execution_count": null,
      "outputs": [
        {
          "output_type": "execute_result",
          "data": {
            "text/plain": [
              "array([1, 1, 1, 1, 0, 1, 0, 1, 1, 1, 1, 1, 1, 1, 1, 0, 1, 1, 1, 1, 1, 0,\n",
              "       0, 1, 1, 1, 1, 1, 0, 0, 1, 1, 1, 0, 0, 1, 0, 1, 0])"
            ]
          },
          "metadata": {},
          "execution_count": 55
        }
      ]
    },
    {
      "cell_type": "code",
      "source": [
        "Y_test"
      ],
      "metadata": {
        "colab": {
          "base_uri": "https://localhost:8080/"
        },
        "id": "OUMjf8VMPF00",
        "outputId": "c4f10bcb-44df-438d-a988-fa719fd18d17"
      },
      "execution_count": null,
      "outputs": [
        {
          "output_type": "execute_result",
          "data": {
            "text/plain": [
              "array([1, 1, 1, 1, 0, 1, 0, 1, 1, 1, 1, 1, 1, 1, 1, 0, 1, 1, 1, 1, 1, 0,\n",
              "       0, 1, 1, 1, 1, 1, 0, 0, 1, 1, 1, 0, 0, 1, 0, 1, 0])"
            ]
          },
          "metadata": {},
          "execution_count": 56
        }
      ]
    },
    {
      "cell_type": "code",
      "source": [
        "print(\"Random Forest Classifier Accuracy:\")\n",
        "model5.score(X_test,Y_test)"
      ],
      "metadata": {
        "colab": {
          "base_uri": "https://localhost:8080/"
        },
        "id": "wyrrORFRJ9SQ",
        "outputId": "4bdf4cf5-4b9c-4218-ad5f-13956bfd37fe"
      },
      "execution_count": null,
      "outputs": [
        {
          "output_type": "stream",
          "name": "stdout",
          "text": [
            "Random Forest Classifier Accuracy:\n"
          ]
        },
        {
          "output_type": "execute_result",
          "data": {
            "text/plain": [
              "1.0"
            ]
          },
          "metadata": {},
          "execution_count": 57
        }
      ]
    },
    {
      "cell_type": "code",
      "source": [
        "cm=confusion_matrix(Y_test,Y_predmod5)\n",
        "import seaborn as sn\n",
        "plt.figure(figsize=(10,8))\n",
        "fg=sn.heatmap(cm,annot=True,)\n",
        "figure=fg.get_figure()\n",
        "figure.savefig('RF.jpg', dpi=400)\n",
        "plt.xlabel(\"Predicted\")\n",
        "plt.ylabel(\"Truth\")"
      ],
      "metadata": {
        "colab": {
          "base_uri": "https://localhost:8080/",
          "height": 514
        },
        "id": "qrCNVCSAPUhT",
        "outputId": "ad45d62e-61bb-4859-804c-224974ffbb0f"
      },
      "execution_count": null,
      "outputs": [
        {
          "output_type": "execute_result",
          "data": {
            "text/plain": [
              "Text(384.88888888888886, 0.5, 'Truth')"
            ]
          },
          "metadata": {},
          "execution_count": 58
        },
        {
          "output_type": "display_data",
          "data": {
            "text/plain": [
              "<Figure size 720x576 with 2 Axes>"
            ],
            "image/png": "[encoded data removed]"
          },
          "metadata": {
            "needs_background": "light"
          }
        }
      ]
    },
    {
      "cell_type": "markdown",
      "source": [
        "XG Boost Algorithm"
      ],
      "metadata": {
        "id": "djsNxNQEPf-l"
      }
    },
    {
      "cell_type": "code",
      "source": [
        "# XGBooster Algorithm\n",
        "from xgboost import XGBClassifier\n",
        "model6 = XGBClassifier()\n",
        "model6.fit(X_train,Y_train)\n",
        "Y_predmod6=model6.predict(X_test)"
      ],
      "metadata": {
        "id": "5XUtGZH1PYQO"
      },
      "execution_count": null,
      "outputs": []
    },
    {
      "cell_type": "code",
      "source": [
        "x6=model6.score(X_test, Y_test)\n",
        "print(\"XG boost Accuracy: \",x6)"
      ],
      "metadata": {
        "colab": {
          "base_uri": "https://localhost:8080/"
        },
        "id": "Oj26RLNHPfVR",
        "outputId": "1a8393ce-0268-4057-e385-4802c83882f3"
      },
      "execution_count": null,
      "outputs": [
        {
          "output_type": "stream",
          "name": "stdout",
          "text": [
            "XG boost Accuracy:  1.0\n"
          ]
        }
      ]
    },
    {
      "cell_type": "code",
      "source": [
        "# heat map plotting\n",
        "cm=confusion_matrix(Y_test,Y_predmod6)\n",
        "import seaborn as sn\n",
        "plt.figure(figsize=(10,8))\n",
        "plt.title(\"XGBClassifier\")\n",
        "fg=sn.heatmap(cm,annot=True,cmap='Greens')\n",
        "figure=fg.get_figure()\n",
        "figure.savefig('XGBoost Classifier.jpg', dpi=400)\n",
        "plt.xlabel(\"Predicted\")\n",
        "plt.ylabel(\"Truth\")"
      ],
      "metadata": {
        "colab": {
          "base_uri": "https://localhost:8080/",
          "height": 530
        },
        "id": "z8Arnd20PeIt",
        "outputId": "0036fd34-b20a-428e-a68e-d9f6231eb071"
      },
      "execution_count": null,
      "outputs": [
        {
          "output_type": "execute_result",
          "data": {
            "text/plain": [
              "Text(384.88888888888886, 0.5, 'Truth')"
            ]
          },
          "metadata": {},
          "execution_count": 61
        },
        {
          "output_type": "display_data",
          "data": {
            "text/plain": [
              "<Figure size 720x576 with 2 Axes>"
            ],
            "image/png": "[encoded data removed]"
          },
          "metadata": {
            "needs_background": "light"
          }
        }
      ]
    },
    {
      "cell_type": "markdown",
      "source": [
        " Advanced Artificial Neural Network (ANN) and Supporting DL Methodology "
      ],
      "metadata": {
        "id": "Ej_cx_roP-DG"
      }
    },
    {
      "cell_type": "code",
      "source": [
        "import tensorflow as tf\n",
        "tf.__version__"
      ],
      "metadata": {
        "colab": {
          "base_uri": "https://localhost:8080/",
          "height": 35
        },
        "id": "zEMdEEH5P4hb",
        "outputId": "e5df32e0-ea54-4d10-cd7d-55924b132e87"
      },
      "execution_count": null,
      "outputs": [
        {
          "output_type": "execute_result",
          "data": {
            "text/plain": [
              "'2.8.0'"
            ],
            "application/vnd.google.colaboratory.intrinsic+json": {
              "type": "string"
            }
          },
          "metadata": {},
          "execution_count": 62
        }
      ]
    },
    {
      "cell_type": "code",
      "source": [
        "import tensorflow\n",
        "import keras\n",
        "from keras.layers import Dense"
      ],
      "metadata": {
        "id": "QQ37rc0nP8rB"
      },
      "execution_count": null,
      "outputs": []
    },
    {
      "cell_type": "code",
      "source": [
        "from sklearn import metrics\n",
        "model7 = keras.Sequential()\n",
        "model7.add(Dense(10,input_dim=22,activation='sigmoid'))\n",
        "model7.add(Dense(20,activation='sigmoid'))\n",
        "model7.add(Dense(12,activation='sigmoid'))\n",
        "model7.add(Dense(9,activation='sigmoid'))\n",
        "model7.add(Dense(5,activation='sigmoid'))\n",
        "model7.add(Dense(1,activation='sigmoid'))\n",
        "model7.compile(optimizer='adam',\n",
        "                loss = 'binary_crossentropy',\n",
        "                metrics = ['accuracy'])\n",
        "model7.fit(X_train,Y_train,epochs=1000)"
      ],
      "metadata": {
        "colab": {
          "base_uri": "https://localhost:8080/"
        },
        "id": "jav_DWkPUd1B",
        "outputId": "b063b6e7-d57b-49eb-a40a-c8dc983b68a7"
      },
      "execution_count": null,
      "outputs": [
        {
          "output_type": "stream",
          "name": "stdout",
          "text": [
            "Epoch 1/1000\n",
            "5/5 [==============================] - 1s 4ms/step - loss: 0.9082 - accuracy: 0.2372\n",
            "Epoch 2/1000\n",
            "5/5 [==============================] - 0s 3ms/step - loss: 0.8833 - accuracy: 0.2372\n",
            "Epoch 3/1000\n",
            "5/5 [==============================] - 0s 4ms/step - loss: 0.8566 - accuracy: 0.2372\n",
            "Epoch 4/1000\n",
            "5/5 [==============================] - 0s 4ms/step - loss: 0.8316 - accuracy: 0.2372\n",
            "Epoch 5/1000\n",
            "5/5 [==============================] - 0s 3ms/step - loss: 0.8095 - accuracy: 0.2372\n",
            "Epoch 6/1000\n",
            "5/5 [==============================] - 0s 4ms/step - loss: 0.7868 - accuracy: 0.2372\n",
            "Epoch 7/1000\n",
            "5/5 [==============================] - 0s 3ms/step - loss: 0.7670 - accuracy: 0.2372\n",
            "Epoch 8/1000\n",
            "5/5 [==============================] - 0s 3ms/step - loss: 0.7483 - accuracy: 0.2372\n",
            "Epoch 9/1000\n",
            "5/5 [==============================] - 0s 3ms/step - loss: 0.7300 - accuracy: 0.2372\n",
            "Epoch 10/1000\n",
            "5/5 [==============================] - 0s 5ms/step - loss: 0.7136 - accuracy: 0.2372\n",
            "Epoch 11/1000\n",
            "5/5 [==============================] - 0s 3ms/step - loss: 0.6980 - accuracy: 0.3141\n",
            "Epoch 12/1000\n",
            "5/5 [==============================] - 0s 5ms/step - loss: 0.6848 - accuracy: 0.7628\n",
            "Epoch 13/1000\n",
            "5/5 [==============================] - 0s 4ms/step - loss: 0.6714 - accuracy: 0.7628\n",
            "Epoch 14/1000\n",
            "5/5 [==============================] - 0s 7ms/step - loss: 0.6593 - accuracy: 0.7628\n",
            "Epoch 15/1000\n",
            "5/5 [==============================] - 0s 5ms/step - loss: 0.6485 - accuracy: 0.7628\n",
            "Epoch 16/1000\n",
            "5/5 [==============================] - 0s 4ms/step - loss: 0.6383 - accuracy: 0.7628\n",
            "Epoch 17/1000\n",
            "5/5 [==============================] - 0s 4ms/step - loss: 0.6304 - accuracy: 0.7628\n",
            "Epoch 18/1000\n",
            "5/5 [==============================] - 0s 4ms/step - loss: 0.6211 - accuracy: 0.7628\n",
            "Epoch 19/1000\n",
            "5/5 [==============================] - 0s 4ms/step - loss: 0.6145 - accuracy: 0.7628\n",
            "Epoch 20/1000\n",
            "5/5 [==============================] - 0s 4ms/step - loss: 0.6068 - accuracy: 0.7628\n",
            "Epoch 21/1000\n",
            "5/5 [==============================] - 0s 5ms/step - loss: 0.6014 - accuracy: 0.7628\n",
            "Epoch 22/1000\n",
            "5/5 [==============================] - 0s 4ms/step - loss: 0.5954 - accuracy: 0.7628\n",
            "Epoch 23/1000\n",
            "5/5 [==============================] - 0s 4ms/step - loss: 0.5905 - accuracy: 0.7628\n",
            "Epoch 24/1000\n",
            "5/5 [==============================] - 0s 4ms/step - loss: 0.5859 - accuracy: 0.7628\n",
            "Epoch 25/1000\n",
            "5/5 [==============================] - 0s 4ms/step - loss: 0.5817 - accuracy: 0.7628\n",
            "Epoch 26/1000\n",
            "5/5 [==============================] - 0s 4ms/step - loss: 0.5780 - accuracy: 0.7628\n",
            "Epoch 27/1000\n",
            "5/5 [==============================] - 0s 4ms/step - loss: 0.5750 - accuracy: 0.7628\n",
            "Epoch 28/1000\n",
            "5/5 [==============================] - 0s 4ms/step - loss: 0.5718 - accuracy: 0.7628\n",
            "Epoch 29/1000\n",
            "5/5 [==============================] - 0s 4ms/step - loss: 0.5687 - accuracy: 0.7628\n",
            "Epoch 30/1000\n",
            "5/5 [==============================] - 0s 4ms/step - loss: 0.5665 - accuracy: 0.7628\n",
            "Epoch 31/1000\n",
            "5/5 [==============================] - 0s 4ms/step - loss: 0.5642 - accuracy: 0.7628\n",
            "Epoch 32/1000\n",
            "5/5 [==============================] - 0s 4ms/step - loss: 0.5624 - accuracy: 0.7628\n",
            "Epoch 33/1000\n",
            "5/5 [==============================] - 0s 4ms/step - loss: 0.5605 - accuracy: 0.7628\n",
            "Epoch 34/1000\n",
            "5/5 [==============================] - 0s 4ms/step - loss: 0.5588 - accuracy: 0.7628\n",
            "Epoch 35/1000\n",
            "5/5 [==============================] - 0s 4ms/step - loss: 0.5576 - accuracy: 0.7628\n",
            "Epoch 36/1000\n",
            "5/5 [==============================] - 0s 4ms/step - loss: 0.5563 - accuracy: 0.7628\n",
            "Epoch 37/1000\n",
            "5/5 [==============================] - 0s 5ms/step - loss: 0.5549 - accuracy: 0.7628\n",
            "Epoch 38/1000\n",
            "5/5 [==============================] - 0s 4ms/step - loss: 0.5538 - accuracy: 0.7628\n",
            "Epoch 39/1000\n",
            "5/5 [==============================] - 0s 5ms/step - loss: 0.5531 - accuracy: 0.7628\n",
            "Epoch 40/1000\n",
            "5/5 [==============================] - 0s 4ms/step - loss: 0.5520 - accuracy: 0.7628\n",
            "Epoch 41/1000\n",
            "5/5 [==============================] - 0s 4ms/step - loss: 0.5513 - accuracy: 0.7628\n",
            "Epoch 42/1000\n",
            "5/5 [==============================] - 0s 4ms/step - loss: 0.5505 - accuracy: 0.7628\n",
            "Epoch 43/1000\n",
            "5/5 [==============================] - 0s 4ms/step - loss: 0.5500 - accuracy: 0.7628\n",
            "Epoch 44/1000\n",
            "5/5 [==============================] - 0s 4ms/step - loss: 0.5493 - accuracy: 0.7628\n",
            "Epoch 45/1000\n",
            "5/5 [==============================] - 0s 4ms/step - loss: 0.5489 - accuracy: 0.7628\n",
            "Epoch 46/1000\n",
            "5/5 [==============================] - 0s 5ms/step - loss: 0.5483 - accuracy: 0.7628\n",
            "Epoch 47/1000\n",
            "5/5 [==============================] - 0s 6ms/step - loss: 0.5480 - accuracy: 0.7628\n",
            "Epoch 48/1000\n",
            "5/5 [==============================] - 0s 3ms/step - loss: 0.5474 - accuracy: 0.7628\n",
            "Epoch 49/1000\n",
            "5/5 [==============================] - 0s 4ms/step - loss: 0.5471 - accuracy: 0.7628\n",
            "Epoch 50/1000\n",
            "5/5 [==============================] - 0s 4ms/step - loss: 0.5468 - accuracy: 0.7628\n",
            "Epoch 51/1000\n",
            "5/5 [==============================] - 0s 4ms/step - loss: 0.5465 - accuracy: 0.7628\n",
            "Epoch 52/1000\n",
            "5/5 [==============================] - 0s 4ms/step - loss: 0.5462 - accuracy: 0.7628\n",
            "Epoch 53/1000\n",
            "5/5 [==============================] - 0s 5ms/step - loss: 0.5458 - accuracy: 0.7628\n",
            "Epoch 54/1000\n",
            "5/5 [==============================] - 0s 4ms/step - loss: 0.5457 - accuracy: 0.7628\n",
            "Epoch 55/1000\n",
            "5/5 [==============================] - 0s 3ms/step - loss: 0.5455 - accuracy: 0.7628\n",
            "Epoch 56/1000\n",
            "5/5 [==============================] - 0s 4ms/step - loss: 0.5451 - accuracy: 0.7628\n",
            "Epoch 57/1000\n",
            "5/5 [==============================] - 0s 3ms/step - loss: 0.5449 - accuracy: 0.7628\n",
            "Epoch 58/1000\n",
            "5/5 [==============================] - 0s 3ms/step - loss: 0.5447 - accuracy: 0.7628\n",
            "Epoch 59/1000\n",
            "5/5 [==============================] - 0s 5ms/step - loss: 0.5445 - accuracy: 0.7628\n",
            "Epoch 60/1000\n",
            "5/5 [==============================] - 0s 5ms/step - loss: 0.5443 - accuracy: 0.7628\n",
            "Epoch 61/1000\n",
            "5/5 [==============================] - 0s 5ms/step - loss: 0.5441 - accuracy: 0.7628\n",
            "Epoch 62/1000\n",
            "5/5 [==============================] - 0s 4ms/step - loss: 0.5439 - accuracy: 0.7628\n",
            "Epoch 63/1000\n",
            "5/5 [==============================] - 0s 4ms/step - loss: 0.5437 - accuracy: 0.7628\n",
            "Epoch 64/1000\n",
            "5/5 [==============================] - 0s 5ms/step - loss: 0.5434 - accuracy: 0.7628\n",
            "Epoch 65/1000\n",
            "5/5 [==============================] - 0s 4ms/step - loss: 0.5433 - accuracy: 0.7628\n",
            "Epoch 66/1000\n",
            "5/5 [==============================] - 0s 3ms/step - loss: 0.5430 - accuracy: 0.7628\n",
            "Epoch 67/1000\n",
            "5/5 [==============================] - 0s 5ms/step - loss: 0.5428 - accuracy: 0.7628\n",
            "Epoch 68/1000\n",
            "5/5 [==============================] - 0s 5ms/step - loss: 0.5425 - accuracy: 0.7628\n",
            "Epoch 69/1000\n",
            "5/5 [==============================] - 0s 3ms/step - loss: 0.5424 - accuracy: 0.7628\n",
            "Epoch 70/1000\n",
            "5/5 [==============================] - 0s 3ms/step - loss: 0.5421 - accuracy: 0.7628\n",
            "Epoch 71/1000\n",
            "5/5 [==============================] - 0s 3ms/step - loss: 0.5419 - accuracy: 0.7628\n",
            "Epoch 72/1000\n",
            "5/5 [==============================] - 0s 6ms/step - loss: 0.5416 - accuracy: 0.7628\n",
            "Epoch 73/1000\n",
            "5/5 [==============================] - 0s 4ms/step - loss: 0.5413 - accuracy: 0.7628\n",
            "Epoch 74/1000\n",
            "5/5 [==============================] - 0s 4ms/step - loss: 0.5410 - accuracy: 0.7628\n",
            "Epoch 75/1000\n",
            "5/5 [==============================] - 0s 4ms/step - loss: 0.5407 - accuracy: 0.7628\n",
            "Epoch 76/1000\n",
            "5/5 [==============================] - 0s 4ms/step - loss: 0.5404 - accuracy: 0.7628\n",
            "Epoch 77/1000\n",
            "5/5 [==============================] - 0s 3ms/step - loss: 0.5400 - accuracy: 0.7628\n",
            "Epoch 78/1000\n",
            "5/5 [==============================] - 0s 5ms/step - loss: 0.5397 - accuracy: 0.7628\n",
            "Epoch 79/1000\n",
            "5/5 [==============================] - 0s 3ms/step - loss: 0.5394 - accuracy: 0.7628\n",
            "Epoch 80/1000\n",
            "5/5 [==============================] - 0s 4ms/step - loss: 0.5389 - accuracy: 0.7628\n",
            "Epoch 81/1000\n",
            "5/5 [==============================] - 0s 4ms/step - loss: 0.5385 - accuracy: 0.7628\n",
            "Epoch 82/1000\n",
            "5/5 [==============================] - 0s 5ms/step - loss: 0.5380 - accuracy: 0.7628\n",
            "Epoch 83/1000\n",
            "5/5 [==============================] - 0s 3ms/step - loss: 0.5376 - accuracy: 0.7628\n",
            "Epoch 84/1000\n",
            "5/5 [==============================] - 0s 4ms/step - loss: 0.5371 - accuracy: 0.7628\n",
            "Epoch 85/1000\n",
            "5/5 [==============================] - 0s 4ms/step - loss: 0.5366 - accuracy: 0.7628\n",
            "Epoch 86/1000\n",
            "5/5 [==============================] - 0s 3ms/step - loss: 0.5360 - accuracy: 0.7628\n",
            "Epoch 87/1000\n",
            "5/5 [==============================] - 0s 4ms/step - loss: 0.5354 - accuracy: 0.7628\n",
            "Epoch 88/1000\n",
            "5/5 [==============================] - 0s 3ms/step - loss: 0.5348 - accuracy: 0.7628\n",
            "Epoch 89/1000\n",
            "5/5 [==============================] - 0s 3ms/step - loss: 0.5343 - accuracy: 0.7628\n",
            "Epoch 90/1000\n",
            "5/5 [==============================] - 0s 4ms/step - loss: 0.5334 - accuracy: 0.7628\n",
            "Epoch 91/1000\n",
            "5/5 [==============================] - 0s 4ms/step - loss: 0.5326 - accuracy: 0.7628\n",
            "Epoch 92/1000\n",
            "5/5 [==============================] - 0s 4ms/step - loss: 0.5318 - accuracy: 0.7628\n",
            "Epoch 93/1000\n",
            "5/5 [==============================] - 0s 4ms/step - loss: 0.5310 - accuracy: 0.7628\n",
            "Epoch 94/1000\n",
            "5/5 [==============================] - 0s 4ms/step - loss: 0.5302 - accuracy: 0.7628\n",
            "Epoch 95/1000\n",
            "5/5 [==============================] - 0s 4ms/step - loss: 0.5292 - accuracy: 0.7628\n",
            "Epoch 96/1000\n",
            "5/5 [==============================] - 0s 4ms/step - loss: 0.5282 - accuracy: 0.7628\n",
            "Epoch 97/1000\n",
            "5/5 [==============================] - 0s 4ms/step - loss: 0.5271 - accuracy: 0.7628\n",
            "Epoch 98/1000\n",
            "5/5 [==============================] - 0s 4ms/step - loss: 0.5261 - accuracy: 0.7628\n",
            "Epoch 99/1000\n",
            "5/5 [==============================] - 0s 4ms/step - loss: 0.5250 - accuracy: 0.7628\n",
            "Epoch 100/1000\n",
            "5/5 [==============================] - 0s 4ms/step - loss: 0.5236 - accuracy: 0.7628\n",
            "Epoch 101/1000\n",
            "5/5 [==============================] - 0s 4ms/step - loss: 0.5225 - accuracy: 0.7628\n",
            "Epoch 102/1000\n",
            "5/5 [==============================] - 0s 4ms/step - loss: 0.5210 - accuracy: 0.7628\n",
            "Epoch 103/1000\n",
            "5/5 [==============================] - 0s 6ms/step - loss: 0.5197 - accuracy: 0.7628\n",
            "Epoch 104/1000\n",
            "5/5 [==============================] - 0s 3ms/step - loss: 0.5183 - accuracy: 0.7628\n",
            "Epoch 105/1000\n",
            "5/5 [==============================] - 0s 3ms/step - loss: 0.5168 - accuracy: 0.7628\n",
            "Epoch 106/1000\n",
            "5/5 [==============================] - 0s 4ms/step - loss: 0.5154 - accuracy: 0.7628\n",
            "Epoch 107/1000\n",
            "5/5 [==============================] - 0s 4ms/step - loss: 0.5135 - accuracy: 0.7628\n",
            "Epoch 108/1000\n",
            "5/5 [==============================] - 0s 11ms/step - loss: 0.5119 - accuracy: 0.7628\n",
            "Epoch 109/1000\n",
            "5/5 [==============================] - 0s 5ms/step - loss: 0.5101 - accuracy: 0.7628\n",
            "Epoch 110/1000\n",
            "5/5 [==============================] - 0s 8ms/step - loss: 0.5084 - accuracy: 0.7628\n",
            "Epoch 111/1000\n",
            "5/5 [==============================] - 0s 5ms/step - loss: 0.5065 - accuracy: 0.7628\n",
            "Epoch 112/1000\n",
            "5/5 [==============================] - 0s 4ms/step - loss: 0.5047 - accuracy: 0.7628\n",
            "Epoch 113/1000\n",
            "5/5 [==============================] - 0s 4ms/step - loss: 0.5026 - accuracy: 0.7628\n",
            "Epoch 114/1000\n",
            "5/5 [==============================] - 0s 4ms/step - loss: 0.5007 - accuracy: 0.7628\n",
            "Epoch 115/1000\n",
            "5/5 [==============================] - 0s 3ms/step - loss: 0.4985 - accuracy: 0.7628\n",
            "Epoch 116/1000\n",
            "5/5 [==============================] - 0s 3ms/step - loss: 0.4963 - accuracy: 0.7628\n",
            "Epoch 117/1000\n",
            "5/5 [==============================] - 0s 4ms/step - loss: 0.4943 - accuracy: 0.7628\n",
            "Epoch 118/1000\n",
            "5/5 [==============================] - 0s 3ms/step - loss: 0.4920 - accuracy: 0.7628\n",
            "Epoch 119/1000\n",
            "5/5 [==============================] - 0s 5ms/step - loss: 0.4897 - accuracy: 0.7628\n",
            "Epoch 120/1000\n",
            "5/5 [==============================] - 0s 4ms/step - loss: 0.4874 - accuracy: 0.7628\n",
            "Epoch 121/1000\n",
            "5/5 [==============================] - 0s 6ms/step - loss: 0.4853 - accuracy: 0.7628\n",
            "Epoch 122/1000\n",
            "5/5 [==============================] - 0s 7ms/step - loss: 0.4830 - accuracy: 0.7628\n",
            "Epoch 123/1000\n",
            "5/5 [==============================] - 0s 6ms/step - loss: 0.4805 - accuracy: 0.7628\n",
            "Epoch 124/1000\n",
            "5/5 [==============================] - 0s 10ms/step - loss: 0.4781 - accuracy: 0.7628\n",
            "Epoch 125/1000\n",
            "5/5 [==============================] - 0s 8ms/step - loss: 0.4761 - accuracy: 0.7628\n",
            "Epoch 126/1000\n",
            "5/5 [==============================] - 0s 7ms/step - loss: 0.4734 - accuracy: 0.7628\n",
            "Epoch 127/1000\n",
            "5/5 [==============================] - 0s 7ms/step - loss: 0.4710 - accuracy: 0.7628\n",
            "Epoch 128/1000\n",
            "5/5 [==============================] - 0s 9ms/step - loss: 0.4686 - accuracy: 0.7628\n",
            "Epoch 129/1000\n",
            "5/5 [==============================] - 0s 8ms/step - loss: 0.4664 - accuracy: 0.7628\n",
            "Epoch 130/1000\n",
            "5/5 [==============================] - 0s 8ms/step - loss: 0.4639 - accuracy: 0.7628\n",
            "Epoch 131/1000\n",
            "5/5 [==============================] - 0s 7ms/step - loss: 0.4617 - accuracy: 0.7628\n",
            "Epoch 132/1000\n",
            "5/5 [==============================] - 0s 8ms/step - loss: 0.4591 - accuracy: 0.7628\n",
            "Epoch 133/1000\n",
            "5/5 [==============================] - 0s 10ms/step - loss: 0.4569 - accuracy: 0.7628\n",
            "Epoch 134/1000\n",
            "5/5 [==============================] - 0s 7ms/step - loss: 0.4545 - accuracy: 0.7628\n",
            "Epoch 135/1000\n",
            "5/5 [==============================] - 0s 4ms/step - loss: 0.4523 - accuracy: 0.7628\n",
            "Epoch 136/1000\n",
            "5/5 [==============================] - 0s 8ms/step - loss: 0.4499 - accuracy: 0.7628\n",
            "Epoch 137/1000\n",
            "5/5 [==============================] - 0s 5ms/step - loss: 0.4477 - accuracy: 0.7628\n",
            "Epoch 138/1000\n",
            "5/5 [==============================] - 0s 4ms/step - loss: 0.4455 - accuracy: 0.7628\n",
            "Epoch 139/1000\n",
            "5/5 [==============================] - 0s 9ms/step - loss: 0.4435 - accuracy: 0.7628\n",
            "Epoch 140/1000\n",
            "5/5 [==============================] - 0s 7ms/step - loss: 0.4413 - accuracy: 0.7628\n",
            "Epoch 141/1000\n",
            "5/5 [==============================] - 0s 5ms/step - loss: 0.4390 - accuracy: 0.7628\n",
            "Epoch 142/1000\n",
            "5/5 [==============================] - 0s 5ms/step - loss: 0.4371 - accuracy: 0.7628\n",
            "Epoch 143/1000\n",
            "5/5 [==============================] - 0s 5ms/step - loss: 0.4350 - accuracy: 0.7628\n",
            "Epoch 144/1000\n",
            "5/5 [==============================] - 0s 6ms/step - loss: 0.4330 - accuracy: 0.7628\n",
            "Epoch 145/1000\n",
            "5/5 [==============================] - 0s 7ms/step - loss: 0.4308 - accuracy: 0.7628\n",
            "Epoch 146/1000\n",
            "5/5 [==============================] - 0s 7ms/step - loss: 0.4290 - accuracy: 0.7628\n",
            "Epoch 147/1000\n",
            "5/5 [==============================] - 0s 5ms/step - loss: 0.4268 - accuracy: 0.7628\n",
            "Epoch 148/1000\n",
            "5/5 [==============================] - 0s 4ms/step - loss: 0.4249 - accuracy: 0.7628\n",
            "Epoch 149/1000\n",
            "5/5 [==============================] - 0s 3ms/step - loss: 0.4231 - accuracy: 0.7628\n",
            "Epoch 150/1000\n",
            "5/5 [==============================] - 0s 3ms/step - loss: 0.4213 - accuracy: 0.7628\n",
            "Epoch 151/1000\n",
            "5/5 [==============================] - 0s 3ms/step - loss: 0.4194 - accuracy: 0.7628\n",
            "Epoch 152/1000\n",
            "5/5 [==============================] - 0s 3ms/step - loss: 0.4181 - accuracy: 0.7628\n",
            "Epoch 153/1000\n",
            "5/5 [==============================] - 0s 3ms/step - loss: 0.4158 - accuracy: 0.7628\n",
            "Epoch 154/1000\n",
            "5/5 [==============================] - 0s 3ms/step - loss: 0.4139 - accuracy: 0.7628\n",
            "Epoch 155/1000\n",
            "5/5 [==============================] - 0s 3ms/step - loss: 0.4125 - accuracy: 0.7628\n",
            "Epoch 156/1000\n",
            "5/5 [==============================] - 0s 3ms/step - loss: 0.4104 - accuracy: 0.7628\n",
            "Epoch 157/1000\n",
            "5/5 [==============================] - 0s 3ms/step - loss: 0.4087 - accuracy: 0.7628\n",
            "Epoch 158/1000\n",
            "5/5 [==============================] - 0s 3ms/step - loss: 0.4070 - accuracy: 0.7628\n",
            "Epoch 159/1000\n",
            "5/5 [==============================] - 0s 3ms/step - loss: 0.4053 - accuracy: 0.7628\n",
            "Epoch 160/1000\n",
            "5/5 [==============================] - 0s 3ms/step - loss: 0.4036 - accuracy: 0.7628\n",
            "Epoch 161/1000\n",
            "5/5 [==============================] - 0s 3ms/step - loss: 0.4017 - accuracy: 0.7628\n",
            "Epoch 162/1000\n",
            "5/5 [==============================] - 0s 3ms/step - loss: 0.4000 - accuracy: 0.7628\n",
            "Epoch 163/1000\n",
            "5/5 [==============================] - 0s 3ms/step - loss: 0.3986 - accuracy: 0.7628\n",
            "Epoch 164/1000\n",
            "5/5 [==============================] - 0s 3ms/step - loss: 0.3969 - accuracy: 0.7628\n",
            "Epoch 165/1000\n",
            "5/5 [==============================] - 0s 4ms/step - loss: 0.3949 - accuracy: 0.7628\n",
            "Epoch 166/1000\n",
            "5/5 [==============================] - 0s 4ms/step - loss: 0.3931 - accuracy: 0.7628\n",
            "Epoch 167/1000\n",
            "5/5 [==============================] - 0s 3ms/step - loss: 0.3914 - accuracy: 0.7628\n",
            "Epoch 168/1000\n",
            "5/5 [==============================] - 0s 3ms/step - loss: 0.3898 - accuracy: 0.7628\n",
            "Epoch 169/1000\n",
            "5/5 [==============================] - 0s 4ms/step - loss: 0.3881 - accuracy: 0.7628\n",
            "Epoch 170/1000\n",
            "5/5 [==============================] - 0s 4ms/step - loss: 0.3862 - accuracy: 0.7628\n",
            "Epoch 171/1000\n",
            "5/5 [==============================] - 0s 3ms/step - loss: 0.3853 - accuracy: 0.7628\n",
            "Epoch 172/1000\n",
            "5/5 [==============================] - 0s 3ms/step - loss: 0.3835 - accuracy: 0.7692\n",
            "Epoch 173/1000\n",
            "5/5 [==============================] - 0s 3ms/step - loss: 0.3816 - accuracy: 0.7885\n",
            "Epoch 174/1000\n",
            "5/5 [==============================] - 0s 3ms/step - loss: 0.3800 - accuracy: 0.8333\n",
            "Epoch 175/1000\n",
            "5/5 [==============================] - 0s 3ms/step - loss: 0.3785 - accuracy: 0.8333\n",
            "Epoch 176/1000\n",
            "5/5 [==============================] - 0s 3ms/step - loss: 0.3771 - accuracy: 0.8269\n",
            "Epoch 177/1000\n",
            "5/5 [==============================] - 0s 5ms/step - loss: 0.3757 - accuracy: 0.8269\n",
            "Epoch 178/1000\n",
            "5/5 [==============================] - 0s 3ms/step - loss: 0.3742 - accuracy: 0.8205\n",
            "Epoch 179/1000\n",
            "5/5 [==============================] - 0s 3ms/step - loss: 0.3730 - accuracy: 0.8269\n",
            "Epoch 180/1000\n",
            "5/5 [==============================] - 0s 3ms/step - loss: 0.3713 - accuracy: 0.8269\n",
            "Epoch 181/1000\n",
            "5/5 [==============================] - 0s 3ms/step - loss: 0.3705 - accuracy: 0.8205\n",
            "Epoch 182/1000\n",
            "5/5 [==============================] - 0s 3ms/step - loss: 0.3687 - accuracy: 0.8205\n",
            "Epoch 183/1000\n",
            "5/5 [==============================] - 0s 3ms/step - loss: 0.3674 - accuracy: 0.8205\n",
            "Epoch 184/1000\n",
            "5/5 [==============================] - 0s 3ms/step - loss: 0.3662 - accuracy: 0.8141\n",
            "Epoch 185/1000\n",
            "5/5 [==============================] - 0s 3ms/step - loss: 0.3650 - accuracy: 0.8141\n",
            "Epoch 186/1000\n",
            "5/5 [==============================] - 0s 3ms/step - loss: 0.3637 - accuracy: 0.8205\n",
            "Epoch 187/1000\n",
            "5/5 [==============================] - 0s 4ms/step - loss: 0.3625 - accuracy: 0.8205\n",
            "Epoch 188/1000\n",
            "5/5 [==============================] - 0s 4ms/step - loss: 0.3615 - accuracy: 0.8205\n",
            "Epoch 189/1000\n",
            "5/5 [==============================] - 0s 3ms/step - loss: 0.3603 - accuracy: 0.8205\n",
            "Epoch 190/1000\n",
            "5/5 [==============================] - 0s 3ms/step - loss: 0.3588 - accuracy: 0.8205\n",
            "Epoch 191/1000\n",
            "5/5 [==============================] - 0s 3ms/step - loss: 0.3579 - accuracy: 0.8205\n",
            "Epoch 192/1000\n",
            "5/5 [==============================] - 0s 3ms/step - loss: 0.3565 - accuracy: 0.8333\n",
            "Epoch 193/1000\n",
            "5/5 [==============================] - 0s 2ms/step - loss: 0.3553 - accuracy: 0.8269\n",
            "Epoch 194/1000\n",
            "5/5 [==============================] - 0s 3ms/step - loss: 0.3541 - accuracy: 0.8269\n",
            "Epoch 195/1000\n",
            "5/5 [==============================] - 0s 3ms/step - loss: 0.3528 - accuracy: 0.8269\n",
            "Epoch 196/1000\n",
            "5/5 [==============================] - 0s 3ms/step - loss: 0.3516 - accuracy: 0.8269\n",
            "Epoch 197/1000\n",
            "5/5 [==============================] - 0s 3ms/step - loss: 0.3505 - accuracy: 0.8333\n",
            "Epoch 198/1000\n",
            "5/5 [==============================] - 0s 3ms/step - loss: 0.3493 - accuracy: 0.8397\n",
            "Epoch 199/1000\n",
            "5/5 [==============================] - 0s 4ms/step - loss: 0.3481 - accuracy: 0.8333\n",
            "Epoch 200/1000\n",
            "5/5 [==============================] - 0s 3ms/step - loss: 0.3469 - accuracy: 0.8333\n",
            "Epoch 201/1000\n",
            "5/5 [==============================] - 0s 4ms/step - loss: 0.3457 - accuracy: 0.8269\n",
            "Epoch 202/1000\n",
            "5/5 [==============================] - 0s 3ms/step - loss: 0.3446 - accuracy: 0.8269\n",
            "Epoch 203/1000\n",
            "5/5 [==============================] - 0s 3ms/step - loss: 0.3436 - accuracy: 0.8269\n",
            "Epoch 204/1000\n",
            "5/5 [==============================] - 0s 3ms/step - loss: 0.3422 - accuracy: 0.8269\n",
            "Epoch 205/1000\n",
            "5/5 [==============================] - 0s 3ms/step - loss: 0.3410 - accuracy: 0.8269\n",
            "Epoch 206/1000\n",
            "5/5 [==============================] - 0s 3ms/step - loss: 0.3398 - accuracy: 0.8269\n",
            "Epoch 207/1000\n",
            "5/5 [==============================] - 0s 3ms/step - loss: 0.3386 - accuracy: 0.8269\n",
            "Epoch 208/1000\n",
            "5/5 [==============================] - 0s 3ms/step - loss: 0.3375 - accuracy: 0.8333\n",
            "Epoch 209/1000\n",
            "5/5 [==============================] - 0s 3ms/step - loss: 0.3364 - accuracy: 0.8397\n",
            "Epoch 210/1000\n",
            "5/5 [==============================] - 0s 3ms/step - loss: 0.3351 - accuracy: 0.8397\n",
            "Epoch 211/1000\n",
            "5/5 [==============================] - 0s 3ms/step - loss: 0.3339 - accuracy: 0.8333\n",
            "Epoch 212/1000\n",
            "5/5 [==============================] - 0s 4ms/step - loss: 0.3330 - accuracy: 0.8333\n",
            "Epoch 213/1000\n",
            "5/5 [==============================] - 0s 3ms/step - loss: 0.3318 - accuracy: 0.8333\n",
            "Epoch 214/1000\n",
            "5/5 [==============================] - 0s 4ms/step - loss: 0.3305 - accuracy: 0.8333\n",
            "Epoch 215/1000\n",
            "5/5 [==============================] - 0s 3ms/step - loss: 0.3294 - accuracy: 0.8333\n",
            "Epoch 216/1000\n",
            "5/5 [==============================] - 0s 4ms/step - loss: 0.3286 - accuracy: 0.8333\n",
            "Epoch 217/1000\n",
            "5/5 [==============================] - 0s 3ms/step - loss: 0.3272 - accuracy: 0.8333\n",
            "Epoch 218/1000\n",
            "5/5 [==============================] - 0s 3ms/step - loss: 0.3262 - accuracy: 0.8333\n",
            "Epoch 219/1000\n",
            "5/5 [==============================] - 0s 3ms/step - loss: 0.3250 - accuracy: 0.8333\n",
            "Epoch 220/1000\n",
            "5/5 [==============================] - 0s 3ms/step - loss: 0.3240 - accuracy: 0.8333\n",
            "Epoch 221/1000\n",
            "5/5 [==============================] - 0s 3ms/step - loss: 0.3228 - accuracy: 0.8333\n",
            "Epoch 222/1000\n",
            "5/5 [==============================] - 0s 3ms/step - loss: 0.3221 - accuracy: 0.8333\n",
            "Epoch 223/1000\n",
            "5/5 [==============================] - 0s 3ms/step - loss: 0.3207 - accuracy: 0.8333\n",
            "Epoch 224/1000\n",
            "5/5 [==============================] - 0s 3ms/step - loss: 0.3197 - accuracy: 0.8397\n",
            "Epoch 225/1000\n",
            "5/5 [==============================] - 0s 3ms/step - loss: 0.3186 - accuracy: 0.8462\n",
            "Epoch 226/1000\n",
            "5/5 [==============================] - 0s 3ms/step - loss: 0.3176 - accuracy: 0.8462\n",
            "Epoch 227/1000\n",
            "5/5 [==============================] - 0s 4ms/step - loss: 0.3165 - accuracy: 0.8462\n",
            "Epoch 228/1000\n",
            "5/5 [==============================] - 0s 3ms/step - loss: 0.3155 - accuracy: 0.8462\n",
            "Epoch 229/1000\n",
            "5/5 [==============================] - 0s 3ms/step - loss: 0.3145 - accuracy: 0.8462\n",
            "Epoch 230/1000\n",
            "5/5 [==============================] - 0s 3ms/step - loss: 0.3135 - accuracy: 0.8590\n",
            "Epoch 231/1000\n",
            "5/5 [==============================] - 0s 3ms/step - loss: 0.3126 - accuracy: 0.8526\n",
            "Epoch 232/1000\n",
            "5/5 [==============================] - 0s 4ms/step - loss: 0.3119 - accuracy: 0.8526\n",
            "Epoch 233/1000\n",
            "5/5 [==============================] - 0s 3ms/step - loss: 0.3113 - accuracy: 0.8526\n",
            "Epoch 234/1000\n",
            "5/5 [==============================] - 0s 3ms/step - loss: 0.3097 - accuracy: 0.8526\n",
            "Epoch 235/1000\n",
            "5/5 [==============================] - 0s 2ms/step - loss: 0.3088 - accuracy: 0.8526\n",
            "Epoch 236/1000\n",
            "5/5 [==============================] - 0s 3ms/step - loss: 0.3079 - accuracy: 0.8526\n",
            "Epoch 237/1000\n",
            "5/5 [==============================] - 0s 3ms/step - loss: 0.3069 - accuracy: 0.8526\n",
            "Epoch 238/1000\n",
            "5/5 [==============================] - 0s 3ms/step - loss: 0.3061 - accuracy: 0.8590\n",
            "Epoch 239/1000\n",
            "5/5 [==============================] - 0s 3ms/step - loss: 0.3051 - accuracy: 0.8590\n",
            "Epoch 240/1000\n",
            "5/5 [==============================] - 0s 3ms/step - loss: 0.3041 - accuracy: 0.8590\n",
            "Epoch 241/1000\n",
            "5/5 [==============================] - 0s 3ms/step - loss: 0.3033 - accuracy: 0.8590\n",
            "Epoch 242/1000\n",
            "5/5 [==============================] - 0s 3ms/step - loss: 0.3027 - accuracy: 0.8590\n",
            "Epoch 243/1000\n",
            "5/5 [==============================] - 0s 3ms/step - loss: 0.3013 - accuracy: 0.8590\n",
            "Epoch 244/1000\n",
            "5/5 [==============================] - 0s 3ms/step - loss: 0.3006 - accuracy: 0.8590\n",
            "Epoch 245/1000\n",
            "5/5 [==============================] - 0s 3ms/step - loss: 0.2996 - accuracy: 0.8590\n",
            "Epoch 246/1000\n",
            "5/5 [==============================] - 0s 3ms/step - loss: 0.2990 - accuracy: 0.8590\n",
            "Epoch 247/1000\n",
            "5/5 [==============================] - 0s 3ms/step - loss: 0.2982 - accuracy: 0.8654\n",
            "Epoch 248/1000\n",
            "5/5 [==============================] - 0s 3ms/step - loss: 0.2973 - accuracy: 0.8590\n",
            "Epoch 249/1000\n",
            "5/5 [==============================] - 0s 3ms/step - loss: 0.2964 - accuracy: 0.8590\n",
            "Epoch 250/1000\n",
            "5/5 [==============================] - 0s 3ms/step - loss: 0.2956 - accuracy: 0.8590\n",
            "Epoch 251/1000\n",
            "5/5 [==============================] - 0s 4ms/step - loss: 0.2948 - accuracy: 0.8590\n",
            "Epoch 252/1000\n",
            "5/5 [==============================] - 0s 3ms/step - loss: 0.2938 - accuracy: 0.8590\n",
            "Epoch 253/1000\n",
            "5/5 [==============================] - 0s 3ms/step - loss: 0.2931 - accuracy: 0.8590\n",
            "Epoch 254/1000\n",
            "5/5 [==============================] - 0s 4ms/step - loss: 0.2924 - accuracy: 0.8590\n",
            "Epoch 255/1000\n",
            "5/5 [==============================] - 0s 3ms/step - loss: 0.2914 - accuracy: 0.8590\n",
            "Epoch 256/1000\n",
            "5/5 [==============================] - 0s 3ms/step - loss: 0.2909 - accuracy: 0.8590\n",
            "Epoch 257/1000\n",
            "5/5 [==============================] - 0s 3ms/step - loss: 0.2902 - accuracy: 0.8590\n",
            "Epoch 258/1000\n",
            "5/5 [==============================] - 0s 3ms/step - loss: 0.2890 - accuracy: 0.8590\n",
            "Epoch 259/1000\n",
            "5/5 [==============================] - 0s 4ms/step - loss: 0.2883 - accuracy: 0.8590\n",
            "Epoch 260/1000\n",
            "5/5 [==============================] - 0s 3ms/step - loss: 0.2875 - accuracy: 0.8590\n",
            "Epoch 261/1000\n",
            "5/5 [==============================] - 0s 3ms/step - loss: 0.2868 - accuracy: 0.8590\n",
            "Epoch 262/1000\n",
            "5/5 [==============================] - 0s 4ms/step - loss: 0.2862 - accuracy: 0.8590\n",
            "Epoch 263/1000\n",
            "5/5 [==============================] - 0s 4ms/step - loss: 0.2854 - accuracy: 0.8590\n",
            "Epoch 264/1000\n",
            "5/5 [==============================] - 0s 3ms/step - loss: 0.2845 - accuracy: 0.8590\n",
            "Epoch 265/1000\n",
            "5/5 [==============================] - 0s 3ms/step - loss: 0.2838 - accuracy: 0.8590\n",
            "Epoch 266/1000\n",
            "5/5 [==============================] - 0s 3ms/step - loss: 0.2831 - accuracy: 0.8590\n",
            "Epoch 267/1000\n",
            "5/5 [==============================] - 0s 4ms/step - loss: 0.2822 - accuracy: 0.8590\n",
            "Epoch 268/1000\n",
            "5/5 [==============================] - 0s 4ms/step - loss: 0.2816 - accuracy: 0.8590\n",
            "Epoch 269/1000\n",
            "5/5 [==============================] - 0s 3ms/step - loss: 0.2806 - accuracy: 0.8590\n",
            "Epoch 270/1000\n",
            "5/5 [==============================] - 0s 3ms/step - loss: 0.2802 - accuracy: 0.8590\n",
            "Epoch 271/1000\n",
            "5/5 [==============================] - 0s 4ms/step - loss: 0.2794 - accuracy: 0.8654\n",
            "Epoch 272/1000\n",
            "5/5 [==============================] - 0s 3ms/step - loss: 0.2786 - accuracy: 0.8654\n",
            "Epoch 273/1000\n",
            "5/5 [==============================] - 0s 5ms/step - loss: 0.2779 - accuracy: 0.8718\n",
            "Epoch 274/1000\n",
            "5/5 [==============================] - 0s 3ms/step - loss: 0.2771 - accuracy: 0.8718\n",
            "Epoch 275/1000\n",
            "5/5 [==============================] - 0s 3ms/step - loss: 0.2767 - accuracy: 0.8718\n",
            "Epoch 276/1000\n",
            "5/5 [==============================] - 0s 3ms/step - loss: 0.2755 - accuracy: 0.8718\n",
            "Epoch 277/1000\n",
            "5/5 [==============================] - 0s 3ms/step - loss: 0.2746 - accuracy: 0.8718\n",
            "Epoch 278/1000\n",
            "5/5 [==============================] - 0s 3ms/step - loss: 0.2738 - accuracy: 0.8782\n",
            "Epoch 279/1000\n",
            "5/5 [==============================] - 0s 3ms/step - loss: 0.2731 - accuracy: 0.8782\n",
            "Epoch 280/1000\n",
            "5/5 [==============================] - 0s 3ms/step - loss: 0.2725 - accuracy: 0.8782\n",
            "Epoch 281/1000\n",
            "5/5 [==============================] - 0s 3ms/step - loss: 0.2716 - accuracy: 0.8782\n",
            "Epoch 282/1000\n",
            "5/5 [==============================] - 0s 3ms/step - loss: 0.2708 - accuracy: 0.8782\n",
            "Epoch 283/1000\n",
            "5/5 [==============================] - 0s 3ms/step - loss: 0.2701 - accuracy: 0.8782\n",
            "Epoch 284/1000\n",
            "5/5 [==============================] - 0s 3ms/step - loss: 0.2695 - accuracy: 0.8782\n",
            "Epoch 285/1000\n",
            "5/5 [==============================] - 0s 3ms/step - loss: 0.2688 - accuracy: 0.8782\n",
            "Epoch 286/1000\n",
            "5/5 [==============================] - 0s 3ms/step - loss: 0.2678 - accuracy: 0.8782\n",
            "Epoch 287/1000\n",
            "5/5 [==============================] - 0s 3ms/step - loss: 0.2678 - accuracy: 0.8718\n",
            "Epoch 288/1000\n",
            "5/5 [==============================] - 0s 3ms/step - loss: 0.2665 - accuracy: 0.8782\n",
            "Epoch 289/1000\n",
            "5/5 [==============================] - 0s 3ms/step - loss: 0.2660 - accuracy: 0.8782\n",
            "Epoch 290/1000\n",
            "5/5 [==============================] - 0s 3ms/step - loss: 0.2655 - accuracy: 0.8782\n",
            "Epoch 291/1000\n",
            "5/5 [==============================] - 0s 3ms/step - loss: 0.2640 - accuracy: 0.8782\n",
            "Epoch 292/1000\n",
            "5/5 [==============================] - 0s 3ms/step - loss: 0.2634 - accuracy: 0.8782\n",
            "Epoch 293/1000\n",
            "5/5 [==============================] - 0s 3ms/step - loss: 0.2624 - accuracy: 0.8782\n",
            "Epoch 294/1000\n",
            "5/5 [==============================] - 0s 4ms/step - loss: 0.2617 - accuracy: 0.8782\n",
            "Epoch 295/1000\n",
            "5/5 [==============================] - 0s 3ms/step - loss: 0.2613 - accuracy: 0.8782\n",
            "Epoch 296/1000\n",
            "5/5 [==============================] - 0s 3ms/step - loss: 0.2603 - accuracy: 0.8782\n",
            "Epoch 297/1000\n",
            "5/5 [==============================] - 0s 3ms/step - loss: 0.2597 - accuracy: 0.8846\n",
            "Epoch 298/1000\n",
            "5/5 [==============================] - 0s 3ms/step - loss: 0.2590 - accuracy: 0.8846\n",
            "Epoch 299/1000\n",
            "5/5 [==============================] - 0s 3ms/step - loss: 0.2582 - accuracy: 0.8846\n",
            "Epoch 300/1000\n",
            "5/5 [==============================] - 0s 3ms/step - loss: 0.2584 - accuracy: 0.8910\n",
            "Epoch 301/1000\n",
            "5/5 [==============================] - 0s 3ms/step - loss: 0.2570 - accuracy: 0.8910\n",
            "Epoch 302/1000\n",
            "5/5 [==============================] - 0s 3ms/step - loss: 0.2562 - accuracy: 0.8974\n",
            "Epoch 303/1000\n",
            "5/5 [==============================] - 0s 3ms/step - loss: 0.2557 - accuracy: 0.8974\n",
            "Epoch 304/1000\n",
            "5/5 [==============================] - 0s 3ms/step - loss: 0.2554 - accuracy: 0.8974\n",
            "Epoch 305/1000\n",
            "5/5 [==============================] - 0s 3ms/step - loss: 0.2541 - accuracy: 0.8974\n",
            "Epoch 306/1000\n",
            "5/5 [==============================] - 0s 3ms/step - loss: 0.2546 - accuracy: 0.8974\n",
            "Epoch 307/1000\n",
            "5/5 [==============================] - 0s 4ms/step - loss: 0.2528 - accuracy: 0.9038\n",
            "Epoch 308/1000\n",
            "5/5 [==============================] - 0s 4ms/step - loss: 0.2527 - accuracy: 0.8974\n",
            "Epoch 309/1000\n",
            "5/5 [==============================] - 0s 3ms/step - loss: 0.2519 - accuracy: 0.8974\n",
            "Epoch 310/1000\n",
            "5/5 [==============================] - 0s 4ms/step - loss: 0.2509 - accuracy: 0.9038\n",
            "Epoch 311/1000\n",
            "5/5 [==============================] - 0s 4ms/step - loss: 0.2503 - accuracy: 0.9038\n",
            "Epoch 312/1000\n",
            "5/5 [==============================] - 0s 4ms/step - loss: 0.2507 - accuracy: 0.9038\n",
            "Epoch 313/1000\n",
            "5/5 [==============================] - 0s 3ms/step - loss: 0.2504 - accuracy: 0.9038\n",
            "Epoch 314/1000\n",
            "5/5 [==============================] - 0s 3ms/step - loss: 0.2487 - accuracy: 0.8974\n",
            "Epoch 315/1000\n",
            "5/5 [==============================] - 0s 4ms/step - loss: 0.2483 - accuracy: 0.8974\n",
            "Epoch 316/1000\n",
            "5/5 [==============================] - 0s 3ms/step - loss: 0.2475 - accuracy: 0.9038\n",
            "Epoch 317/1000\n",
            "5/5 [==============================] - 0s 4ms/step - loss: 0.2467 - accuracy: 0.9038\n",
            "Epoch 318/1000\n",
            "5/5 [==============================] - 0s 3ms/step - loss: 0.2469 - accuracy: 0.9103\n",
            "Epoch 319/1000\n",
            "5/5 [==============================] - 0s 4ms/step - loss: 0.2460 - accuracy: 0.9103\n",
            "Epoch 320/1000\n",
            "5/5 [==============================] - 0s 4ms/step - loss: 0.2445 - accuracy: 0.9038\n",
            "Epoch 321/1000\n",
            "5/5 [==============================] - 0s 3ms/step - loss: 0.2445 - accuracy: 0.9038\n",
            "Epoch 322/1000\n",
            "5/5 [==============================] - 0s 3ms/step - loss: 0.2445 - accuracy: 0.9038\n",
            "Epoch 323/1000\n",
            "5/5 [==============================] - 0s 3ms/step - loss: 0.2451 - accuracy: 0.9038\n",
            "Epoch 324/1000\n",
            "5/5 [==============================] - 0s 3ms/step - loss: 0.2433 - accuracy: 0.9038\n",
            "Epoch 325/1000\n",
            "5/5 [==============================] - 0s 3ms/step - loss: 0.2422 - accuracy: 0.9038\n",
            "Epoch 326/1000\n",
            "5/5 [==============================] - 0s 3ms/step - loss: 0.2414 - accuracy: 0.9103\n",
            "Epoch 327/1000\n",
            "5/5 [==============================] - 0s 3ms/step - loss: 0.2413 - accuracy: 0.9103\n",
            "Epoch 328/1000\n",
            "5/5 [==============================] - 0s 3ms/step - loss: 0.2409 - accuracy: 0.9167\n",
            "Epoch 329/1000\n",
            "5/5 [==============================] - 0s 3ms/step - loss: 0.2399 - accuracy: 0.9103\n",
            "Epoch 330/1000\n",
            "5/5 [==============================] - 0s 3ms/step - loss: 0.2393 - accuracy: 0.9103\n",
            "Epoch 331/1000\n",
            "5/5 [==============================] - 0s 3ms/step - loss: 0.2391 - accuracy: 0.9103\n",
            "Epoch 332/1000\n",
            "5/5 [==============================] - 0s 3ms/step - loss: 0.2387 - accuracy: 0.9103\n",
            "Epoch 333/1000\n",
            "5/5 [==============================] - 0s 3ms/step - loss: 0.2394 - accuracy: 0.9103\n",
            "Epoch 334/1000\n",
            "5/5 [==============================] - 0s 4ms/step - loss: 0.2372 - accuracy: 0.9103\n",
            "Epoch 335/1000\n",
            "5/5 [==============================] - 0s 3ms/step - loss: 0.2369 - accuracy: 0.9103\n",
            "Epoch 336/1000\n",
            "5/5 [==============================] - 0s 4ms/step - loss: 0.2364 - accuracy: 0.9167\n",
            "Epoch 337/1000\n",
            "5/5 [==============================] - 0s 3ms/step - loss: 0.2367 - accuracy: 0.9231\n",
            "Epoch 338/1000\n",
            "5/5 [==============================] - 0s 3ms/step - loss: 0.2354 - accuracy: 0.9231\n",
            "Epoch 339/1000\n",
            "5/5 [==============================] - 0s 4ms/step - loss: 0.2357 - accuracy: 0.9103\n",
            "Epoch 340/1000\n",
            "5/5 [==============================] - 0s 3ms/step - loss: 0.2351 - accuracy: 0.9103\n",
            "Epoch 341/1000\n",
            "5/5 [==============================] - 0s 3ms/step - loss: 0.2336 - accuracy: 0.9167\n",
            "Epoch 342/1000\n",
            "5/5 [==============================] - 0s 3ms/step - loss: 0.2335 - accuracy: 0.9167\n",
            "Epoch 343/1000\n",
            "5/5 [==============================] - 0s 3ms/step - loss: 0.2327 - accuracy: 0.9231\n",
            "Epoch 344/1000\n",
            "5/5 [==============================] - 0s 3ms/step - loss: 0.2323 - accuracy: 0.9231\n",
            "Epoch 345/1000\n",
            "5/5 [==============================] - 0s 3ms/step - loss: 0.2317 - accuracy: 0.9231\n",
            "Epoch 346/1000\n",
            "5/5 [==============================] - 0s 3ms/step - loss: 0.2314 - accuracy: 0.9231\n",
            "Epoch 347/1000\n",
            "5/5 [==============================] - 0s 3ms/step - loss: 0.2307 - accuracy: 0.9231\n",
            "Epoch 348/1000\n",
            "5/5 [==============================] - 0s 3ms/step - loss: 0.2305 - accuracy: 0.9231\n",
            "Epoch 349/1000\n",
            "5/5 [==============================] - 0s 3ms/step - loss: 0.2303 - accuracy: 0.9231\n",
            "Epoch 350/1000\n",
            "5/5 [==============================] - 0s 3ms/step - loss: 0.2293 - accuracy: 0.9231\n",
            "Epoch 351/1000\n",
            "5/5 [==============================] - 0s 3ms/step - loss: 0.2290 - accuracy: 0.9231\n",
            "Epoch 352/1000\n",
            "5/5 [==============================] - 0s 3ms/step - loss: 0.2285 - accuracy: 0.9231\n",
            "Epoch 353/1000\n",
            "5/5 [==============================] - 0s 3ms/step - loss: 0.2286 - accuracy: 0.9231\n",
            "Epoch 354/1000\n",
            "5/5 [==============================] - 0s 3ms/step - loss: 0.2277 - accuracy: 0.9231\n",
            "Epoch 355/1000\n",
            "5/5 [==============================] - 0s 3ms/step - loss: 0.2271 - accuracy: 0.9231\n",
            "Epoch 356/1000\n",
            "5/5 [==============================] - 0s 4ms/step - loss: 0.2270 - accuracy: 0.9231\n",
            "Epoch 357/1000\n",
            "5/5 [==============================] - 0s 4ms/step - loss: 0.2263 - accuracy: 0.9231\n",
            "Epoch 358/1000\n",
            "5/5 [==============================] - 0s 4ms/step - loss: 0.2259 - accuracy: 0.9231\n",
            "Epoch 359/1000\n",
            "5/5 [==============================] - 0s 3ms/step - loss: 0.2254 - accuracy: 0.9231\n",
            "Epoch 360/1000\n",
            "5/5 [==============================] - 0s 4ms/step - loss: 0.2246 - accuracy: 0.9231\n",
            "Epoch 361/1000\n",
            "5/5 [==============================] - 0s 3ms/step - loss: 0.2248 - accuracy: 0.9231\n",
            "Epoch 362/1000\n",
            "5/5 [==============================] - 0s 4ms/step - loss: 0.2239 - accuracy: 0.9231\n",
            "Epoch 363/1000\n",
            "5/5 [==============================] - 0s 4ms/step - loss: 0.2233 - accuracy: 0.9231\n",
            "Epoch 364/1000\n",
            "5/5 [==============================] - 0s 3ms/step - loss: 0.2233 - accuracy: 0.9231\n",
            "Epoch 365/1000\n",
            "5/5 [==============================] - 0s 3ms/step - loss: 0.2232 - accuracy: 0.9231\n",
            "Epoch 366/1000\n",
            "5/5 [==============================] - 0s 3ms/step - loss: 0.2225 - accuracy: 0.9231\n",
            "Epoch 367/1000\n",
            "5/5 [==============================] - 0s 3ms/step - loss: 0.2217 - accuracy: 0.9231\n",
            "Epoch 368/1000\n",
            "5/5 [==============================] - 0s 3ms/step - loss: 0.2214 - accuracy: 0.9231\n",
            "Epoch 369/1000\n",
            "5/5 [==============================] - 0s 3ms/step - loss: 0.2218 - accuracy: 0.9231\n",
            "Epoch 370/1000\n",
            "5/5 [==============================] - 0s 3ms/step - loss: 0.2206 - accuracy: 0.9295\n",
            "Epoch 371/1000\n",
            "5/5 [==============================] - 0s 3ms/step - loss: 0.2202 - accuracy: 0.9231\n",
            "Epoch 372/1000\n",
            "5/5 [==============================] - 0s 3ms/step - loss: 0.2200 - accuracy: 0.9295\n",
            "Epoch 373/1000\n",
            "5/5 [==============================] - 0s 4ms/step - loss: 0.2219 - accuracy: 0.9231\n",
            "Epoch 374/1000\n",
            "5/5 [==============================] - 0s 3ms/step - loss: 0.2189 - accuracy: 0.9231\n",
            "Epoch 375/1000\n",
            "5/5 [==============================] - 0s 3ms/step - loss: 0.2197 - accuracy: 0.9295\n",
            "Epoch 376/1000\n",
            "5/5 [==============================] - 0s 3ms/step - loss: 0.2186 - accuracy: 0.9295\n",
            "Epoch 377/1000\n",
            "5/5 [==============================] - 0s 3ms/step - loss: 0.2178 - accuracy: 0.9295\n",
            "Epoch 378/1000\n",
            "5/5 [==============================] - 0s 3ms/step - loss: 0.2181 - accuracy: 0.9295\n",
            "Epoch 379/1000\n",
            "5/5 [==============================] - 0s 3ms/step - loss: 0.2174 - accuracy: 0.9295\n",
            "Epoch 380/1000\n",
            "5/5 [==============================] - 0s 4ms/step - loss: 0.2165 - accuracy: 0.9231\n",
            "Epoch 381/1000\n",
            "5/5 [==============================] - 0s 3ms/step - loss: 0.2167 - accuracy: 0.9231\n",
            "Epoch 382/1000\n",
            "5/5 [==============================] - 0s 3ms/step - loss: 0.2165 - accuracy: 0.9295\n",
            "Epoch 383/1000\n",
            "5/5 [==============================] - 0s 3ms/step - loss: 0.2157 - accuracy: 0.9295\n",
            "Epoch 384/1000\n",
            "5/5 [==============================] - 0s 3ms/step - loss: 0.2151 - accuracy: 0.9295\n",
            "Epoch 385/1000\n",
            "5/5 [==============================] - 0s 3ms/step - loss: 0.2150 - accuracy: 0.9231\n",
            "Epoch 386/1000\n",
            "5/5 [==============================] - 0s 3ms/step - loss: 0.2146 - accuracy: 0.9231\n",
            "Epoch 387/1000\n",
            "5/5 [==============================] - 0s 3ms/step - loss: 0.2141 - accuracy: 0.9231\n",
            "Epoch 388/1000\n",
            "5/5 [==============================] - 0s 3ms/step - loss: 0.2138 - accuracy: 0.9231\n",
            "Epoch 389/1000\n",
            "5/5 [==============================] - 0s 3ms/step - loss: 0.2136 - accuracy: 0.9295\n",
            "Epoch 390/1000\n",
            "5/5 [==============================] - 0s 5ms/step - loss: 0.2130 - accuracy: 0.9231\n",
            "Epoch 391/1000\n",
            "5/5 [==============================] - 0s 3ms/step - loss: 0.2126 - accuracy: 0.9231\n",
            "Epoch 392/1000\n",
            "5/5 [==============================] - 0s 3ms/step - loss: 0.2126 - accuracy: 0.9295\n",
            "Epoch 393/1000\n",
            "5/5 [==============================] - 0s 3ms/step - loss: 0.2119 - accuracy: 0.9295\n",
            "Epoch 394/1000\n",
            "5/5 [==============================] - 0s 3ms/step - loss: 0.2116 - accuracy: 0.9295\n",
            "Epoch 395/1000\n",
            "5/5 [==============================] - 0s 3ms/step - loss: 0.2114 - accuracy: 0.9295\n",
            "Epoch 396/1000\n",
            "5/5 [==============================] - 0s 3ms/step - loss: 0.2123 - accuracy: 0.9295\n",
            "Epoch 397/1000\n",
            "5/5 [==============================] - 0s 3ms/step - loss: 0.2104 - accuracy: 0.9231\n",
            "Epoch 398/1000\n",
            "5/5 [==============================] - 0s 3ms/step - loss: 0.2102 - accuracy: 0.9295\n",
            "Epoch 399/1000\n",
            "5/5 [==============================] - 0s 3ms/step - loss: 0.2098 - accuracy: 0.9295\n",
            "Epoch 400/1000\n",
            "5/5 [==============================] - 0s 3ms/step - loss: 0.2098 - accuracy: 0.9231\n",
            "Epoch 401/1000\n",
            "5/5 [==============================] - 0s 4ms/step - loss: 0.2095 - accuracy: 0.9295\n",
            "Epoch 402/1000\n",
            "5/5 [==============================] - 0s 3ms/step - loss: 0.2090 - accuracy: 0.9295\n",
            "Epoch 403/1000\n",
            "5/5 [==============================] - 0s 3ms/step - loss: 0.2084 - accuracy: 0.9295\n",
            "Epoch 404/1000\n",
            "5/5 [==============================] - 0s 3ms/step - loss: 0.2081 - accuracy: 0.9359\n",
            "Epoch 405/1000\n",
            "5/5 [==============================] - 0s 3ms/step - loss: 0.2079 - accuracy: 0.9295\n",
            "Epoch 406/1000\n",
            "5/5 [==============================] - 0s 3ms/step - loss: 0.2077 - accuracy: 0.9295\n",
            "Epoch 407/1000\n",
            "5/5 [==============================] - 0s 3ms/step - loss: 0.2073 - accuracy: 0.9295\n",
            "Epoch 408/1000\n",
            "5/5 [==============================] - 0s 3ms/step - loss: 0.2070 - accuracy: 0.9359\n",
            "Epoch 409/1000\n",
            "5/5 [==============================] - 0s 4ms/step - loss: 0.2065 - accuracy: 0.9295\n",
            "Epoch 410/1000\n",
            "5/5 [==============================] - 0s 3ms/step - loss: 0.2069 - accuracy: 0.9295\n",
            "Epoch 411/1000\n",
            "5/5 [==============================] - 0s 4ms/step - loss: 0.2065 - accuracy: 0.9359\n",
            "Epoch 412/1000\n",
            "5/5 [==============================] - 0s 4ms/step - loss: 0.2056 - accuracy: 0.9359\n",
            "Epoch 413/1000\n",
            "5/5 [==============================] - 0s 3ms/step - loss: 0.2056 - accuracy: 0.9295\n",
            "Epoch 414/1000\n",
            "5/5 [==============================] - 0s 3ms/step - loss: 0.2052 - accuracy: 0.9295\n",
            "Epoch 415/1000\n",
            "5/5 [==============================] - 0s 4ms/step - loss: 0.2056 - accuracy: 0.9359\n",
            "Epoch 416/1000\n",
            "5/5 [==============================] - 0s 3ms/step - loss: 0.2045 - accuracy: 0.9295\n",
            "Epoch 417/1000\n",
            "5/5 [==============================] - 0s 3ms/step - loss: 0.2040 - accuracy: 0.9359\n",
            "Epoch 418/1000\n",
            "5/5 [==============================] - 0s 3ms/step - loss: 0.2037 - accuracy: 0.9359\n",
            "Epoch 419/1000\n",
            "5/5 [==============================] - 0s 4ms/step - loss: 0.2037 - accuracy: 0.9359\n",
            "Epoch 420/1000\n",
            "5/5 [==============================] - 0s 4ms/step - loss: 0.2031 - accuracy: 0.9359\n",
            "Epoch 421/1000\n",
            "5/5 [==============================] - 0s 4ms/step - loss: 0.2033 - accuracy: 0.9359\n",
            "Epoch 422/1000\n",
            "5/5 [==============================] - 0s 4ms/step - loss: 0.2025 - accuracy: 0.9359\n",
            "Epoch 423/1000\n",
            "5/5 [==============================] - 0s 4ms/step - loss: 0.2020 - accuracy: 0.9359\n",
            "Epoch 424/1000\n",
            "5/5 [==============================] - 0s 3ms/step - loss: 0.2031 - accuracy: 0.9359\n",
            "Epoch 425/1000\n",
            "5/5 [==============================] - 0s 4ms/step - loss: 0.2020 - accuracy: 0.9359\n",
            "Epoch 426/1000\n",
            "5/5 [==============================] - 0s 3ms/step - loss: 0.2012 - accuracy: 0.9359\n",
            "Epoch 427/1000\n",
            "5/5 [==============================] - 0s 3ms/step - loss: 0.2019 - accuracy: 0.9359\n",
            "Epoch 428/1000\n",
            "5/5 [==============================] - 0s 3ms/step - loss: 0.2014 - accuracy: 0.9359\n",
            "Epoch 429/1000\n",
            "5/5 [==============================] - 0s 4ms/step - loss: 0.2003 - accuracy: 0.9359\n",
            "Epoch 430/1000\n",
            "5/5 [==============================] - 0s 3ms/step - loss: 0.2000 - accuracy: 0.9359\n",
            "Epoch 431/1000\n",
            "5/5 [==============================] - 0s 3ms/step - loss: 0.2001 - accuracy: 0.9359\n",
            "Epoch 432/1000\n",
            "5/5 [==============================] - 0s 3ms/step - loss: 0.2004 - accuracy: 0.9359\n",
            "Epoch 433/1000\n",
            "5/5 [==============================] - 0s 3ms/step - loss: 0.1990 - accuracy: 0.9359\n",
            "Epoch 434/1000\n",
            "5/5 [==============================] - 0s 4ms/step - loss: 0.1997 - accuracy: 0.9359\n",
            "Epoch 435/1000\n",
            "5/5 [==============================] - 0s 3ms/step - loss: 0.1988 - accuracy: 0.9423\n",
            "Epoch 436/1000\n",
            "5/5 [==============================] - 0s 3ms/step - loss: 0.1984 - accuracy: 0.9359\n",
            "Epoch 437/1000\n",
            "5/5 [==============================] - 0s 3ms/step - loss: 0.1982 - accuracy: 0.9359\n",
            "Epoch 438/1000\n",
            "5/5 [==============================] - 0s 3ms/step - loss: 0.1978 - accuracy: 0.9359\n",
            "Epoch 439/1000\n",
            "5/5 [==============================] - 0s 3ms/step - loss: 0.1972 - accuracy: 0.9359\n",
            "Epoch 440/1000\n",
            "5/5 [==============================] - 0s 3ms/step - loss: 0.1974 - accuracy: 0.9359\n",
            "Epoch 441/1000\n",
            "5/5 [==============================] - 0s 3ms/step - loss: 0.1968 - accuracy: 0.9423\n",
            "Epoch 442/1000\n",
            "5/5 [==============================] - 0s 3ms/step - loss: 0.1964 - accuracy: 0.9359\n",
            "Epoch 443/1000\n",
            "5/5 [==============================] - 0s 5ms/step - loss: 0.1961 - accuracy: 0.9359\n",
            "Epoch 444/1000\n",
            "5/5 [==============================] - 0s 3ms/step - loss: 0.1970 - accuracy: 0.9359\n",
            "Epoch 445/1000\n",
            "5/5 [==============================] - 0s 3ms/step - loss: 0.1959 - accuracy: 0.9359\n",
            "Epoch 446/1000\n",
            "5/5 [==============================] - 0s 3ms/step - loss: 0.1955 - accuracy: 0.9359\n",
            "Epoch 447/1000\n",
            "5/5 [==============================] - 0s 3ms/step - loss: 0.1960 - accuracy: 0.9359\n",
            "Epoch 448/1000\n",
            "5/5 [==============================] - 0s 3ms/step - loss: 0.1948 - accuracy: 0.9359\n",
            "Epoch 449/1000\n",
            "5/5 [==============================] - 0s 3ms/step - loss: 0.1945 - accuracy: 0.9359\n",
            "Epoch 450/1000\n",
            "5/5 [==============================] - 0s 3ms/step - loss: 0.1945 - accuracy: 0.9359\n",
            "Epoch 451/1000\n",
            "5/5 [==============================] - 0s 3ms/step - loss: 0.1939 - accuracy: 0.9359\n",
            "Epoch 452/1000\n",
            "5/5 [==============================] - 0s 3ms/step - loss: 0.1937 - accuracy: 0.9359\n",
            "Epoch 453/1000\n",
            "5/5 [==============================] - 0s 4ms/step - loss: 0.1938 - accuracy: 0.9359\n",
            "Epoch 454/1000\n",
            "5/5 [==============================] - 0s 3ms/step - loss: 0.1935 - accuracy: 0.9359\n",
            "Epoch 455/1000\n",
            "5/5 [==============================] - 0s 3ms/step - loss: 0.1937 - accuracy: 0.9423\n",
            "Epoch 456/1000\n",
            "5/5 [==============================] - 0s 3ms/step - loss: 0.1927 - accuracy: 0.9423\n",
            "Epoch 457/1000\n",
            "5/5 [==============================] - 0s 3ms/step - loss: 0.1928 - accuracy: 0.9423\n",
            "Epoch 458/1000\n",
            "5/5 [==============================] - 0s 3ms/step - loss: 0.1923 - accuracy: 0.9359\n",
            "Epoch 459/1000\n",
            "5/5 [==============================] - 0s 4ms/step - loss: 0.1921 - accuracy: 0.9359\n",
            "Epoch 460/1000\n",
            "5/5 [==============================] - 0s 4ms/step - loss: 0.1915 - accuracy: 0.9359\n",
            "Epoch 461/1000\n",
            "5/5 [==============================] - 0s 4ms/step - loss: 0.1918 - accuracy: 0.9359\n",
            "Epoch 462/1000\n",
            "5/5 [==============================] - 0s 3ms/step - loss: 0.1912 - accuracy: 0.9423\n",
            "Epoch 463/1000\n",
            "5/5 [==============================] - 0s 4ms/step - loss: 0.1912 - accuracy: 0.9359\n",
            "Epoch 464/1000\n",
            "5/5 [==============================] - 0s 3ms/step - loss: 0.1907 - accuracy: 0.9359\n",
            "Epoch 465/1000\n",
            "5/5 [==============================] - 0s 3ms/step - loss: 0.1903 - accuracy: 0.9423\n",
            "Epoch 466/1000\n",
            "5/5 [==============================] - 0s 3ms/step - loss: 0.1899 - accuracy: 0.9423\n",
            "Epoch 467/1000\n",
            "5/5 [==============================] - 0s 3ms/step - loss: 0.1897 - accuracy: 0.9423\n",
            "Epoch 468/1000\n",
            "5/5 [==============================] - 0s 3ms/step - loss: 0.1902 - accuracy: 0.9359\n",
            "Epoch 469/1000\n",
            "5/5 [==============================] - 0s 3ms/step - loss: 0.1894 - accuracy: 0.9359\n",
            "Epoch 470/1000\n",
            "5/5 [==============================] - 0s 3ms/step - loss: 0.1888 - accuracy: 0.9423\n",
            "Epoch 471/1000\n",
            "5/5 [==============================] - 0s 3ms/step - loss: 0.1889 - accuracy: 0.9423\n",
            "Epoch 472/1000\n",
            "5/5 [==============================] - 0s 3ms/step - loss: 0.1889 - accuracy: 0.9423\n",
            "Epoch 473/1000\n",
            "5/5 [==============================] - 0s 3ms/step - loss: 0.1887 - accuracy: 0.9423\n",
            "Epoch 474/1000\n",
            "5/5 [==============================] - 0s 3ms/step - loss: 0.1878 - accuracy: 0.9423\n",
            "Epoch 475/1000\n",
            "5/5 [==============================] - 0s 3ms/step - loss: 0.1875 - accuracy: 0.9423\n",
            "Epoch 476/1000\n",
            "5/5 [==============================] - 0s 3ms/step - loss: 0.1874 - accuracy: 0.9423\n",
            "Epoch 477/1000\n",
            "5/5 [==============================] - 0s 3ms/step - loss: 0.1872 - accuracy: 0.9423\n",
            "Epoch 478/1000\n",
            "5/5 [==============================] - 0s 3ms/step - loss: 0.1867 - accuracy: 0.9423\n",
            "Epoch 479/1000\n",
            "5/5 [==============================] - 0s 4ms/step - loss: 0.1866 - accuracy: 0.9423\n",
            "Epoch 480/1000\n",
            "5/5 [==============================] - 0s 3ms/step - loss: 0.1865 - accuracy: 0.9359\n",
            "Epoch 481/1000\n",
            "5/5 [==============================] - 0s 3ms/step - loss: 0.1862 - accuracy: 0.9359\n",
            "Epoch 482/1000\n",
            "5/5 [==============================] - 0s 3ms/step - loss: 0.1859 - accuracy: 0.9359\n",
            "Epoch 483/1000\n",
            "5/5 [==============================] - 0s 4ms/step - loss: 0.1858 - accuracy: 0.9423\n",
            "Epoch 484/1000\n",
            "5/5 [==============================] - 0s 4ms/step - loss: 0.1858 - accuracy: 0.9423\n",
            "Epoch 485/1000\n",
            "5/5 [==============================] - 0s 3ms/step - loss: 0.1854 - accuracy: 0.9423\n",
            "Epoch 486/1000\n",
            "5/5 [==============================] - 0s 3ms/step - loss: 0.1850 - accuracy: 0.9423\n",
            "Epoch 487/1000\n",
            "5/5 [==============================] - 0s 3ms/step - loss: 0.1845 - accuracy: 0.9423\n",
            "Epoch 488/1000\n",
            "5/5 [==============================] - 0s 3ms/step - loss: 0.1846 - accuracy: 0.9423\n",
            "Epoch 489/1000\n",
            "5/5 [==============================] - 0s 4ms/step - loss: 0.1843 - accuracy: 0.9423\n",
            "Epoch 490/1000\n",
            "5/5 [==============================] - 0s 3ms/step - loss: 0.1842 - accuracy: 0.9423\n",
            "Epoch 491/1000\n",
            "5/5 [==============================] - 0s 3ms/step - loss: 0.1840 - accuracy: 0.9423\n",
            "Epoch 492/1000\n",
            "5/5 [==============================] - 0s 3ms/step - loss: 0.1839 - accuracy: 0.9423\n",
            "Epoch 493/1000\n",
            "5/5 [==============================] - 0s 3ms/step - loss: 0.1836 - accuracy: 0.9423\n",
            "Epoch 494/1000\n",
            "5/5 [==============================] - 0s 4ms/step - loss: 0.1833 - accuracy: 0.9423\n",
            "Epoch 495/1000\n",
            "5/5 [==============================] - 0s 3ms/step - loss: 0.1832 - accuracy: 0.9423\n",
            "Epoch 496/1000\n",
            "5/5 [==============================] - 0s 3ms/step - loss: 0.1826 - accuracy: 0.9423\n",
            "Epoch 497/1000\n",
            "5/5 [==============================] - 0s 3ms/step - loss: 0.1829 - accuracy: 0.9423\n",
            "Epoch 498/1000\n",
            "5/5 [==============================] - 0s 4ms/step - loss: 0.1830 - accuracy: 0.9423\n",
            "Epoch 499/1000\n",
            "5/5 [==============================] - 0s 5ms/step - loss: 0.1821 - accuracy: 0.9423\n",
            "Epoch 500/1000\n",
            "5/5 [==============================] - 0s 3ms/step - loss: 0.1819 - accuracy: 0.9423\n",
            "Epoch 501/1000\n",
            "5/5 [==============================] - 0s 4ms/step - loss: 0.1818 - accuracy: 0.9423\n",
            "Epoch 502/1000\n",
            "5/5 [==============================] - 0s 3ms/step - loss: 0.1818 - accuracy: 0.9423\n",
            "Epoch 503/1000\n",
            "5/5 [==============================] - 0s 3ms/step - loss: 0.1813 - accuracy: 0.9423\n",
            "Epoch 504/1000\n",
            "5/5 [==============================] - 0s 3ms/step - loss: 0.1811 - accuracy: 0.9423\n",
            "Epoch 505/1000\n",
            "5/5 [==============================] - 0s 4ms/step - loss: 0.1810 - accuracy: 0.9423\n",
            "Epoch 506/1000\n",
            "5/5 [==============================] - 0s 3ms/step - loss: 0.1810 - accuracy: 0.9423\n",
            "Epoch 507/1000\n",
            "5/5 [==============================] - 0s 3ms/step - loss: 0.1805 - accuracy: 0.9423\n",
            "Epoch 508/1000\n",
            "5/5 [==============================] - 0s 4ms/step - loss: 0.1804 - accuracy: 0.9423\n",
            "Epoch 509/1000\n",
            "5/5 [==============================] - 0s 3ms/step - loss: 0.1803 - accuracy: 0.9423\n",
            "Epoch 510/1000\n",
            "5/5 [==============================] - 0s 3ms/step - loss: 0.1799 - accuracy: 0.9423\n",
            "Epoch 511/1000\n",
            "5/5 [==============================] - 0s 3ms/step - loss: 0.1795 - accuracy: 0.9423\n",
            "Epoch 512/1000\n",
            "5/5 [==============================] - 0s 5ms/step - loss: 0.1794 - accuracy: 0.9423\n",
            "Epoch 513/1000\n",
            "5/5 [==============================] - 0s 3ms/step - loss: 0.1797 - accuracy: 0.9423\n",
            "Epoch 514/1000\n",
            "5/5 [==============================] - 0s 4ms/step - loss: 0.1791 - accuracy: 0.9423\n",
            "Epoch 515/1000\n",
            "5/5 [==============================] - 0s 3ms/step - loss: 0.1787 - accuracy: 0.9423\n",
            "Epoch 516/1000\n",
            "5/5 [==============================] - 0s 3ms/step - loss: 0.1785 - accuracy: 0.9423\n",
            "Epoch 517/1000\n",
            "5/5 [==============================] - 0s 3ms/step - loss: 0.1786 - accuracy: 0.9487\n",
            "Epoch 518/1000\n",
            "5/5 [==============================] - 0s 3ms/step - loss: 0.1785 - accuracy: 0.9487\n",
            "Epoch 519/1000\n",
            "5/5 [==============================] - 0s 3ms/step - loss: 0.1783 - accuracy: 0.9423\n",
            "Epoch 520/1000\n",
            "5/5 [==============================] - 0s 3ms/step - loss: 0.1781 - accuracy: 0.9423\n",
            "Epoch 521/1000\n",
            "5/5 [==============================] - 0s 3ms/step - loss: 0.1778 - accuracy: 0.9423\n",
            "Epoch 522/1000\n",
            "5/5 [==============================] - 0s 4ms/step - loss: 0.1776 - accuracy: 0.9423\n",
            "Epoch 523/1000\n",
            "5/5 [==============================] - 0s 3ms/step - loss: 0.1774 - accuracy: 0.9423\n",
            "Epoch 524/1000\n",
            "5/5 [==============================] - 0s 4ms/step - loss: 0.1771 - accuracy: 0.9487\n",
            "Epoch 525/1000\n",
            "5/5 [==============================] - 0s 3ms/step - loss: 0.1770 - accuracy: 0.9487\n",
            "Epoch 526/1000\n",
            "5/5 [==============================] - 0s 4ms/step - loss: 0.1770 - accuracy: 0.9487\n",
            "Epoch 527/1000\n",
            "5/5 [==============================] - 0s 4ms/step - loss: 0.1765 - accuracy: 0.9487\n",
            "Epoch 528/1000\n",
            "5/5 [==============================] - 0s 3ms/step - loss: 0.1766 - accuracy: 0.9423\n",
            "Epoch 529/1000\n",
            "5/5 [==============================] - 0s 3ms/step - loss: 0.1766 - accuracy: 0.9423\n",
            "Epoch 530/1000\n",
            "5/5 [==============================] - 0s 3ms/step - loss: 0.1768 - accuracy: 0.9423\n",
            "Epoch 531/1000\n",
            "5/5 [==============================] - 0s 3ms/step - loss: 0.1758 - accuracy: 0.9487\n",
            "Epoch 532/1000\n",
            "5/5 [==============================] - 0s 3ms/step - loss: 0.1756 - accuracy: 0.9487\n",
            "Epoch 533/1000\n",
            "5/5 [==============================] - 0s 3ms/step - loss: 0.1755 - accuracy: 0.9487\n",
            "Epoch 534/1000\n",
            "5/5 [==============================] - 0s 3ms/step - loss: 0.1751 - accuracy: 0.9487\n",
            "Epoch 535/1000\n",
            "5/5 [==============================] - 0s 3ms/step - loss: 0.1750 - accuracy: 0.9487\n",
            "Epoch 536/1000\n",
            "5/5 [==============================] - 0s 3ms/step - loss: 0.1749 - accuracy: 0.9487\n",
            "Epoch 537/1000\n",
            "5/5 [==============================] - 0s 3ms/step - loss: 0.1742 - accuracy: 0.9487\n",
            "Epoch 538/1000\n",
            "5/5 [==============================] - 0s 3ms/step - loss: 0.1739 - accuracy: 0.9487\n",
            "Epoch 539/1000\n",
            "5/5 [==============================] - 0s 4ms/step - loss: 0.1731 - accuracy: 0.9487\n",
            "Epoch 540/1000\n",
            "5/5 [==============================] - 0s 3ms/step - loss: 0.1718 - accuracy: 0.9487\n",
            "Epoch 541/1000\n",
            "5/5 [==============================] - 0s 3ms/step - loss: 0.1720 - accuracy: 0.9487\n",
            "Epoch 542/1000\n",
            "5/5 [==============================] - 0s 3ms/step - loss: 0.1678 - accuracy: 0.9487\n",
            "Epoch 543/1000\n",
            "5/5 [==============================] - 0s 3ms/step - loss: 0.1624 - accuracy: 0.9487\n",
            "Epoch 544/1000\n",
            "5/5 [==============================] - 0s 4ms/step - loss: 0.1593 - accuracy: 0.9487\n",
            "Epoch 545/1000\n",
            "5/5 [==============================] - 0s 4ms/step - loss: 0.1602 - accuracy: 0.9487\n",
            "Epoch 546/1000\n",
            "5/5 [==============================] - 0s 3ms/step - loss: 0.1567 - accuracy: 0.9551\n",
            "Epoch 547/1000\n",
            "5/5 [==============================] - 0s 3ms/step - loss: 0.1549 - accuracy: 0.9551\n",
            "Epoch 548/1000\n",
            "5/5 [==============================] - 0s 3ms/step - loss: 0.1542 - accuracy: 0.9487\n",
            "Epoch 549/1000\n",
            "5/5 [==============================] - 0s 3ms/step - loss: 0.1532 - accuracy: 0.9487\n",
            "Epoch 550/1000\n",
            "5/5 [==============================] - 0s 4ms/step - loss: 0.1521 - accuracy: 0.9487\n",
            "Epoch 551/1000\n",
            "5/5 [==============================] - 0s 3ms/step - loss: 0.1515 - accuracy: 0.9551\n",
            "Epoch 552/1000\n",
            "5/5 [==============================] - 0s 3ms/step - loss: 0.1513 - accuracy: 0.9551\n",
            "Epoch 553/1000\n",
            "5/5 [==============================] - 0s 4ms/step - loss: 0.1509 - accuracy: 0.9551\n",
            "Epoch 554/1000\n",
            "5/5 [==============================] - 0s 3ms/step - loss: 0.1507 - accuracy: 0.9551\n",
            "Epoch 555/1000\n",
            "5/5 [==============================] - 0s 3ms/step - loss: 0.1501 - accuracy: 0.9551\n",
            "Epoch 556/1000\n",
            "5/5 [==============================] - 0s 4ms/step - loss: 0.1500 - accuracy: 0.9551\n",
            "Epoch 557/1000\n",
            "5/5 [==============================] - 0s 4ms/step - loss: 0.1496 - accuracy: 0.9551\n",
            "Epoch 558/1000\n",
            "5/5 [==============================] - 0s 4ms/step - loss: 0.1493 - accuracy: 0.9551\n",
            "Epoch 559/1000\n",
            "5/5 [==============================] - 0s 4ms/step - loss: 0.1490 - accuracy: 0.9551\n",
            "Epoch 560/1000\n",
            "5/5 [==============================] - 0s 4ms/step - loss: 0.1488 - accuracy: 0.9551\n",
            "Epoch 561/1000\n",
            "5/5 [==============================] - 0s 4ms/step - loss: 0.1490 - accuracy: 0.9551\n",
            "Epoch 562/1000\n",
            "5/5 [==============================] - 0s 4ms/step - loss: 0.1485 - accuracy: 0.9551\n",
            "Epoch 563/1000\n",
            "5/5 [==============================] - 0s 4ms/step - loss: 0.1480 - accuracy: 0.9551\n",
            "Epoch 564/1000\n",
            "5/5 [==============================] - 0s 4ms/step - loss: 0.1478 - accuracy: 0.9551\n",
            "Epoch 565/1000\n",
            "5/5 [==============================] - 0s 3ms/step - loss: 0.1476 - accuracy: 0.9551\n",
            "Epoch 566/1000\n",
            "5/5 [==============================] - 0s 4ms/step - loss: 0.1474 - accuracy: 0.9551\n",
            "Epoch 567/1000\n",
            "5/5 [==============================] - 0s 4ms/step - loss: 0.1472 - accuracy: 0.9551\n",
            "Epoch 568/1000\n",
            "5/5 [==============================] - 0s 3ms/step - loss: 0.1470 - accuracy: 0.9551\n",
            "Epoch 569/1000\n",
            "5/5 [==============================] - 0s 3ms/step - loss: 0.1468 - accuracy: 0.9551\n",
            "Epoch 570/1000\n",
            "5/5 [==============================] - 0s 3ms/step - loss: 0.1465 - accuracy: 0.9551\n",
            "Epoch 571/1000\n",
            "5/5 [==============================] - 0s 3ms/step - loss: 0.1465 - accuracy: 0.9551\n",
            "Epoch 572/1000\n",
            "5/5 [==============================] - 0s 3ms/step - loss: 0.1462 - accuracy: 0.9551\n",
            "Epoch 573/1000\n",
            "5/5 [==============================] - 0s 3ms/step - loss: 0.1460 - accuracy: 0.9551\n",
            "Epoch 574/1000\n",
            "5/5 [==============================] - 0s 3ms/step - loss: 0.1459 - accuracy: 0.9551\n",
            "Epoch 575/1000\n",
            "5/5 [==============================] - 0s 4ms/step - loss: 0.1456 - accuracy: 0.9551\n",
            "Epoch 576/1000\n",
            "5/5 [==============================] - 0s 4ms/step - loss: 0.1456 - accuracy: 0.9551\n",
            "Epoch 577/1000\n",
            "5/5 [==============================] - 0s 4ms/step - loss: 0.1453 - accuracy: 0.9551\n",
            "Epoch 578/1000\n",
            "5/5 [==============================] - 0s 3ms/step - loss: 0.1451 - accuracy: 0.9551\n",
            "Epoch 579/1000\n",
            "5/5 [==============================] - 0s 4ms/step - loss: 0.1451 - accuracy: 0.9551\n",
            "Epoch 580/1000\n",
            "5/5 [==============================] - 0s 3ms/step - loss: 0.1448 - accuracy: 0.9551\n",
            "Epoch 581/1000\n",
            "5/5 [==============================] - 0s 4ms/step - loss: 0.1447 - accuracy: 0.9551\n",
            "Epoch 582/1000\n",
            "5/5 [==============================] - 0s 3ms/step - loss: 0.1444 - accuracy: 0.9551\n",
            "Epoch 583/1000\n",
            "5/5 [==============================] - 0s 4ms/step - loss: 0.1443 - accuracy: 0.9551\n",
            "Epoch 584/1000\n",
            "5/5 [==============================] - 0s 4ms/step - loss: 0.1442 - accuracy: 0.9551\n",
            "Epoch 585/1000\n",
            "5/5 [==============================] - 0s 3ms/step - loss: 0.1440 - accuracy: 0.9551\n",
            "Epoch 586/1000\n",
            "5/5 [==============================] - 0s 4ms/step - loss: 0.1438 - accuracy: 0.9551\n",
            "Epoch 587/1000\n",
            "5/5 [==============================] - 0s 3ms/step - loss: 0.1437 - accuracy: 0.9551\n",
            "Epoch 588/1000\n",
            "5/5 [==============================] - 0s 3ms/step - loss: 0.1436 - accuracy: 0.9551\n",
            "Epoch 589/1000\n",
            "5/5 [==============================] - 0s 3ms/step - loss: 0.1434 - accuracy: 0.9551\n",
            "Epoch 590/1000\n",
            "5/5 [==============================] - 0s 3ms/step - loss: 0.1432 - accuracy: 0.9551\n",
            "Epoch 591/1000\n",
            "5/5 [==============================] - 0s 3ms/step - loss: 0.1431 - accuracy: 0.9551\n",
            "Epoch 592/1000\n",
            "5/5 [==============================] - 0s 3ms/step - loss: 0.1430 - accuracy: 0.9551\n",
            "Epoch 593/1000\n",
            "5/5 [==============================] - 0s 3ms/step - loss: 0.1428 - accuracy: 0.9551\n",
            "Epoch 594/1000\n",
            "5/5 [==============================] - 0s 3ms/step - loss: 0.1429 - accuracy: 0.9551\n",
            "Epoch 595/1000\n",
            "5/5 [==============================] - 0s 3ms/step - loss: 0.1426 - accuracy: 0.9551\n",
            "Epoch 596/1000\n",
            "5/5 [==============================] - 0s 3ms/step - loss: 0.1427 - accuracy: 0.9551\n",
            "Epoch 597/1000\n",
            "5/5 [==============================] - 0s 3ms/step - loss: 0.1423 - accuracy: 0.9551\n",
            "Epoch 598/1000\n",
            "5/5 [==============================] - 0s 3ms/step - loss: 0.1421 - accuracy: 0.9551\n",
            "Epoch 599/1000\n",
            "5/5 [==============================] - 0s 3ms/step - loss: 0.1421 - accuracy: 0.9551\n",
            "Epoch 600/1000\n",
            "5/5 [==============================] - 0s 3ms/step - loss: 0.1419 - accuracy: 0.9551\n",
            "Epoch 601/1000\n",
            "5/5 [==============================] - 0s 3ms/step - loss: 0.1417 - accuracy: 0.9551\n",
            "Epoch 602/1000\n",
            "5/5 [==============================] - 0s 3ms/step - loss: 0.1416 - accuracy: 0.9551\n",
            "Epoch 603/1000\n",
            "5/5 [==============================] - 0s 3ms/step - loss: 0.1415 - accuracy: 0.9551\n",
            "Epoch 604/1000\n",
            "5/5 [==============================] - 0s 3ms/step - loss: 0.1413 - accuracy: 0.9551\n",
            "Epoch 605/1000\n",
            "5/5 [==============================] - 0s 3ms/step - loss: 0.1412 - accuracy: 0.9551\n",
            "Epoch 606/1000\n",
            "5/5 [==============================] - 0s 3ms/step - loss: 0.1411 - accuracy: 0.9551\n",
            "Epoch 607/1000\n",
            "5/5 [==============================] - 0s 3ms/step - loss: 0.1410 - accuracy: 0.9551\n",
            "Epoch 608/1000\n",
            "5/5 [==============================] - 0s 4ms/step - loss: 0.1409 - accuracy: 0.9551\n",
            "Epoch 609/1000\n",
            "5/5 [==============================] - 0s 3ms/step - loss: 0.1408 - accuracy: 0.9551\n",
            "Epoch 610/1000\n",
            "5/5 [==============================] - 0s 4ms/step - loss: 0.1406 - accuracy: 0.9551\n",
            "Epoch 611/1000\n",
            "5/5 [==============================] - 0s 4ms/step - loss: 0.1406 - accuracy: 0.9551\n",
            "Epoch 612/1000\n",
            "5/5 [==============================] - 0s 3ms/step - loss: 0.1404 - accuracy: 0.9551\n",
            "Epoch 613/1000\n",
            "5/5 [==============================] - 0s 3ms/step - loss: 0.1405 - accuracy: 0.9551\n",
            "Epoch 614/1000\n",
            "5/5 [==============================] - 0s 3ms/step - loss: 0.1402 - accuracy: 0.9551\n",
            "Epoch 615/1000\n",
            "5/5 [==============================] - 0s 3ms/step - loss: 0.1401 - accuracy: 0.9551\n",
            "Epoch 616/1000\n",
            "5/5 [==============================] - 0s 3ms/step - loss: 0.1400 - accuracy: 0.9551\n",
            "Epoch 617/1000\n",
            "5/5 [==============================] - 0s 3ms/step - loss: 0.1399 - accuracy: 0.9551\n",
            "Epoch 618/1000\n",
            "5/5 [==============================] - 0s 3ms/step - loss: 0.1398 - accuracy: 0.9551\n",
            "Epoch 619/1000\n",
            "5/5 [==============================] - 0s 3ms/step - loss: 0.1397 - accuracy: 0.9551\n",
            "Epoch 620/1000\n",
            "5/5 [==============================] - 0s 3ms/step - loss: 0.1397 - accuracy: 0.9551\n",
            "Epoch 621/1000\n",
            "5/5 [==============================] - 0s 3ms/step - loss: 0.1395 - accuracy: 0.9551\n",
            "Epoch 622/1000\n",
            "5/5 [==============================] - 0s 3ms/step - loss: 0.1394 - accuracy: 0.9551\n",
            "Epoch 623/1000\n",
            "5/5 [==============================] - 0s 3ms/step - loss: 0.1393 - accuracy: 0.9551\n",
            "Epoch 624/1000\n",
            "5/5 [==============================] - 0s 5ms/step - loss: 0.1391 - accuracy: 0.9551\n",
            "Epoch 625/1000\n",
            "5/5 [==============================] - 0s 4ms/step - loss: 0.1390 - accuracy: 0.9551\n",
            "Epoch 626/1000\n",
            "5/5 [==============================] - 0s 5ms/step - loss: 0.1389 - accuracy: 0.9551\n",
            "Epoch 627/1000\n",
            "5/5 [==============================] - 0s 4ms/step - loss: 0.1389 - accuracy: 0.9551\n",
            "Epoch 628/1000\n",
            "5/5 [==============================] - 0s 4ms/step - loss: 0.1388 - accuracy: 0.9551\n",
            "Epoch 629/1000\n",
            "5/5 [==============================] - 0s 3ms/step - loss: 0.1387 - accuracy: 0.9551\n",
            "Epoch 630/1000\n",
            "5/5 [==============================] - 0s 3ms/step - loss: 0.1386 - accuracy: 0.9551\n",
            "Epoch 631/1000\n",
            "5/5 [==============================] - 0s 3ms/step - loss: 0.1385 - accuracy: 0.9551\n",
            "Epoch 632/1000\n",
            "5/5 [==============================] - 0s 4ms/step - loss: 0.1384 - accuracy: 0.9551\n",
            "Epoch 633/1000\n",
            "5/5 [==============================] - 0s 5ms/step - loss: 0.1383 - accuracy: 0.9551\n",
            "Epoch 634/1000\n",
            "5/5 [==============================] - 0s 4ms/step - loss: 0.1382 - accuracy: 0.9551\n",
            "Epoch 635/1000\n",
            "5/5 [==============================] - 0s 4ms/step - loss: 0.1381 - accuracy: 0.9551\n",
            "Epoch 636/1000\n",
            "5/5 [==============================] - 0s 4ms/step - loss: 0.1380 - accuracy: 0.9551\n",
            "Epoch 637/1000\n",
            "5/5 [==============================] - 0s 3ms/step - loss: 0.1380 - accuracy: 0.9551\n",
            "Epoch 638/1000\n",
            "5/5 [==============================] - 0s 4ms/step - loss: 0.1379 - accuracy: 0.9551\n",
            "Epoch 639/1000\n",
            "5/5 [==============================] - 0s 4ms/step - loss: 0.1378 - accuracy: 0.9551\n",
            "Epoch 640/1000\n",
            "5/5 [==============================] - 0s 3ms/step - loss: 0.1377 - accuracy: 0.9551\n",
            "Epoch 641/1000\n",
            "5/5 [==============================] - 0s 3ms/step - loss: 0.1376 - accuracy: 0.9551\n",
            "Epoch 642/1000\n",
            "5/5 [==============================] - 0s 3ms/step - loss: 0.1375 - accuracy: 0.9551\n",
            "Epoch 643/1000\n",
            "5/5 [==============================] - 0s 3ms/step - loss: 0.1375 - accuracy: 0.9551\n",
            "Epoch 644/1000\n",
            "5/5 [==============================] - 0s 3ms/step - loss: 0.1374 - accuracy: 0.9551\n",
            "Epoch 645/1000\n",
            "5/5 [==============================] - 0s 4ms/step - loss: 0.1373 - accuracy: 0.9551\n",
            "Epoch 646/1000\n",
            "5/5 [==============================] - 0s 3ms/step - loss: 0.1372 - accuracy: 0.9551\n",
            "Epoch 647/1000\n",
            "5/5 [==============================] - 0s 3ms/step - loss: 0.1371 - accuracy: 0.9551\n",
            "Epoch 648/1000\n",
            "5/5 [==============================] - 0s 4ms/step - loss: 0.1370 - accuracy: 0.9551\n",
            "Epoch 649/1000\n",
            "5/5 [==============================] - 0s 4ms/step - loss: 0.1370 - accuracy: 0.9551\n",
            "Epoch 650/1000\n",
            "5/5 [==============================] - 0s 4ms/step - loss: 0.1369 - accuracy: 0.9551\n",
            "Epoch 651/1000\n",
            "5/5 [==============================] - 0s 3ms/step - loss: 0.1368 - accuracy: 0.9551\n",
            "Epoch 652/1000\n",
            "5/5 [==============================] - 0s 4ms/step - loss: 0.1368 - accuracy: 0.9551\n",
            "Epoch 653/1000\n",
            "5/5 [==============================] - 0s 4ms/step - loss: 0.1366 - accuracy: 0.9551\n",
            "Epoch 654/1000\n",
            "5/5 [==============================] - 0s 3ms/step - loss: 0.1366 - accuracy: 0.9551\n",
            "Epoch 655/1000\n",
            "5/5 [==============================] - 0s 4ms/step - loss: 0.1365 - accuracy: 0.9551\n",
            "Epoch 656/1000\n",
            "5/5 [==============================] - 0s 4ms/step - loss: 0.1364 - accuracy: 0.9551\n",
            "Epoch 657/1000\n",
            "5/5 [==============================] - 0s 3ms/step - loss: 0.1363 - accuracy: 0.9551\n",
            "Epoch 658/1000\n",
            "5/5 [==============================] - 0s 4ms/step - loss: 0.1363 - accuracy: 0.9551\n",
            "Epoch 659/1000\n",
            "5/5 [==============================] - 0s 4ms/step - loss: 0.1362 - accuracy: 0.9551\n",
            "Epoch 660/1000\n",
            "5/5 [==============================] - 0s 3ms/step - loss: 0.1361 - accuracy: 0.9551\n",
            "Epoch 661/1000\n",
            "5/5 [==============================] - 0s 3ms/step - loss: 0.1360 - accuracy: 0.9551\n",
            "Epoch 662/1000\n",
            "5/5 [==============================] - 0s 3ms/step - loss: 0.1360 - accuracy: 0.9551\n",
            "Epoch 663/1000\n",
            "5/5 [==============================] - 0s 3ms/step - loss: 0.1359 - accuracy: 0.9551\n",
            "Epoch 664/1000\n",
            "5/5 [==============================] - 0s 4ms/step - loss: 0.1358 - accuracy: 0.9551\n",
            "Epoch 665/1000\n",
            "5/5 [==============================] - 0s 4ms/step - loss: 0.1357 - accuracy: 0.9551\n",
            "Epoch 666/1000\n",
            "5/5 [==============================] - 0s 3ms/step - loss: 0.1357 - accuracy: 0.9551\n",
            "Epoch 667/1000\n",
            "5/5 [==============================] - 0s 4ms/step - loss: 0.1357 - accuracy: 0.9551\n",
            "Epoch 668/1000\n",
            "5/5 [==============================] - 0s 3ms/step - loss: 0.1356 - accuracy: 0.9551\n",
            "Epoch 669/1000\n",
            "5/5 [==============================] - 0s 3ms/step - loss: 0.1355 - accuracy: 0.9551\n",
            "Epoch 670/1000\n",
            "5/5 [==============================] - 0s 3ms/step - loss: 0.1354 - accuracy: 0.9551\n",
            "Epoch 671/1000\n",
            "5/5 [==============================] - 0s 4ms/step - loss: 0.1353 - accuracy: 0.9551\n",
            "Epoch 672/1000\n",
            "5/5 [==============================] - 0s 4ms/step - loss: 0.1353 - accuracy: 0.9551\n",
            "Epoch 673/1000\n",
            "5/5 [==============================] - 0s 4ms/step - loss: 0.1353 - accuracy: 0.9551\n",
            "Epoch 674/1000\n",
            "5/5 [==============================] - 0s 3ms/step - loss: 0.1352 - accuracy: 0.9551\n",
            "Epoch 675/1000\n",
            "5/5 [==============================] - 0s 3ms/step - loss: 0.1351 - accuracy: 0.9551\n",
            "Epoch 676/1000\n",
            "5/5 [==============================] - 0s 3ms/step - loss: 0.1350 - accuracy: 0.9551\n",
            "Epoch 677/1000\n",
            "5/5 [==============================] - 0s 4ms/step - loss: 0.1350 - accuracy: 0.9551\n",
            "Epoch 678/1000\n",
            "5/5 [==============================] - 0s 3ms/step - loss: 0.1349 - accuracy: 0.9551\n",
            "Epoch 679/1000\n",
            "5/5 [==============================] - 0s 3ms/step - loss: 0.1349 - accuracy: 0.9551\n",
            "Epoch 680/1000\n",
            "5/5 [==============================] - 0s 3ms/step - loss: 0.1348 - accuracy: 0.9551\n",
            "Epoch 681/1000\n",
            "5/5 [==============================] - 0s 4ms/step - loss: 0.1349 - accuracy: 0.9551\n",
            "Epoch 682/1000\n",
            "5/5 [==============================] - 0s 3ms/step - loss: 0.1347 - accuracy: 0.9551\n",
            "Epoch 683/1000\n",
            "5/5 [==============================] - 0s 3ms/step - loss: 0.1346 - accuracy: 0.9551\n",
            "Epoch 684/1000\n",
            "5/5 [==============================] - 0s 4ms/step - loss: 0.1347 - accuracy: 0.9551\n",
            "Epoch 685/1000\n",
            "5/5 [==============================] - 0s 4ms/step - loss: 0.1345 - accuracy: 0.9551\n",
            "Epoch 686/1000\n",
            "5/5 [==============================] - 0s 3ms/step - loss: 0.1344 - accuracy: 0.9551\n",
            "Epoch 687/1000\n",
            "5/5 [==============================] - 0s 4ms/step - loss: 0.1344 - accuracy: 0.9551\n",
            "Epoch 688/1000\n",
            "5/5 [==============================] - 0s 3ms/step - loss: 0.1343 - accuracy: 0.9551\n",
            "Epoch 689/1000\n",
            "5/5 [==============================] - 0s 3ms/step - loss: 0.1343 - accuracy: 0.9551\n",
            "Epoch 690/1000\n",
            "5/5 [==============================] - 0s 3ms/step - loss: 0.1342 - accuracy: 0.9551\n",
            "Epoch 691/1000\n",
            "5/5 [==============================] - 0s 3ms/step - loss: 0.1341 - accuracy: 0.9551\n",
            "Epoch 692/1000\n",
            "5/5 [==============================] - 0s 3ms/step - loss: 0.1341 - accuracy: 0.9551\n",
            "Epoch 693/1000\n",
            "5/5 [==============================] - 0s 3ms/step - loss: 0.1341 - accuracy: 0.9551\n",
            "Epoch 694/1000\n",
            "5/5 [==============================] - 0s 3ms/step - loss: 0.1339 - accuracy: 0.9551\n",
            "Epoch 695/1000\n",
            "5/5 [==============================] - 0s 3ms/step - loss: 0.1340 - accuracy: 0.9551\n",
            "Epoch 696/1000\n",
            "5/5 [==============================] - 0s 4ms/step - loss: 0.1339 - accuracy: 0.9551\n",
            "Epoch 697/1000\n",
            "5/5 [==============================] - 0s 4ms/step - loss: 0.1338 - accuracy: 0.9551\n",
            "Epoch 698/1000\n",
            "5/5 [==============================] - 0s 3ms/step - loss: 0.1338 - accuracy: 0.9551\n",
            "Epoch 699/1000\n",
            "5/5 [==============================] - 0s 3ms/step - loss: 0.1337 - accuracy: 0.9551\n",
            "Epoch 700/1000\n",
            "5/5 [==============================] - 0s 3ms/step - loss: 0.1336 - accuracy: 0.9551\n",
            "Epoch 701/1000\n",
            "5/5 [==============================] - 0s 4ms/step - loss: 0.1336 - accuracy: 0.9551\n",
            "Epoch 702/1000\n",
            "5/5 [==============================] - 0s 4ms/step - loss: 0.1336 - accuracy: 0.9551\n",
            "Epoch 703/1000\n",
            "5/5 [==============================] - 0s 3ms/step - loss: 0.1335 - accuracy: 0.9551\n",
            "Epoch 704/1000\n",
            "5/5 [==============================] - 0s 4ms/step - loss: 0.1335 - accuracy: 0.9551\n",
            "Epoch 705/1000\n",
            "5/5 [==============================] - 0s 3ms/step - loss: 0.1334 - accuracy: 0.9551\n",
            "Epoch 706/1000\n",
            "5/5 [==============================] - 0s 3ms/step - loss: 0.1333 - accuracy: 0.9551\n",
            "Epoch 707/1000\n",
            "5/5 [==============================] - 0s 3ms/step - loss: 0.1333 - accuracy: 0.9551\n",
            "Epoch 708/1000\n",
            "5/5 [==============================] - 0s 3ms/step - loss: 0.1332 - accuracy: 0.9551\n",
            "Epoch 709/1000\n",
            "5/5 [==============================] - 0s 3ms/step - loss: 0.1332 - accuracy: 0.9551\n",
            "Epoch 710/1000\n",
            "5/5 [==============================] - 0s 3ms/step - loss: 0.1331 - accuracy: 0.9551\n",
            "Epoch 711/1000\n",
            "5/5 [==============================] - 0s 3ms/step - loss: 0.1331 - accuracy: 0.9551\n",
            "Epoch 712/1000\n",
            "5/5 [==============================] - 0s 3ms/step - loss: 0.1331 - accuracy: 0.9551\n",
            "Epoch 713/1000\n",
            "5/5 [==============================] - 0s 4ms/step - loss: 0.1330 - accuracy: 0.9551\n",
            "Epoch 714/1000\n",
            "5/5 [==============================] - 0s 3ms/step - loss: 0.1329 - accuracy: 0.9551\n",
            "Epoch 715/1000\n",
            "5/5 [==============================] - 0s 3ms/step - loss: 0.1329 - accuracy: 0.9551\n",
            "Epoch 716/1000\n",
            "5/5 [==============================] - 0s 3ms/step - loss: 0.1328 - accuracy: 0.9551\n",
            "Epoch 717/1000\n",
            "5/5 [==============================] - 0s 3ms/step - loss: 0.1328 - accuracy: 0.9551\n",
            "Epoch 718/1000\n",
            "5/5 [==============================] - 0s 5ms/step - loss: 0.1327 - accuracy: 0.9551\n",
            "Epoch 719/1000\n",
            "5/5 [==============================] - 0s 5ms/step - loss: 0.1327 - accuracy: 0.9551\n",
            "Epoch 720/1000\n",
            "5/5 [==============================] - 0s 4ms/step - loss: 0.1326 - accuracy: 0.9551\n",
            "Epoch 721/1000\n",
            "5/5 [==============================] - 0s 3ms/step - loss: 0.1326 - accuracy: 0.9551\n",
            "Epoch 722/1000\n",
            "5/5 [==============================] - 0s 4ms/step - loss: 0.1325 - accuracy: 0.9551\n",
            "Epoch 723/1000\n",
            "5/5 [==============================] - 0s 3ms/step - loss: 0.1325 - accuracy: 0.9551\n",
            "Epoch 724/1000\n",
            "5/5 [==============================] - 0s 3ms/step - loss: 0.1325 - accuracy: 0.9551\n",
            "Epoch 725/1000\n",
            "5/5 [==============================] - 0s 3ms/step - loss: 0.1324 - accuracy: 0.9551\n",
            "Epoch 726/1000\n",
            "5/5 [==============================] - 0s 3ms/step - loss: 0.1324 - accuracy: 0.9551\n",
            "Epoch 727/1000\n",
            "5/5 [==============================] - 0s 3ms/step - loss: 0.1323 - accuracy: 0.9551\n",
            "Epoch 728/1000\n",
            "5/5 [==============================] - 0s 3ms/step - loss: 0.1323 - accuracy: 0.9551\n",
            "Epoch 729/1000\n",
            "5/5 [==============================] - 0s 3ms/step - loss: 0.1322 - accuracy: 0.9551\n",
            "Epoch 730/1000\n",
            "5/5 [==============================] - 0s 3ms/step - loss: 0.1322 - accuracy: 0.9551\n",
            "Epoch 731/1000\n",
            "5/5 [==============================] - 0s 3ms/step - loss: 0.1321 - accuracy: 0.9551\n",
            "Epoch 732/1000\n",
            "5/5 [==============================] - 0s 3ms/step - loss: 0.1321 - accuracy: 0.9551\n",
            "Epoch 733/1000\n",
            "5/5 [==============================] - 0s 3ms/step - loss: 0.1320 - accuracy: 0.9551\n",
            "Epoch 734/1000\n",
            "5/5 [==============================] - 0s 3ms/step - loss: 0.1320 - accuracy: 0.9551\n",
            "Epoch 735/1000\n",
            "5/5 [==============================] - 0s 4ms/step - loss: 0.1320 - accuracy: 0.9551\n",
            "Epoch 736/1000\n",
            "5/5 [==============================] - 0s 3ms/step - loss: 0.1319 - accuracy: 0.9551\n",
            "Epoch 737/1000\n",
            "5/5 [==============================] - 0s 4ms/step - loss: 0.1319 - accuracy: 0.9551\n",
            "Epoch 738/1000\n",
            "5/5 [==============================] - 0s 3ms/step - loss: 0.1319 - accuracy: 0.9551\n",
            "Epoch 739/1000\n",
            "5/5 [==============================] - 0s 4ms/step - loss: 0.1318 - accuracy: 0.9551\n",
            "Epoch 740/1000\n",
            "5/5 [==============================] - 0s 3ms/step - loss: 0.1317 - accuracy: 0.9551\n",
            "Epoch 741/1000\n",
            "5/5 [==============================] - 0s 3ms/step - loss: 0.1317 - accuracy: 0.9551\n",
            "Epoch 742/1000\n",
            "5/5 [==============================] - 0s 3ms/step - loss: 0.1316 - accuracy: 0.9551\n",
            "Epoch 743/1000\n",
            "5/5 [==============================] - 0s 3ms/step - loss: 0.1316 - accuracy: 0.9551\n",
            "Epoch 744/1000\n",
            "5/5 [==============================] - 0s 4ms/step - loss: 0.1316 - accuracy: 0.9551\n",
            "Epoch 745/1000\n",
            "5/5 [==============================] - 0s 3ms/step - loss: 0.1315 - accuracy: 0.9551\n",
            "Epoch 746/1000\n",
            "5/5 [==============================] - 0s 4ms/step - loss: 0.1315 - accuracy: 0.9551\n",
            "Epoch 747/1000\n",
            "5/5 [==============================] - 0s 3ms/step - loss: 0.1315 - accuracy: 0.9551\n",
            "Epoch 748/1000\n",
            "5/5 [==============================] - 0s 3ms/step - loss: 0.1314 - accuracy: 0.9551\n",
            "Epoch 749/1000\n",
            "5/5 [==============================] - 0s 4ms/step - loss: 0.1313 - accuracy: 0.9551\n",
            "Epoch 750/1000\n",
            "5/5 [==============================] - 0s 3ms/step - loss: 0.1313 - accuracy: 0.9551\n",
            "Epoch 751/1000\n",
            "5/5 [==============================] - 0s 3ms/step - loss: 0.1313 - accuracy: 0.9551\n",
            "Epoch 752/1000\n",
            "5/5 [==============================] - 0s 3ms/step - loss: 0.1312 - accuracy: 0.9551\n",
            "Epoch 753/1000\n",
            "5/5 [==============================] - 0s 4ms/step - loss: 0.1312 - accuracy: 0.9551\n",
            "Epoch 754/1000\n",
            "5/5 [==============================] - 0s 4ms/step - loss: 0.1311 - accuracy: 0.9551\n",
            "Epoch 755/1000\n",
            "5/5 [==============================] - 0s 4ms/step - loss: 0.1311 - accuracy: 0.9551\n",
            "Epoch 756/1000\n",
            "5/5 [==============================] - 0s 3ms/step - loss: 0.1312 - accuracy: 0.9551\n",
            "Epoch 757/1000\n",
            "5/5 [==============================] - 0s 4ms/step - loss: 0.1310 - accuracy: 0.9551\n",
            "Epoch 758/1000\n",
            "5/5 [==============================] - 0s 4ms/step - loss: 0.1310 - accuracy: 0.9551\n",
            "Epoch 759/1000\n",
            "5/5 [==============================] - 0s 3ms/step - loss: 0.1309 - accuracy: 0.9551\n",
            "Epoch 760/1000\n",
            "5/5 [==============================] - 0s 4ms/step - loss: 0.1309 - accuracy: 0.9551\n",
            "Epoch 761/1000\n",
            "5/5 [==============================] - 0s 4ms/step - loss: 0.1309 - accuracy: 0.9551\n",
            "Epoch 762/1000\n",
            "5/5 [==============================] - 0s 4ms/step - loss: 0.1308 - accuracy: 0.9551\n",
            "Epoch 763/1000\n",
            "5/5 [==============================] - 0s 3ms/step - loss: 0.1308 - accuracy: 0.9551\n",
            "Epoch 764/1000\n",
            "5/5 [==============================] - 0s 3ms/step - loss: 0.1308 - accuracy: 0.9551\n",
            "Epoch 765/1000\n",
            "5/5 [==============================] - 0s 3ms/step - loss: 0.1307 - accuracy: 0.9551\n",
            "Epoch 766/1000\n",
            "5/5 [==============================] - 0s 3ms/step - loss: 0.1307 - accuracy: 0.9551\n",
            "Epoch 767/1000\n",
            "5/5 [==============================] - 0s 3ms/step - loss: 0.1306 - accuracy: 0.9551\n",
            "Epoch 768/1000\n",
            "5/5 [==============================] - 0s 3ms/step - loss: 0.1306 - accuracy: 0.9551\n",
            "Epoch 769/1000\n",
            "5/5 [==============================] - 0s 3ms/step - loss: 0.1306 - accuracy: 0.9551\n",
            "Epoch 770/1000\n",
            "5/5 [==============================] - 0s 4ms/step - loss: 0.1305 - accuracy: 0.9551\n",
            "Epoch 771/1000\n",
            "5/5 [==============================] - 0s 4ms/step - loss: 0.1305 - accuracy: 0.9551\n",
            "Epoch 772/1000\n",
            "5/5 [==============================] - 0s 3ms/step - loss: 0.1305 - accuracy: 0.9551\n",
            "Epoch 773/1000\n",
            "5/5 [==============================] - 0s 4ms/step - loss: 0.1304 - accuracy: 0.9551\n",
            "Epoch 774/1000\n",
            "5/5 [==============================] - 0s 4ms/step - loss: 0.1304 - accuracy: 0.9551\n",
            "Epoch 775/1000\n",
            "5/5 [==============================] - 0s 3ms/step - loss: 0.1303 - accuracy: 0.9551\n",
            "Epoch 776/1000\n",
            "5/5 [==============================] - 0s 3ms/step - loss: 0.1303 - accuracy: 0.9551\n",
            "Epoch 777/1000\n",
            "5/5 [==============================] - 0s 3ms/step - loss: 0.1303 - accuracy: 0.9551\n",
            "Epoch 778/1000\n",
            "5/5 [==============================] - 0s 3ms/step - loss: 0.1302 - accuracy: 0.9551\n",
            "Epoch 779/1000\n",
            "5/5 [==============================] - 0s 3ms/step - loss: 0.1302 - accuracy: 0.9551\n",
            "Epoch 780/1000\n",
            "5/5 [==============================] - 0s 4ms/step - loss: 0.1302 - accuracy: 0.9551\n",
            "Epoch 781/1000\n",
            "5/5 [==============================] - 0s 4ms/step - loss: 0.1301 - accuracy: 0.9551\n",
            "Epoch 782/1000\n",
            "5/5 [==============================] - 0s 3ms/step - loss: 0.1300 - accuracy: 0.9551\n",
            "Epoch 783/1000\n",
            "5/5 [==============================] - 0s 3ms/step - loss: 0.1301 - accuracy: 0.9551\n",
            "Epoch 784/1000\n",
            "5/5 [==============================] - 0s 3ms/step - loss: 0.1300 - accuracy: 0.9551\n",
            "Epoch 785/1000\n",
            "5/5 [==============================] - 0s 3ms/step - loss: 0.1299 - accuracy: 0.9551\n",
            "Epoch 786/1000\n",
            "5/5 [==============================] - 0s 4ms/step - loss: 0.1299 - accuracy: 0.9551\n",
            "Epoch 787/1000\n",
            "5/5 [==============================] - 0s 5ms/step - loss: 0.1299 - accuracy: 0.9551\n",
            "Epoch 788/1000\n",
            "5/5 [==============================] - 0s 4ms/step - loss: 0.1298 - accuracy: 0.9551\n",
            "Epoch 789/1000\n",
            "5/5 [==============================] - 0s 4ms/step - loss: 0.1298 - accuracy: 0.9551\n",
            "Epoch 790/1000\n",
            "5/5 [==============================] - 0s 3ms/step - loss: 0.1297 - accuracy: 0.9551\n",
            "Epoch 791/1000\n",
            "5/5 [==============================] - 0s 4ms/step - loss: 0.1297 - accuracy: 0.9551\n",
            "Epoch 792/1000\n",
            "5/5 [==============================] - 0s 4ms/step - loss: 0.1296 - accuracy: 0.9551\n",
            "Epoch 793/1000\n",
            "5/5 [==============================] - 0s 3ms/step - loss: 0.1296 - accuracy: 0.9551\n",
            "Epoch 794/1000\n",
            "5/5 [==============================] - 0s 3ms/step - loss: 0.1296 - accuracy: 0.9551\n",
            "Epoch 795/1000\n",
            "5/5 [==============================] - 0s 3ms/step - loss: 0.1296 - accuracy: 0.9551\n",
            "Epoch 796/1000\n",
            "5/5 [==============================] - 0s 4ms/step - loss: 0.1295 - accuracy: 0.9551\n",
            "Epoch 797/1000\n",
            "5/5 [==============================] - 0s 3ms/step - loss: 0.1295 - accuracy: 0.9551\n",
            "Epoch 798/1000\n",
            "5/5 [==============================] - 0s 4ms/step - loss: 0.1294 - accuracy: 0.9551\n",
            "Epoch 799/1000\n",
            "5/5 [==============================] - 0s 3ms/step - loss: 0.1294 - accuracy: 0.9551\n",
            "Epoch 800/1000\n",
            "5/5 [==============================] - 0s 3ms/step - loss: 0.1293 - accuracy: 0.9551\n",
            "Epoch 801/1000\n",
            "5/5 [==============================] - 0s 3ms/step - loss: 0.1293 - accuracy: 0.9551\n",
            "Epoch 802/1000\n",
            "5/5 [==============================] - 0s 4ms/step - loss: 0.1292 - accuracy: 0.9551\n",
            "Epoch 803/1000\n",
            "5/5 [==============================] - 0s 3ms/step - loss: 0.1293 - accuracy: 0.9551\n",
            "Epoch 804/1000\n",
            "5/5 [==============================] - 0s 4ms/step - loss: 0.1291 - accuracy: 0.9551\n",
            "Epoch 805/1000\n",
            "5/5 [==============================] - 0s 4ms/step - loss: 0.1291 - accuracy: 0.9551\n",
            "Epoch 806/1000\n",
            "5/5 [==============================] - 0s 3ms/step - loss: 0.1291 - accuracy: 0.9551\n",
            "Epoch 807/1000\n",
            "5/5 [==============================] - 0s 4ms/step - loss: 0.1290 - accuracy: 0.9551\n",
            "Epoch 808/1000\n",
            "5/5 [==============================] - 0s 3ms/step - loss: 0.1290 - accuracy: 0.9551\n",
            "Epoch 809/1000\n",
            "5/5 [==============================] - 0s 3ms/step - loss: 0.1289 - accuracy: 0.9551\n",
            "Epoch 810/1000\n",
            "5/5 [==============================] - 0s 4ms/step - loss: 0.1289 - accuracy: 0.9551\n",
            "Epoch 811/1000\n",
            "5/5 [==============================] - 0s 3ms/step - loss: 0.1289 - accuracy: 0.9551\n",
            "Epoch 812/1000\n",
            "5/5 [==============================] - 0s 3ms/step - loss: 0.1288 - accuracy: 0.9551\n",
            "Epoch 813/1000\n",
            "5/5 [==============================] - 0s 3ms/step - loss: 0.1287 - accuracy: 0.9551\n",
            "Epoch 814/1000\n",
            "5/5 [==============================] - 0s 3ms/step - loss: 0.1288 - accuracy: 0.9551\n",
            "Epoch 815/1000\n",
            "5/5 [==============================] - 0s 3ms/step - loss: 0.1287 - accuracy: 0.9551\n",
            "Epoch 816/1000\n",
            "5/5 [==============================] - 0s 3ms/step - loss: 0.1285 - accuracy: 0.9551\n",
            "Epoch 817/1000\n",
            "5/5 [==============================] - 0s 4ms/step - loss: 0.1285 - accuracy: 0.9551\n",
            "Epoch 818/1000\n",
            "5/5 [==============================] - 0s 3ms/step - loss: 0.1284 - accuracy: 0.9551\n",
            "Epoch 819/1000\n",
            "5/5 [==============================] - 0s 3ms/step - loss: 0.1284 - accuracy: 0.9551\n",
            "Epoch 820/1000\n",
            "5/5 [==============================] - 0s 3ms/step - loss: 0.1283 - accuracy: 0.9551\n",
            "Epoch 821/1000\n",
            "5/5 [==============================] - 0s 5ms/step - loss: 0.1283 - accuracy: 0.9551\n",
            "Epoch 822/1000\n",
            "5/5 [==============================] - 0s 3ms/step - loss: 0.1283 - accuracy: 0.9551\n",
            "Epoch 823/1000\n",
            "5/5 [==============================] - 0s 5ms/step - loss: 0.1281 - accuracy: 0.9551\n",
            "Epoch 824/1000\n",
            "5/5 [==============================] - 0s 3ms/step - loss: 0.1280 - accuracy: 0.9551\n",
            "Epoch 825/1000\n",
            "5/5 [==============================] - 0s 3ms/step - loss: 0.1281 - accuracy: 0.9551\n",
            "Epoch 826/1000\n",
            "5/5 [==============================] - 0s 3ms/step - loss: 0.1279 - accuracy: 0.9551\n",
            "Epoch 827/1000\n",
            "5/5 [==============================] - 0s 3ms/step - loss: 0.1278 - accuracy: 0.9551\n",
            "Epoch 828/1000\n",
            "5/5 [==============================] - 0s 4ms/step - loss: 0.1278 - accuracy: 0.9551\n",
            "Epoch 829/1000\n",
            "5/5 [==============================] - 0s 3ms/step - loss: 0.1276 - accuracy: 0.9551\n",
            "Epoch 830/1000\n",
            "5/5 [==============================] - 0s 4ms/step - loss: 0.1275 - accuracy: 0.9551\n",
            "Epoch 831/1000\n",
            "5/5 [==============================] - 0s 4ms/step - loss: 0.1274 - accuracy: 0.9551\n",
            "Epoch 832/1000\n",
            "5/5 [==============================] - 0s 3ms/step - loss: 0.1273 - accuracy: 0.9551\n",
            "Epoch 833/1000\n",
            "5/5 [==============================] - 0s 4ms/step - loss: 0.1273 - accuracy: 0.9551\n",
            "Epoch 834/1000\n",
            "5/5 [==============================] - 0s 3ms/step - loss: 0.1269 - accuracy: 0.9551\n",
            "Epoch 835/1000\n",
            "5/5 [==============================] - 0s 4ms/step - loss: 0.1268 - accuracy: 0.9551\n",
            "Epoch 836/1000\n",
            "5/5 [==============================] - 0s 3ms/step - loss: 0.1269 - accuracy: 0.9551\n",
            "Epoch 837/1000\n",
            "5/5 [==============================] - 0s 3ms/step - loss: 0.1263 - accuracy: 0.9551\n",
            "Epoch 838/1000\n",
            "5/5 [==============================] - 0s 3ms/step - loss: 0.1265 - accuracy: 0.9551\n",
            "Epoch 839/1000\n",
            "5/5 [==============================] - 0s 3ms/step - loss: 0.1258 - accuracy: 0.9551\n",
            "Epoch 840/1000\n",
            "5/5 [==============================] - 0s 3ms/step - loss: 0.1260 - accuracy: 0.9551\n",
            "Epoch 841/1000\n",
            "5/5 [==============================] - 0s 3ms/step - loss: 0.1249 - accuracy: 0.9551\n",
            "Epoch 842/1000\n",
            "5/5 [==============================] - 0s 3ms/step - loss: 0.1246 - accuracy: 0.9551\n",
            "Epoch 843/1000\n",
            "5/5 [==============================] - 0s 3ms/step - loss: 0.1243 - accuracy: 0.9551\n",
            "Epoch 844/1000\n",
            "5/5 [==============================] - 0s 4ms/step - loss: 0.1232 - accuracy: 0.9551\n",
            "Epoch 845/1000\n",
            "5/5 [==============================] - 0s 3ms/step - loss: 0.1230 - accuracy: 0.9551\n",
            "Epoch 846/1000\n",
            "5/5 [==============================] - 0s 4ms/step - loss: 0.1221 - accuracy: 0.9551\n",
            "Epoch 847/1000\n",
            "5/5 [==============================] - 0s 3ms/step - loss: 0.1214 - accuracy: 0.9615\n",
            "Epoch 848/1000\n",
            "5/5 [==============================] - 0s 3ms/step - loss: 0.1210 - accuracy: 0.9551\n",
            "Epoch 849/1000\n",
            "5/5 [==============================] - 0s 5ms/step - loss: 0.1205 - accuracy: 0.9551\n",
            "Epoch 850/1000\n",
            "5/5 [==============================] - 0s 4ms/step - loss: 0.1205 - accuracy: 0.9551\n",
            "Epoch 851/1000\n",
            "5/5 [==============================] - 0s 4ms/step - loss: 0.1194 - accuracy: 0.9615\n",
            "Epoch 852/1000\n",
            "5/5 [==============================] - 0s 3ms/step - loss: 0.1190 - accuracy: 0.9615\n",
            "Epoch 853/1000\n",
            "5/5 [==============================] - 0s 3ms/step - loss: 0.1184 - accuracy: 0.9615\n",
            "Epoch 854/1000\n",
            "5/5 [==============================] - 0s 3ms/step - loss: 0.1185 - accuracy: 0.9615\n",
            "Epoch 855/1000\n",
            "5/5 [==============================] - 0s 4ms/step - loss: 0.1183 - accuracy: 0.9615\n",
            "Epoch 856/1000\n",
            "5/5 [==============================] - 0s 4ms/step - loss: 0.1179 - accuracy: 0.9615\n",
            "Epoch 857/1000\n",
            "5/5 [==============================] - 0s 3ms/step - loss: 0.1176 - accuracy: 0.9615\n",
            "Epoch 858/1000\n",
            "5/5 [==============================] - 0s 3ms/step - loss: 0.1171 - accuracy: 0.9615\n",
            "Epoch 859/1000\n",
            "5/5 [==============================] - 0s 3ms/step - loss: 0.1175 - accuracy: 0.9615\n",
            "Epoch 860/1000\n",
            "5/5 [==============================] - 0s 4ms/step - loss: 0.1165 - accuracy: 0.9615\n",
            "Epoch 861/1000\n",
            "5/5 [==============================] - 0s 3ms/step - loss: 0.1161 - accuracy: 0.9615\n",
            "Epoch 862/1000\n",
            "5/5 [==============================] - 0s 4ms/step - loss: 0.1158 - accuracy: 0.9615\n",
            "Epoch 863/1000\n",
            "5/5 [==============================] - 0s 3ms/step - loss: 0.1157 - accuracy: 0.9615\n",
            "Epoch 864/1000\n",
            "5/5 [==============================] - 0s 3ms/step - loss: 0.1155 - accuracy: 0.9615\n",
            "Epoch 865/1000\n",
            "5/5 [==============================] - 0s 3ms/step - loss: 0.1151 - accuracy: 0.9615\n",
            "Epoch 866/1000\n",
            "5/5 [==============================] - 0s 3ms/step - loss: 0.1149 - accuracy: 0.9615\n",
            "Epoch 867/1000\n",
            "5/5 [==============================] - 0s 3ms/step - loss: 0.1144 - accuracy: 0.9615\n",
            "Epoch 868/1000\n",
            "5/5 [==============================] - 0s 3ms/step - loss: 0.1140 - accuracy: 0.9615\n",
            "Epoch 869/1000\n",
            "5/5 [==============================] - 0s 3ms/step - loss: 0.1135 - accuracy: 0.9615\n",
            "Epoch 870/1000\n",
            "5/5 [==============================] - 0s 3ms/step - loss: 0.1136 - accuracy: 0.9615\n",
            "Epoch 871/1000\n",
            "5/5 [==============================] - 0s 4ms/step - loss: 0.1130 - accuracy: 0.9679\n",
            "Epoch 872/1000\n",
            "5/5 [==============================] - 0s 3ms/step - loss: 0.1126 - accuracy: 0.9679\n",
            "Epoch 873/1000\n",
            "5/5 [==============================] - 0s 3ms/step - loss: 0.1131 - accuracy: 0.9615\n",
            "Epoch 874/1000\n",
            "5/5 [==============================] - 0s 3ms/step - loss: 0.1117 - accuracy: 0.9679\n",
            "Epoch 875/1000\n",
            "5/5 [==============================] - 0s 3ms/step - loss: 0.1110 - accuracy: 0.9679\n",
            "Epoch 876/1000\n",
            "5/5 [==============================] - 0s 3ms/step - loss: 0.1116 - accuracy: 0.9679\n",
            "Epoch 877/1000\n",
            "5/5 [==============================] - 0s 3ms/step - loss: 0.1109 - accuracy: 0.9679\n",
            "Epoch 878/1000\n",
            "5/5 [==============================] - 0s 3ms/step - loss: 0.1108 - accuracy: 0.9679\n",
            "Epoch 879/1000\n",
            "5/5 [==============================] - 0s 3ms/step - loss: 0.1103 - accuracy: 0.9679\n",
            "Epoch 880/1000\n",
            "5/5 [==============================] - 0s 3ms/step - loss: 0.1096 - accuracy: 0.9679\n",
            "Epoch 881/1000\n",
            "5/5 [==============================] - 0s 3ms/step - loss: 0.1098 - accuracy: 0.9679\n",
            "Epoch 882/1000\n",
            "5/5 [==============================] - 0s 3ms/step - loss: 0.1091 - accuracy: 0.9679\n",
            "Epoch 883/1000\n",
            "5/5 [==============================] - 0s 3ms/step - loss: 0.1090 - accuracy: 0.9679\n",
            "Epoch 884/1000\n",
            "5/5 [==============================] - 0s 3ms/step - loss: 0.1095 - accuracy: 0.9679\n",
            "Epoch 885/1000\n",
            "5/5 [==============================] - 0s 3ms/step - loss: 0.1087 - accuracy: 0.9679\n",
            "Epoch 886/1000\n",
            "5/5 [==============================] - 0s 3ms/step - loss: 0.1082 - accuracy: 0.9679\n",
            "Epoch 887/1000\n",
            "5/5 [==============================] - 0s 3ms/step - loss: 0.1081 - accuracy: 0.9679\n",
            "Epoch 888/1000\n",
            "5/5 [==============================] - 0s 3ms/step - loss: 0.1080 - accuracy: 0.9679\n",
            "Epoch 889/1000\n",
            "5/5 [==============================] - 0s 4ms/step - loss: 0.1078 - accuracy: 0.9679\n",
            "Epoch 890/1000\n",
            "5/5 [==============================] - 0s 3ms/step - loss: 0.1078 - accuracy: 0.9679\n",
            "Epoch 891/1000\n",
            "5/5 [==============================] - 0s 3ms/step - loss: 0.1077 - accuracy: 0.9679\n",
            "Epoch 892/1000\n",
            "5/5 [==============================] - 0s 4ms/step - loss: 0.1073 - accuracy: 0.9679\n",
            "Epoch 893/1000\n",
            "5/5 [==============================] - 0s 4ms/step - loss: 0.1072 - accuracy: 0.9679\n",
            "Epoch 894/1000\n",
            "5/5 [==============================] - 0s 5ms/step - loss: 0.1071 - accuracy: 0.9679\n",
            "Epoch 895/1000\n",
            "5/5 [==============================] - 0s 5ms/step - loss: 0.1069 - accuracy: 0.9679\n",
            "Epoch 896/1000\n",
            "5/5 [==============================] - 0s 5ms/step - loss: 0.1067 - accuracy: 0.9679\n",
            "Epoch 897/1000\n",
            "5/5 [==============================] - 0s 4ms/step - loss: 0.1067 - accuracy: 0.9679\n",
            "Epoch 898/1000\n",
            "5/5 [==============================] - 0s 4ms/step - loss: 0.1067 - accuracy: 0.9679\n",
            "Epoch 899/1000\n",
            "5/5 [==============================] - 0s 4ms/step - loss: 0.1065 - accuracy: 0.9679\n",
            "Epoch 900/1000\n",
            "5/5 [==============================] - 0s 4ms/step - loss: 0.1063 - accuracy: 0.9679\n",
            "Epoch 901/1000\n",
            "5/5 [==============================] - 0s 4ms/step - loss: 0.1063 - accuracy: 0.9679\n",
            "Epoch 902/1000\n",
            "5/5 [==============================] - 0s 4ms/step - loss: 0.1061 - accuracy: 0.9679\n",
            "Epoch 903/1000\n",
            "5/5 [==============================] - 0s 4ms/step - loss: 0.1061 - accuracy: 0.9679\n",
            "Epoch 904/1000\n",
            "5/5 [==============================] - 0s 5ms/step - loss: 0.1059 - accuracy: 0.9679\n",
            "Epoch 905/1000\n",
            "5/5 [==============================] - 0s 4ms/step - loss: 0.1060 - accuracy: 0.9679\n",
            "Epoch 906/1000\n",
            "5/5 [==============================] - 0s 4ms/step - loss: 0.1058 - accuracy: 0.9679\n",
            "Epoch 907/1000\n",
            "5/5 [==============================] - 0s 4ms/step - loss: 0.1057 - accuracy: 0.9679\n",
            "Epoch 908/1000\n",
            "5/5 [==============================] - 0s 3ms/step - loss: 0.1056 - accuracy: 0.9679\n",
            "Epoch 909/1000\n",
            "5/5 [==============================] - 0s 3ms/step - loss: 0.1056 - accuracy: 0.9679\n",
            "Epoch 910/1000\n",
            "5/5 [==============================] - 0s 3ms/step - loss: 0.1054 - accuracy: 0.9679\n",
            "Epoch 911/1000\n",
            "5/5 [==============================] - 0s 3ms/step - loss: 0.1054 - accuracy: 0.9679\n",
            "Epoch 912/1000\n",
            "5/5 [==============================] - 0s 3ms/step - loss: 0.1053 - accuracy: 0.9679\n",
            "Epoch 913/1000\n",
            "5/5 [==============================] - 0s 3ms/step - loss: 0.1052 - accuracy: 0.9679\n",
            "Epoch 914/1000\n",
            "5/5 [==============================] - 0s 3ms/step - loss: 0.1051 - accuracy: 0.9679\n",
            "Epoch 915/1000\n",
            "5/5 [==============================] - 0s 4ms/step - loss: 0.1051 - accuracy: 0.9679\n",
            "Epoch 916/1000\n",
            "5/5 [==============================] - 0s 4ms/step - loss: 0.1050 - accuracy: 0.9679\n",
            "Epoch 917/1000\n",
            "5/5 [==============================] - 0s 4ms/step - loss: 0.1050 - accuracy: 0.9679\n",
            "Epoch 918/1000\n",
            "5/5 [==============================] - 0s 3ms/step - loss: 0.1048 - accuracy: 0.9679\n",
            "Epoch 919/1000\n",
            "5/5 [==============================] - 0s 3ms/step - loss: 0.1048 - accuracy: 0.9679\n",
            "Epoch 920/1000\n",
            "5/5 [==============================] - 0s 3ms/step - loss: 0.1047 - accuracy: 0.9679\n",
            "Epoch 921/1000\n",
            "5/5 [==============================] - 0s 3ms/step - loss: 0.1047 - accuracy: 0.9679\n",
            "Epoch 922/1000\n",
            "5/5 [==============================] - 0s 3ms/step - loss: 0.1046 - accuracy: 0.9679\n",
            "Epoch 923/1000\n",
            "5/5 [==============================] - 0s 3ms/step - loss: 0.1045 - accuracy: 0.9679\n",
            "Epoch 924/1000\n",
            "5/5 [==============================] - 0s 3ms/step - loss: 0.1045 - accuracy: 0.9679\n",
            "Epoch 925/1000\n",
            "5/5 [==============================] - 0s 3ms/step - loss: 0.1044 - accuracy: 0.9679\n",
            "Epoch 926/1000\n",
            "5/5 [==============================] - 0s 3ms/step - loss: 0.1044 - accuracy: 0.9679\n",
            "Epoch 927/1000\n",
            "5/5 [==============================] - 0s 3ms/step - loss: 0.1044 - accuracy: 0.9679\n",
            "Epoch 928/1000\n",
            "5/5 [==============================] - 0s 4ms/step - loss: 0.1043 - accuracy: 0.9679\n",
            "Epoch 929/1000\n",
            "5/5 [==============================] - 0s 3ms/step - loss: 0.1042 - accuracy: 0.9679\n",
            "Epoch 930/1000\n",
            "5/5 [==============================] - 0s 3ms/step - loss: 0.1041 - accuracy: 0.9679\n",
            "Epoch 931/1000\n",
            "5/5 [==============================] - 0s 4ms/step - loss: 0.1041 - accuracy: 0.9679\n",
            "Epoch 932/1000\n",
            "5/5 [==============================] - 0s 5ms/step - loss: 0.1040 - accuracy: 0.9679\n",
            "Epoch 933/1000\n",
            "5/5 [==============================] - 0s 3ms/step - loss: 0.1039 - accuracy: 0.9679\n",
            "Epoch 934/1000\n",
            "5/5 [==============================] - 0s 3ms/step - loss: 0.1039 - accuracy: 0.9679\n",
            "Epoch 935/1000\n",
            "5/5 [==============================] - 0s 3ms/step - loss: 0.1038 - accuracy: 0.9679\n",
            "Epoch 936/1000\n",
            "5/5 [==============================] - 0s 3ms/step - loss: 0.1038 - accuracy: 0.9679\n",
            "Epoch 937/1000\n",
            "5/5 [==============================] - 0s 3ms/step - loss: 0.1037 - accuracy: 0.9679\n",
            "Epoch 938/1000\n",
            "5/5 [==============================] - 0s 3ms/step - loss: 0.1036 - accuracy: 0.9679\n",
            "Epoch 939/1000\n",
            "5/5 [==============================] - 0s 3ms/step - loss: 0.1036 - accuracy: 0.9679\n",
            "Epoch 940/1000\n",
            "5/5 [==============================] - 0s 4ms/step - loss: 0.1036 - accuracy: 0.9679\n",
            "Epoch 941/1000\n",
            "5/5 [==============================] - 0s 4ms/step - loss: 0.1036 - accuracy: 0.9679\n",
            "Epoch 942/1000\n",
            "5/5 [==============================] - 0s 5ms/step - loss: 0.1034 - accuracy: 0.9679\n",
            "Epoch 943/1000\n",
            "5/5 [==============================] - 0s 5ms/step - loss: 0.1034 - accuracy: 0.9679\n",
            "Epoch 944/1000\n",
            "5/5 [==============================] - 0s 5ms/step - loss: 0.1033 - accuracy: 0.9679\n",
            "Epoch 945/1000\n",
            "5/5 [==============================] - 0s 4ms/step - loss: 0.1033 - accuracy: 0.9679\n",
            "Epoch 946/1000\n",
            "5/5 [==============================] - 0s 3ms/step - loss: 0.1031 - accuracy: 0.9679\n",
            "Epoch 947/1000\n",
            "5/5 [==============================] - 0s 3ms/step - loss: 0.1031 - accuracy: 0.9679\n",
            "Epoch 948/1000\n",
            "5/5 [==============================] - 0s 4ms/step - loss: 0.1031 - accuracy: 0.9679\n",
            "Epoch 949/1000\n",
            "5/5 [==============================] - 0s 3ms/step - loss: 0.1030 - accuracy: 0.9679\n",
            "Epoch 950/1000\n",
            "5/5 [==============================] - 0s 4ms/step - loss: 0.1029 - accuracy: 0.9679\n",
            "Epoch 951/1000\n",
            "5/5 [==============================] - 0s 3ms/step - loss: 0.1028 - accuracy: 0.9679\n",
            "Epoch 952/1000\n",
            "5/5 [==============================] - 0s 3ms/step - loss: 0.1028 - accuracy: 0.9679\n",
            "Epoch 953/1000\n",
            "5/5 [==============================] - 0s 3ms/step - loss: 0.1027 - accuracy: 0.9679\n",
            "Epoch 954/1000\n",
            "5/5 [==============================] - 0s 4ms/step - loss: 0.1027 - accuracy: 0.9679\n",
            "Epoch 955/1000\n",
            "5/5 [==============================] - 0s 4ms/step - loss: 0.1026 - accuracy: 0.9679\n",
            "Epoch 956/1000\n",
            "5/5 [==============================] - 0s 4ms/step - loss: 0.1024 - accuracy: 0.9679\n",
            "Epoch 957/1000\n",
            "5/5 [==============================] - 0s 5ms/step - loss: 0.1023 - accuracy: 0.9679\n",
            "Epoch 958/1000\n",
            "5/5 [==============================] - 0s 3ms/step - loss: 0.1023 - accuracy: 0.9679\n",
            "Epoch 959/1000\n",
            "5/5 [==============================] - 0s 3ms/step - loss: 0.1022 - accuracy: 0.9679\n",
            "Epoch 960/1000\n",
            "5/5 [==============================] - 0s 3ms/step - loss: 0.1021 - accuracy: 0.9679\n",
            "Epoch 961/1000\n",
            "5/5 [==============================] - 0s 3ms/step - loss: 0.1020 - accuracy: 0.9679\n",
            "Epoch 962/1000\n",
            "5/5 [==============================] - 0s 5ms/step - loss: 0.1018 - accuracy: 0.9679\n",
            "Epoch 963/1000\n",
            "5/5 [==============================] - 0s 3ms/step - loss: 0.1018 - accuracy: 0.9679\n",
            "Epoch 964/1000\n",
            "5/5 [==============================] - 0s 4ms/step - loss: 0.1015 - accuracy: 0.9679\n",
            "Epoch 965/1000\n",
            "5/5 [==============================] - 0s 4ms/step - loss: 0.1013 - accuracy: 0.9679\n",
            "Epoch 966/1000\n",
            "5/5 [==============================] - 0s 3ms/step - loss: 0.1011 - accuracy: 0.9679\n",
            "Epoch 967/1000\n",
            "5/5 [==============================] - 0s 3ms/step - loss: 0.1009 - accuracy: 0.9679\n",
            "Epoch 968/1000\n",
            "5/5 [==============================] - 0s 3ms/step - loss: 0.1013 - accuracy: 0.9679\n",
            "Epoch 969/1000\n",
            "5/5 [==============================] - 0s 4ms/step - loss: 0.1007 - accuracy: 0.9679\n",
            "Epoch 970/1000\n",
            "5/5 [==============================] - 0s 3ms/step - loss: 0.1000 - accuracy: 0.9679\n",
            "Epoch 971/1000\n",
            "5/5 [==============================] - 0s 4ms/step - loss: 0.0995 - accuracy: 0.9679\n",
            "Epoch 972/1000\n",
            "5/5 [==============================] - 0s 4ms/step - loss: 0.0996 - accuracy: 0.9679\n",
            "Epoch 973/1000\n",
            "5/5 [==============================] - 0s 4ms/step - loss: 0.0987 - accuracy: 0.9679\n",
            "Epoch 974/1000\n",
            "5/5 [==============================] - 0s 4ms/step - loss: 0.0987 - accuracy: 0.9679\n",
            "Epoch 975/1000\n",
            "5/5 [==============================] - 0s 4ms/step - loss: 0.0975 - accuracy: 0.9744\n",
            "Epoch 976/1000\n",
            "5/5 [==============================] - 0s 4ms/step - loss: 0.0965 - accuracy: 0.9744\n",
            "Epoch 977/1000\n",
            "5/5 [==============================] - 0s 4ms/step - loss: 0.0969 - accuracy: 0.9679\n",
            "Epoch 978/1000\n",
            "5/5 [==============================] - 0s 4ms/step - loss: 0.0965 - accuracy: 0.9679\n",
            "Epoch 979/1000\n",
            "5/5 [==============================] - 0s 3ms/step - loss: 0.0953 - accuracy: 0.9744\n",
            "Epoch 980/1000\n",
            "5/5 [==============================] - 0s 4ms/step - loss: 0.0955 - accuracy: 0.9744\n",
            "Epoch 981/1000\n",
            "5/5 [==============================] - 0s 4ms/step - loss: 0.0945 - accuracy: 0.9744\n",
            "Epoch 982/1000\n",
            "5/5 [==============================] - 0s 4ms/step - loss: 0.0940 - accuracy: 0.9744\n",
            "Epoch 983/1000\n",
            "5/5 [==============================] - 0s 4ms/step - loss: 0.0936 - accuracy: 0.9744\n",
            "Epoch 984/1000\n",
            "5/5 [==============================] - 0s 4ms/step - loss: 0.0937 - accuracy: 0.9744\n",
            "Epoch 985/1000\n",
            "5/5 [==============================] - 0s 4ms/step - loss: 0.0932 - accuracy: 0.9744\n",
            "Epoch 986/1000\n",
            "5/5 [==============================] - 0s 4ms/step - loss: 0.0933 - accuracy: 0.9744\n",
            "Epoch 987/1000\n",
            "5/5 [==============================] - 0s 5ms/step - loss: 0.0927 - accuracy: 0.9744\n",
            "Epoch 988/1000\n",
            "5/5 [==============================] - 0s 3ms/step - loss: 0.0926 - accuracy: 0.9744\n",
            "Epoch 989/1000\n",
            "5/5 [==============================] - 0s 4ms/step - loss: 0.0926 - accuracy: 0.9744\n",
            "Epoch 990/1000\n",
            "5/5 [==============================] - 0s 4ms/step - loss: 0.0922 - accuracy: 0.9744\n",
            "Epoch 991/1000\n",
            "5/5 [==============================] - 0s 3ms/step - loss: 0.0922 - accuracy: 0.9744\n",
            "Epoch 992/1000\n",
            "5/5 [==============================] - 0s 3ms/step - loss: 0.0919 - accuracy: 0.9744\n",
            "Epoch 993/1000\n",
            "5/5 [==============================] - 0s 3ms/step - loss: 0.0918 - accuracy: 0.9744\n",
            "Epoch 994/1000\n",
            "5/5 [==============================] - 0s 3ms/step - loss: 0.0917 - accuracy: 0.9744\n",
            "Epoch 995/1000\n",
            "5/5 [==============================] - 0s 3ms/step - loss: 0.0915 - accuracy: 0.9744\n",
            "Epoch 996/1000\n",
            "5/5 [==============================] - 0s 3ms/step - loss: 0.0914 - accuracy: 0.9744\n",
            "Epoch 997/1000\n",
            "5/5 [==============================] - 0s 3ms/step - loss: 0.0913 - accuracy: 0.9744\n",
            "Epoch 998/1000\n",
            "5/5 [==============================] - 0s 3ms/step - loss: 0.0912 - accuracy: 0.9744\n",
            "Epoch 999/1000\n",
            "5/5 [==============================] - 0s 3ms/step - loss: 0.0911 - accuracy: 0.9744\n",
            "Epoch 1000/1000\n",
            "5/5 [==============================] - 0s 3ms/step - loss: 0.0911 - accuracy: 0.9744\n"
          ]
        },
        {
          "output_type": "execute_result",
          "data": {
            "text/plain": [
              "<keras.callbacks.History at 0x7ff4a7da54d0>"
            ]
          },
          "metadata": {},
          "execution_count": 67
        }
      ]
    },
    {
      "cell_type": "code",
      "source": [
        "model7.evaluate(X_test,Y_test)"
      ],
      "metadata": {
        "colab": {
          "base_uri": "https://localhost:8080/"
        },
        "id": "X5jVINhXUeLc",
        "outputId": "69dd8863-12c3-4613-8b00-c42bef62dd42"
      },
      "execution_count": null,
      "outputs": [
        {
          "output_type": "stream",
          "name": "stdout",
          "text": [
            "2/2 [==============================] - 0s 5ms/step - loss: 0.2294 - accuracy: 0.9487\n"
          ]
        },
        {
          "output_type": "execute_result",
          "data": {
            "text/plain": [
              "[0.22940754890441895, 0.9487179517745972]"
            ]
          },
          "metadata": {},
          "execution_count": 68
        }
      ]
    },
    {
      "cell_type": "code",
      "source": [
        "prednn = model7.predict(X_test)\n",
        "prednn\n",
        "for i,j in enumerate(prednn):\n",
        "  if(j<0.5):\n",
        "    prednn[i]=0\n",
        "  else:\n",
        "    prednn[i]=1\n",
        "prednn.reshape(1,39)\n",
        "predd = prednn.flatten()\n",
        "print(predd)\n",
        "(Y_test)  "
      ],
      "metadata": {
        "colab": {
          "base_uri": "https://localhost:8080/"
        },
        "id": "qrImeqh9zfYQ",
        "outputId": "cceeb5f3-b72b-425d-b1dc-dde07c2ff399"
      },
      "execution_count": null,
      "outputs": [
        {
          "output_type": "stream",
          "name": "stdout",
          "text": [
            "[1. 1. 1. 1. 0. 1. 0. 1. 1. 1. 0. 1. 1. 1. 1. 0. 1. 1. 1. 1. 1. 0. 0. 1.\n",
            " 1. 1. 1. 1. 0. 0. 1. 1. 1. 0. 1. 1. 0. 1. 0.]\n"
          ]
        },
        {
          "output_type": "execute_result",
          "data": {
            "text/plain": [
              "array([1, 1, 1, 1, 0, 1, 0, 1, 1, 1, 1, 1, 1, 1, 1, 0, 1, 1, 1, 1, 1, 0,\n",
              "       0, 1, 1, 1, 1, 1, 0, 0, 1, 1, 1, 0, 0, 1, 0, 1, 0])"
            ]
          },
          "metadata": {},
          "execution_count": 69
        }
      ]
    },
    {
      "cell_type": "code",
      "source": [
        "from sklearn.metrics import confusion_matrix\n",
        "import seaborn as sn\n",
        "cm=confusion_matrix(Y_test,predd)\n",
        "plt.figure(figsize=(10,8))\n",
        "fg=sn.heatmap(cm,annot=True,cmap='Reds')\n",
        "figure=fg.get_figure()\n",
        "figure.savefig('Neural network.jpg', dpi=500)\n",
        "plt.xlabel(\"Predicted\")\n",
        "plt.ylabel(\"Truth\")\n",
        "plt.show()"
      ],
      "metadata": {
        "colab": {
          "base_uri": "https://localhost:8080/",
          "height": 497
        },
        "id": "QxgkLSLAzfro",
        "outputId": "c48e66c0-1e49-4503-fc7b-e143d926bc1b"
      },
      "execution_count": null,
      "outputs": [
        {
          "output_type": "display_data",
          "data": {
            "text/plain": [
              "<Figure size 720x576 with 2 Axes>"
            ],
            "image/png": "[encoded data removed]"
          },
          "metadata": {
            "needs_background": "light"
          }
        }
      ]
    },
    {
      "cell_type": "code",
      "source": [
        ""
      ],
      "metadata": {
        "id": "UvkZ7vyy26n4"
      },
      "execution_count": null,
      "outputs": []
    }
  ]
}